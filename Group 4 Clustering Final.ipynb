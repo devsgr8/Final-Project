{
 "cells": [
  {
   "cell_type": "code",
   "execution_count": 821,
   "id": "0c4f05f4",
   "metadata": {},
   "outputs": [],
   "source": [
    "import pandas as pd\n",
    "import numpy as np\n",
    "import matplotlib.pyplot as plt\n",
    "from sklearn.cluster import KMeans\n",
    "from sklearn.preprocessing import StandardScaler"
   ]
  },
  {
   "cell_type": "code",
   "execution_count": 822,
   "id": "87c438df",
   "metadata": {},
   "outputs": [
    {
     "data": {
      "text/html": [
       "<div>\n",
       "<style scoped>\n",
       "    .dataframe tbody tr th:only-of-type {\n",
       "        vertical-align: middle;\n",
       "    }\n",
       "\n",
       "    .dataframe tbody tr th {\n",
       "        vertical-align: top;\n",
       "    }\n",
       "\n",
       "    .dataframe thead th {\n",
       "        text-align: right;\n",
       "    }\n",
       "</style>\n",
       "<table border=\"1\" class=\"dataframe\">\n",
       "  <thead>\n",
       "    <tr style=\"text-align: right;\">\n",
       "      <th></th>\n",
       "      <th>pol_number</th>\n",
       "      <th>pol_eff_dt</th>\n",
       "      <th>gender</th>\n",
       "      <th>agecat</th>\n",
       "      <th>date_of_birth</th>\n",
       "      <th>credit_score</th>\n",
       "      <th>area</th>\n",
       "      <th>traffic_index</th>\n",
       "      <th>veh_age</th>\n",
       "      <th>veh_body</th>\n",
       "      <th>veh_value</th>\n",
       "      <th>claim_office</th>\n",
       "      <th>numclaims</th>\n",
       "      <th>claimcst0</th>\n",
       "      <th>annual_premium</th>\n",
       "      <th>Gender</th>\n",
       "    </tr>\n",
       "  </thead>\n",
       "  <tbody>\n",
       "    <tr>\n",
       "      <th>0</th>\n",
       "      <td>43124327</td>\n",
       "      <td>12/30/2020</td>\n",
       "      <td>F</td>\n",
       "      <td>4.0</td>\n",
       "      <td>07/12/68</td>\n",
       "      <td>381.0</td>\n",
       "      <td>D</td>\n",
       "      <td>133.6</td>\n",
       "      <td>2</td>\n",
       "      <td>HBACK</td>\n",
       "      <td>1.331</td>\n",
       "      <td>NaN</td>\n",
       "      <td>0</td>\n",
       "      <td>0.0</td>\n",
       "      <td>716.53</td>\n",
       "      <td>1</td>\n",
       "    </tr>\n",
       "    <tr>\n",
       "      <th>1</th>\n",
       "      <td>21919609</td>\n",
       "      <td>12/30/2020</td>\n",
       "      <td>F</td>\n",
       "      <td>2.0</td>\n",
       "      <td>11/05/82</td>\n",
       "      <td>549.0</td>\n",
       "      <td>D</td>\n",
       "      <td>163.6</td>\n",
       "      <td>1</td>\n",
       "      <td>UTE</td>\n",
       "      <td>3.740</td>\n",
       "      <td>NaN</td>\n",
       "      <td>0</td>\n",
       "      <td>0.0</td>\n",
       "      <td>716.53</td>\n",
       "      <td>1</td>\n",
       "    </tr>\n",
       "    <tr>\n",
       "      <th>2</th>\n",
       "      <td>72577057</td>\n",
       "      <td>12/30/2020</td>\n",
       "      <td>M</td>\n",
       "      <td>2.0</td>\n",
       "      <td>11/26/1983</td>\n",
       "      <td>649.0</td>\n",
       "      <td>B</td>\n",
       "      <td>117.5</td>\n",
       "      <td>4</td>\n",
       "      <td>COUPE</td>\n",
       "      <td>0.880</td>\n",
       "      <td>NaN</td>\n",
       "      <td>0</td>\n",
       "      <td>0.0</td>\n",
       "      <td>716.53</td>\n",
       "      <td>0</td>\n",
       "    </tr>\n",
       "    <tr>\n",
       "      <th>3</th>\n",
       "      <td>92175225</td>\n",
       "      <td>12/30/2020</td>\n",
       "      <td>M</td>\n",
       "      <td>4.0</td>\n",
       "      <td>11/02/60</td>\n",
       "      <td>743.0</td>\n",
       "      <td>B</td>\n",
       "      <td>100.7</td>\n",
       "      <td>3</td>\n",
       "      <td>SEDAN</td>\n",
       "      <td>1.045</td>\n",
       "      <td>NaN</td>\n",
       "      <td>0</td>\n",
       "      <td>0.0</td>\n",
       "      <td>716.53</td>\n",
       "      <td>0</td>\n",
       "    </tr>\n",
       "    <tr>\n",
       "      <th>4</th>\n",
       "      <td>66223239</td>\n",
       "      <td>12/30/2020</td>\n",
       "      <td>F</td>\n",
       "      <td>4.0</td>\n",
       "      <td>01/04/68</td>\n",
       "      <td>817.0</td>\n",
       "      <td>C</td>\n",
       "      <td>115.5</td>\n",
       "      <td>4</td>\n",
       "      <td>HBACK</td>\n",
       "      <td>0.473</td>\n",
       "      <td>NaN</td>\n",
       "      <td>0</td>\n",
       "      <td>0.0</td>\n",
       "      <td>716.53</td>\n",
       "      <td>1</td>\n",
       "    </tr>\n",
       "  </tbody>\n",
       "</table>\n",
       "</div>"
      ],
      "text/plain": [
       "   pol_number  pol_eff_dt gender  agecat date_of_birth  credit_score area  \\\n",
       "0    43124327  12/30/2020      F     4.0      07/12/68         381.0    D   \n",
       "1    21919609  12/30/2020      F     2.0      11/05/82         549.0    D   \n",
       "2    72577057  12/30/2020      M     2.0    11/26/1983         649.0    B   \n",
       "3    92175225  12/30/2020      M     4.0      11/02/60         743.0    B   \n",
       "4    66223239  12/30/2020      F     4.0      01/04/68         817.0    C   \n",
       "\n",
       "   traffic_index  veh_age veh_body  veh_value claim_office  numclaims  \\\n",
       "0          133.6        2    HBACK      1.331          NaN          0   \n",
       "1          163.6        1      UTE      3.740          NaN          0   \n",
       "2          117.5        4    COUPE      0.880          NaN          0   \n",
       "3          100.7        3    SEDAN      1.045          NaN          0   \n",
       "4          115.5        4    HBACK      0.473          NaN          0   \n",
       "\n",
       "   claimcst0  annual_premium  Gender  \n",
       "0        0.0          716.53       1  \n",
       "1        0.0          716.53       1  \n",
       "2        0.0          716.53       0  \n",
       "3        0.0          716.53       0  \n",
       "4        0.0          716.53       1  "
      ]
     },
     "execution_count": 822,
     "metadata": {},
     "output_type": "execute_result"
    }
   ],
   "source": [
    "df=pd.read_csv(\"/Users/prince/Downloads/Vehicle_policies_2020.csv\")\n",
    "df.head(5)"
   ]
  },
  {
   "cell_type": "code",
   "execution_count": 823,
   "id": "0ddf287a",
   "metadata": {},
   "outputs": [
    {
     "data": {
      "text/plain": [
       "Index(['pol_number', 'pol_eff_dt', 'gender', 'agecat', 'date_of_birth',\n",
       "       'credit_score', 'area', 'traffic_index', 'veh_age', 'veh_body',\n",
       "       'veh_value', 'claim_office', 'numclaims', 'claimcst0', 'annual_premium',\n",
       "       'Gender'],\n",
       "      dtype='object')"
      ]
     },
     "execution_count": 823,
     "metadata": {},
     "output_type": "execute_result"
    }
   ],
   "source": [
    "df.columns"
   ]
  },
  {
   "cell_type": "code",
   "execution_count": 824,
   "id": "5c200695",
   "metadata": {},
   "outputs": [
    {
     "data": {
      "text/plain": [
       "0        43124327\n",
       "1        21919609\n",
       "2        72577057\n",
       "3        92175225\n",
       "4        66223239\n",
       "           ...   \n",
       "60387    73248694\n",
       "60388    71411764\n",
       "60389    89353155\n",
       "60390    40916605\n",
       "60391    33623054\n",
       "Name: pol_number, Length: 60392, dtype: int64"
      ]
     },
     "execution_count": 824,
     "metadata": {},
     "output_type": "execute_result"
    }
   ],
   "source": [
    "df.iloc[:,0]"
   ]
  },
  {
   "cell_type": "code",
   "execution_count": 825,
   "id": "c03840e2",
   "metadata": {},
   "outputs": [],
   "source": [
    "columns= df.columns"
   ]
  },
  {
   "cell_type": "code",
   "execution_count": 826,
   "id": "db677a26",
   "metadata": {},
   "outputs": [
    {
     "data": {
      "text/plain": [
       "pol_number            0\n",
       "pol_eff_dt            0\n",
       "gender                0\n",
       "agecat             4831\n",
       "date_of_birth         0\n",
       "credit_score       2801\n",
       "area                  0\n",
       "traffic_index      3503\n",
       "veh_age               0\n",
       "veh_body              0\n",
       "veh_value             0\n",
       "claim_office      50362\n",
       "numclaims             0\n",
       "claimcst0             0\n",
       "annual_premium        0\n",
       "Gender                0\n",
       "dtype: int64"
      ]
     },
     "execution_count": 826,
     "metadata": {},
     "output_type": "execute_result"
    }
   ],
   "source": [
    "df.isna().sum()"
   ]
  },
  {
   "cell_type": "code",
   "execution_count": 827,
   "id": "94cf0500",
   "metadata": {},
   "outputs": [
    {
     "name": "stdout",
     "output_type": "stream",
     "text": [
      "<class 'pandas.core.frame.DataFrame'>\n",
      "RangeIndex: 60392 entries, 0 to 60391\n",
      "Data columns (total 16 columns):\n",
      " #   Column          Non-Null Count  Dtype  \n",
      "---  ------          --------------  -----  \n",
      " 0   pol_number      60392 non-null  int64  \n",
      " 1   pol_eff_dt      60392 non-null  object \n",
      " 2   gender          60392 non-null  object \n",
      " 3   agecat          55561 non-null  float64\n",
      " 4   date_of_birth   60392 non-null  object \n",
      " 5   credit_score    57591 non-null  float64\n",
      " 6   area            60392 non-null  object \n",
      " 7   traffic_index   56889 non-null  float64\n",
      " 8   veh_age         60392 non-null  int64  \n",
      " 9   veh_body        60392 non-null  object \n",
      " 10  veh_value       60392 non-null  float64\n",
      " 11  claim_office    10030 non-null  object \n",
      " 12  numclaims       60392 non-null  int64  \n",
      " 13  claimcst0       60392 non-null  float64\n",
      " 14  annual_premium  60392 non-null  float64\n",
      " 15  Gender          60392 non-null  int64  \n",
      "dtypes: float64(6), int64(4), object(6)\n",
      "memory usage: 7.4+ MB\n"
     ]
    }
   ],
   "source": [
    "df.info()"
   ]
  },
  {
   "cell_type": "code",
   "execution_count": 828,
   "id": "03c24028",
   "metadata": {},
   "outputs": [
    {
     "data": {
      "text/plain": [
       "(60392, 16)"
      ]
     },
     "execution_count": 828,
     "metadata": {},
     "output_type": "execute_result"
    }
   ],
   "source": [
    "df.shape"
   ]
  },
  {
   "cell_type": "code",
   "execution_count": 829,
   "id": "2f811dee",
   "metadata": {},
   "outputs": [],
   "source": [
    "v1=lambda x:float(x[1:-1])"
   ]
  },
  {
   "cell_type": "code",
   "execution_count": 830,
   "id": "3b7db782",
   "metadata": {},
   "outputs": [],
   "source": [
    "df= df.drop(['gender'],axis=1)"
   ]
  },
  {
   "cell_type": "code",
   "execution_count": 831,
   "id": "18568035",
   "metadata": {},
   "outputs": [],
   "source": [
    "df.iloc[:,0]=df.iloc[:,0].astype('category')\n",
    "df.iloc[:,0]=df.iloc[:,0].cat.codes"
   ]
  },
  {
   "cell_type": "code",
   "execution_count": 832,
   "id": "eccc77c0",
   "metadata": {},
   "outputs": [],
   "source": [
    "df.dropna(inplace=True)"
   ]
  },
  {
   "cell_type": "code",
   "execution_count": 833,
   "id": "c2d6fb96",
   "metadata": {},
   "outputs": [
    {
     "name": "stdout",
     "output_type": "stream",
     "text": [
      "<class 'pandas.core.frame.DataFrame'>\n",
      "Int64Index: 8123 entries, 15 to 60375\n",
      "Data columns (total 15 columns):\n",
      " #   Column          Non-Null Count  Dtype  \n",
      "---  ------          --------------  -----  \n",
      " 0   pol_number      8123 non-null   int32  \n",
      " 1   pol_eff_dt      8123 non-null   object \n",
      " 2   agecat          8123 non-null   float64\n",
      " 3   date_of_birth   8123 non-null   object \n",
      " 4   credit_score    8123 non-null   float64\n",
      " 5   area            8123 non-null   object \n",
      " 6   traffic_index   8123 non-null   float64\n",
      " 7   veh_age         8123 non-null   int64  \n",
      " 8   veh_body        8123 non-null   object \n",
      " 9   veh_value       8123 non-null   float64\n",
      " 10  claim_office    8123 non-null   object \n",
      " 11  numclaims       8123 non-null   int64  \n",
      " 12  claimcst0       8123 non-null   float64\n",
      " 13  annual_premium  8123 non-null   float64\n",
      " 14  Gender          8123 non-null   int64  \n",
      "dtypes: float64(6), int32(1), int64(3), object(5)\n",
      "memory usage: 983.6+ KB\n"
     ]
    }
   ],
   "source": [
    "df.info()"
   ]
  },
  {
   "cell_type": "code",
   "execution_count": 834,
   "id": "cef5dc3b",
   "metadata": {},
   "outputs": [],
   "source": [
    "df.pol_eff_dt= pd.to_datetime(df.pol_eff_dt)"
   ]
  },
  {
   "cell_type": "code",
   "execution_count": 835,
   "id": "4b269040",
   "metadata": {},
   "outputs": [],
   "source": [
    "df.date_of_birth= pd.to_datetime(df.date_of_birth)"
   ]
  },
  {
   "cell_type": "code",
   "execution_count": 836,
   "id": "b14bd62b",
   "metadata": {},
   "outputs": [
    {
     "data": {
      "text/html": [
       "<div>\n",
       "<style scoped>\n",
       "    .dataframe tbody tr th:only-of-type {\n",
       "        vertical-align: middle;\n",
       "    }\n",
       "\n",
       "    .dataframe tbody tr th {\n",
       "        vertical-align: top;\n",
       "    }\n",
       "\n",
       "    .dataframe thead th {\n",
       "        text-align: right;\n",
       "    }\n",
       "</style>\n",
       "<table border=\"1\" class=\"dataframe\">\n",
       "  <thead>\n",
       "    <tr style=\"text-align: right;\">\n",
       "      <th></th>\n",
       "      <th>index</th>\n",
       "      <th>pol_number</th>\n",
       "      <th>pol_eff_dt</th>\n",
       "      <th>agecat</th>\n",
       "      <th>date_of_birth</th>\n",
       "      <th>credit_score</th>\n",
       "      <th>area</th>\n",
       "      <th>traffic_index</th>\n",
       "      <th>veh_age</th>\n",
       "      <th>veh_body</th>\n",
       "      <th>veh_value</th>\n",
       "      <th>numclaims</th>\n",
       "      <th>claimcst0</th>\n",
       "      <th>annual_premium</th>\n",
       "      <th>Gender</th>\n",
       "    </tr>\n",
       "  </thead>\n",
       "  <tbody>\n",
       "    <tr>\n",
       "      <th>0</th>\n",
       "      <td>15</td>\n",
       "      <td>52173</td>\n",
       "      <td>2020-12-30</td>\n",
       "      <td>5.0</td>\n",
       "      <td>2057-08-07</td>\n",
       "      <td>584.0</td>\n",
       "      <td>C</td>\n",
       "      <td>105.0</td>\n",
       "      <td>3</td>\n",
       "      <td>SEDAN</td>\n",
       "      <td>1.5290</td>\n",
       "      <td>1</td>\n",
       "      <td>1120.833360</td>\n",
       "      <td>716.53</td>\n",
       "      <td>0</td>\n",
       "    </tr>\n",
       "    <tr>\n",
       "      <th>1</th>\n",
       "      <td>18</td>\n",
       "      <td>31510</td>\n",
       "      <td>2020-12-30</td>\n",
       "      <td>3.0</td>\n",
       "      <td>1977-04-25</td>\n",
       "      <td>396.0</td>\n",
       "      <td>E</td>\n",
       "      <td>25.5</td>\n",
       "      <td>4</td>\n",
       "      <td>UTE</td>\n",
       "      <td>1.6500</td>\n",
       "      <td>2</td>\n",
       "      <td>4548.075015</td>\n",
       "      <td>716.53</td>\n",
       "      <td>0</td>\n",
       "    </tr>\n",
       "    <tr>\n",
       "      <th>2</th>\n",
       "      <td>28</td>\n",
       "      <td>6039</td>\n",
       "      <td>2020-12-30</td>\n",
       "      <td>4.0</td>\n",
       "      <td>1965-06-14</td>\n",
       "      <td>347.0</td>\n",
       "      <td>B</td>\n",
       "      <td>136.3</td>\n",
       "      <td>3</td>\n",
       "      <td>SEDAN</td>\n",
       "      <td>1.6170</td>\n",
       "      <td>1</td>\n",
       "      <td>2265.262185</td>\n",
       "      <td>716.53</td>\n",
       "      <td>1</td>\n",
       "    </tr>\n",
       "    <tr>\n",
       "      <th>3</th>\n",
       "      <td>30</td>\n",
       "      <td>54349</td>\n",
       "      <td>2020-12-30</td>\n",
       "      <td>2.0</td>\n",
       "      <td>1980-04-11</td>\n",
       "      <td>431.0</td>\n",
       "      <td>C</td>\n",
       "      <td>111.0</td>\n",
       "      <td>1</td>\n",
       "      <td>HBACK</td>\n",
       "      <td>2.4178</td>\n",
       "      <td>3</td>\n",
       "      <td>6616.971570</td>\n",
       "      <td>716.53</td>\n",
       "      <td>1</td>\n",
       "    </tr>\n",
       "    <tr>\n",
       "      <th>4</th>\n",
       "      <td>39</td>\n",
       "      <td>57294</td>\n",
       "      <td>2020-12-30</td>\n",
       "      <td>4.0</td>\n",
       "      <td>1968-11-16</td>\n",
       "      <td>798.0</td>\n",
       "      <td>B</td>\n",
       "      <td>129.6</td>\n",
       "      <td>4</td>\n",
       "      <td>SEDAN</td>\n",
       "      <td>1.1880</td>\n",
       "      <td>2</td>\n",
       "      <td>225.489518</td>\n",
       "      <td>716.53</td>\n",
       "      <td>1</td>\n",
       "    </tr>\n",
       "  </tbody>\n",
       "</table>\n",
       "</div>"
      ],
      "text/plain": [
       "   index  pol_number pol_eff_dt  agecat date_of_birth  credit_score area  \\\n",
       "0     15       52173 2020-12-30     5.0    2057-08-07         584.0    C   \n",
       "1     18       31510 2020-12-30     3.0    1977-04-25         396.0    E   \n",
       "2     28        6039 2020-12-30     4.0    1965-06-14         347.0    B   \n",
       "3     30       54349 2020-12-30     2.0    1980-04-11         431.0    C   \n",
       "4     39       57294 2020-12-30     4.0    1968-11-16         798.0    B   \n",
       "\n",
       "   traffic_index  veh_age veh_body  veh_value  numclaims    claimcst0  \\\n",
       "0          105.0        3    SEDAN     1.5290          1  1120.833360   \n",
       "1           25.5        4      UTE     1.6500          2  4548.075015   \n",
       "2          136.3        3    SEDAN     1.6170          1  2265.262185   \n",
       "3          111.0        1    HBACK     2.4178          3  6616.971570   \n",
       "4          129.6        4    SEDAN     1.1880          2   225.489518   \n",
       "\n",
       "   annual_premium  Gender  \n",
       "0          716.53       0  \n",
       "1          716.53       0  \n",
       "2          716.53       1  \n",
       "3          716.53       1  \n",
       "4          716.53       1  "
      ]
     },
     "execution_count": 836,
     "metadata": {},
     "output_type": "execute_result"
    }
   ],
   "source": [
    "df.reset_index(inplace=True)\n",
    "df.drop('claim_office', inplace=True, axis=1)\n",
    "df.head()"
   ]
  },
  {
   "cell_type": "code",
   "execution_count": 837,
   "id": "864eaa79",
   "metadata": {},
   "outputs": [
    {
     "data": {
      "text/html": [
       "<div>\n",
       "<style scoped>\n",
       "    .dataframe tbody tr th:only-of-type {\n",
       "        vertical-align: middle;\n",
       "    }\n",
       "\n",
       "    .dataframe tbody tr th {\n",
       "        vertical-align: top;\n",
       "    }\n",
       "\n",
       "    .dataframe thead th {\n",
       "        text-align: right;\n",
       "    }\n",
       "</style>\n",
       "<table border=\"1\" class=\"dataframe\">\n",
       "  <thead>\n",
       "    <tr style=\"text-align: right;\">\n",
       "      <th></th>\n",
       "      <th>level_0</th>\n",
       "      <th>index</th>\n",
       "      <th>pol_number</th>\n",
       "      <th>agecat</th>\n",
       "      <th>date_of_birth</th>\n",
       "      <th>credit_score</th>\n",
       "      <th>area</th>\n",
       "      <th>traffic_index</th>\n",
       "      <th>veh_age</th>\n",
       "      <th>veh_body</th>\n",
       "      <th>veh_value</th>\n",
       "      <th>numclaims</th>\n",
       "      <th>claimcst0</th>\n",
       "      <th>annual_premium</th>\n",
       "      <th>Gender</th>\n",
       "    </tr>\n",
       "  </thead>\n",
       "  <tbody>\n",
       "    <tr>\n",
       "      <th>0</th>\n",
       "      <td>0</td>\n",
       "      <td>15</td>\n",
       "      <td>52173</td>\n",
       "      <td>5.0</td>\n",
       "      <td>2057-08-07</td>\n",
       "      <td>584.0</td>\n",
       "      <td>C</td>\n",
       "      <td>105.0</td>\n",
       "      <td>3</td>\n",
       "      <td>SEDAN</td>\n",
       "      <td>1.5290</td>\n",
       "      <td>1</td>\n",
       "      <td>1120.833360</td>\n",
       "      <td>716.53</td>\n",
       "      <td>0</td>\n",
       "    </tr>\n",
       "    <tr>\n",
       "      <th>1</th>\n",
       "      <td>1</td>\n",
       "      <td>18</td>\n",
       "      <td>31510</td>\n",
       "      <td>3.0</td>\n",
       "      <td>1977-04-25</td>\n",
       "      <td>396.0</td>\n",
       "      <td>E</td>\n",
       "      <td>25.5</td>\n",
       "      <td>4</td>\n",
       "      <td>UTE</td>\n",
       "      <td>1.6500</td>\n",
       "      <td>2</td>\n",
       "      <td>4548.075015</td>\n",
       "      <td>716.53</td>\n",
       "      <td>0</td>\n",
       "    </tr>\n",
       "    <tr>\n",
       "      <th>2</th>\n",
       "      <td>2</td>\n",
       "      <td>28</td>\n",
       "      <td>6039</td>\n",
       "      <td>4.0</td>\n",
       "      <td>1965-06-14</td>\n",
       "      <td>347.0</td>\n",
       "      <td>B</td>\n",
       "      <td>136.3</td>\n",
       "      <td>3</td>\n",
       "      <td>SEDAN</td>\n",
       "      <td>1.6170</td>\n",
       "      <td>1</td>\n",
       "      <td>2265.262185</td>\n",
       "      <td>716.53</td>\n",
       "      <td>1</td>\n",
       "    </tr>\n",
       "    <tr>\n",
       "      <th>3</th>\n",
       "      <td>3</td>\n",
       "      <td>30</td>\n",
       "      <td>54349</td>\n",
       "      <td>2.0</td>\n",
       "      <td>1980-04-11</td>\n",
       "      <td>431.0</td>\n",
       "      <td>C</td>\n",
       "      <td>111.0</td>\n",
       "      <td>1</td>\n",
       "      <td>HBACK</td>\n",
       "      <td>2.4178</td>\n",
       "      <td>3</td>\n",
       "      <td>6616.971570</td>\n",
       "      <td>716.53</td>\n",
       "      <td>1</td>\n",
       "    </tr>\n",
       "    <tr>\n",
       "      <th>4</th>\n",
       "      <td>4</td>\n",
       "      <td>39</td>\n",
       "      <td>57294</td>\n",
       "      <td>4.0</td>\n",
       "      <td>1968-11-16</td>\n",
       "      <td>798.0</td>\n",
       "      <td>B</td>\n",
       "      <td>129.6</td>\n",
       "      <td>4</td>\n",
       "      <td>SEDAN</td>\n",
       "      <td>1.1880</td>\n",
       "      <td>2</td>\n",
       "      <td>225.489518</td>\n",
       "      <td>716.53</td>\n",
       "      <td>1</td>\n",
       "    </tr>\n",
       "  </tbody>\n",
       "</table>\n",
       "</div>"
      ],
      "text/plain": [
       "   level_0  index  pol_number  agecat date_of_birth  credit_score area  \\\n",
       "0        0     15       52173     5.0    2057-08-07         584.0    C   \n",
       "1        1     18       31510     3.0    1977-04-25         396.0    E   \n",
       "2        2     28        6039     4.0    1965-06-14         347.0    B   \n",
       "3        3     30       54349     2.0    1980-04-11         431.0    C   \n",
       "4        4     39       57294     4.0    1968-11-16         798.0    B   \n",
       "\n",
       "   traffic_index  veh_age veh_body  veh_value  numclaims    claimcst0  \\\n",
       "0          105.0        3    SEDAN     1.5290          1  1120.833360   \n",
       "1           25.5        4      UTE     1.6500          2  4548.075015   \n",
       "2          136.3        3    SEDAN     1.6170          1  2265.262185   \n",
       "3          111.0        1    HBACK     2.4178          3  6616.971570   \n",
       "4          129.6        4    SEDAN     1.1880          2   225.489518   \n",
       "\n",
       "   annual_premium  Gender  \n",
       "0          716.53       0  \n",
       "1          716.53       0  \n",
       "2          716.53       1  \n",
       "3          716.53       1  \n",
       "4          716.53       1  "
      ]
     },
     "execution_count": 837,
     "metadata": {},
     "output_type": "execute_result"
    }
   ],
   "source": [
    "df.reset_index(inplace=True)\n",
    "df.drop('pol_eff_dt', inplace=True, axis=1)\n",
    "df.head()"
   ]
  },
  {
   "cell_type": "code",
   "execution_count": 838,
   "id": "507863de",
   "metadata": {},
   "outputs": [
    {
     "data": {
      "text/html": [
       "<div>\n",
       "<style scoped>\n",
       "    .dataframe tbody tr th:only-of-type {\n",
       "        vertical-align: middle;\n",
       "    }\n",
       "\n",
       "    .dataframe tbody tr th {\n",
       "        vertical-align: top;\n",
       "    }\n",
       "\n",
       "    .dataframe thead th {\n",
       "        text-align: right;\n",
       "    }\n",
       "</style>\n",
       "<table border=\"1\" class=\"dataframe\">\n",
       "  <thead>\n",
       "    <tr style=\"text-align: right;\">\n",
       "      <th></th>\n",
       "      <th>level_0</th>\n",
       "      <th>index</th>\n",
       "      <th>pol_number</th>\n",
       "      <th>agecat</th>\n",
       "      <th>credit_score</th>\n",
       "      <th>area</th>\n",
       "      <th>traffic_index</th>\n",
       "      <th>veh_age</th>\n",
       "      <th>veh_body</th>\n",
       "      <th>veh_value</th>\n",
       "      <th>numclaims</th>\n",
       "      <th>claimcst0</th>\n",
       "      <th>annual_premium</th>\n",
       "      <th>Gender</th>\n",
       "    </tr>\n",
       "  </thead>\n",
       "  <tbody>\n",
       "    <tr>\n",
       "      <th>0</th>\n",
       "      <td>0</td>\n",
       "      <td>15</td>\n",
       "      <td>52173</td>\n",
       "      <td>5.0</td>\n",
       "      <td>584.0</td>\n",
       "      <td>C</td>\n",
       "      <td>105.0</td>\n",
       "      <td>3</td>\n",
       "      <td>SEDAN</td>\n",
       "      <td>1.5290</td>\n",
       "      <td>1</td>\n",
       "      <td>1120.833360</td>\n",
       "      <td>716.53</td>\n",
       "      <td>0</td>\n",
       "    </tr>\n",
       "    <tr>\n",
       "      <th>1</th>\n",
       "      <td>1</td>\n",
       "      <td>18</td>\n",
       "      <td>31510</td>\n",
       "      <td>3.0</td>\n",
       "      <td>396.0</td>\n",
       "      <td>E</td>\n",
       "      <td>25.5</td>\n",
       "      <td>4</td>\n",
       "      <td>UTE</td>\n",
       "      <td>1.6500</td>\n",
       "      <td>2</td>\n",
       "      <td>4548.075015</td>\n",
       "      <td>716.53</td>\n",
       "      <td>0</td>\n",
       "    </tr>\n",
       "    <tr>\n",
       "      <th>2</th>\n",
       "      <td>2</td>\n",
       "      <td>28</td>\n",
       "      <td>6039</td>\n",
       "      <td>4.0</td>\n",
       "      <td>347.0</td>\n",
       "      <td>B</td>\n",
       "      <td>136.3</td>\n",
       "      <td>3</td>\n",
       "      <td>SEDAN</td>\n",
       "      <td>1.6170</td>\n",
       "      <td>1</td>\n",
       "      <td>2265.262185</td>\n",
       "      <td>716.53</td>\n",
       "      <td>1</td>\n",
       "    </tr>\n",
       "    <tr>\n",
       "      <th>3</th>\n",
       "      <td>3</td>\n",
       "      <td>30</td>\n",
       "      <td>54349</td>\n",
       "      <td>2.0</td>\n",
       "      <td>431.0</td>\n",
       "      <td>C</td>\n",
       "      <td>111.0</td>\n",
       "      <td>1</td>\n",
       "      <td>HBACK</td>\n",
       "      <td>2.4178</td>\n",
       "      <td>3</td>\n",
       "      <td>6616.971570</td>\n",
       "      <td>716.53</td>\n",
       "      <td>1</td>\n",
       "    </tr>\n",
       "    <tr>\n",
       "      <th>4</th>\n",
       "      <td>4</td>\n",
       "      <td>39</td>\n",
       "      <td>57294</td>\n",
       "      <td>4.0</td>\n",
       "      <td>798.0</td>\n",
       "      <td>B</td>\n",
       "      <td>129.6</td>\n",
       "      <td>4</td>\n",
       "      <td>SEDAN</td>\n",
       "      <td>1.1880</td>\n",
       "      <td>2</td>\n",
       "      <td>225.489518</td>\n",
       "      <td>716.53</td>\n",
       "      <td>1</td>\n",
       "    </tr>\n",
       "  </tbody>\n",
       "</table>\n",
       "</div>"
      ],
      "text/plain": [
       "   level_0  index  pol_number  agecat  credit_score area  traffic_index  \\\n",
       "0        0     15       52173     5.0         584.0    C          105.0   \n",
       "1        1     18       31510     3.0         396.0    E           25.5   \n",
       "2        2     28        6039     4.0         347.0    B          136.3   \n",
       "3        3     30       54349     2.0         431.0    C          111.0   \n",
       "4        4     39       57294     4.0         798.0    B          129.6   \n",
       "\n",
       "   veh_age veh_body  veh_value  numclaims    claimcst0  annual_premium  Gender  \n",
       "0        3    SEDAN     1.5290          1  1120.833360          716.53       0  \n",
       "1        4      UTE     1.6500          2  4548.075015          716.53       0  \n",
       "2        3    SEDAN     1.6170          1  2265.262185          716.53       1  \n",
       "3        1    HBACK     2.4178          3  6616.971570          716.53       1  \n",
       "4        4    SEDAN     1.1880          2   225.489518          716.53       1  "
      ]
     },
     "execution_count": 838,
     "metadata": {},
     "output_type": "execute_result"
    }
   ],
   "source": [
    "df.drop('date_of_birth', inplace=True, axis=1)\n",
    "df.head()"
   ]
  },
  {
   "cell_type": "code",
   "execution_count": 839,
   "id": "b81d128a",
   "metadata": {},
   "outputs": [],
   "source": [
    "def tran_area(x):\n",
    "    if x=='A':\n",
    "        return 5\n",
    "    if x=='B':\n",
    "        return 6\n",
    "    if x=='C':\n",
    "        return 7\n",
    "    if x=='D':\n",
    "        return 8\n",
    "    if x=='E':\n",
    "        return 9\n",
    "    if x=='F':\n",
    "        return 10"
   ]
  },
  {
   "cell_type": "code",
   "execution_count": 840,
   "id": "efeed2d4",
   "metadata": {},
   "outputs": [],
   "source": [
    "df['tran_area']=df['area'].apply(tran_area)"
   ]
  },
  {
   "cell_type": "code",
   "execution_count": 841,
   "id": "320177c4",
   "metadata": {},
   "outputs": [
    {
     "data": {
      "text/html": [
       "<div>\n",
       "<style scoped>\n",
       "    .dataframe tbody tr th:only-of-type {\n",
       "        vertical-align: middle;\n",
       "    }\n",
       "\n",
       "    .dataframe tbody tr th {\n",
       "        vertical-align: top;\n",
       "    }\n",
       "\n",
       "    .dataframe thead th {\n",
       "        text-align: right;\n",
       "    }\n",
       "</style>\n",
       "<table border=\"1\" class=\"dataframe\">\n",
       "  <thead>\n",
       "    <tr style=\"text-align: right;\">\n",
       "      <th></th>\n",
       "      <th>level_0</th>\n",
       "      <th>index</th>\n",
       "      <th>pol_number</th>\n",
       "      <th>agecat</th>\n",
       "      <th>credit_score</th>\n",
       "      <th>area</th>\n",
       "      <th>traffic_index</th>\n",
       "      <th>veh_age</th>\n",
       "      <th>veh_body</th>\n",
       "      <th>veh_value</th>\n",
       "      <th>numclaims</th>\n",
       "      <th>claimcst0</th>\n",
       "      <th>annual_premium</th>\n",
       "      <th>Gender</th>\n",
       "      <th>tran_area</th>\n",
       "    </tr>\n",
       "  </thead>\n",
       "  <tbody>\n",
       "    <tr>\n",
       "      <th>0</th>\n",
       "      <td>0</td>\n",
       "      <td>15</td>\n",
       "      <td>52173</td>\n",
       "      <td>5.0</td>\n",
       "      <td>584.0</td>\n",
       "      <td>C</td>\n",
       "      <td>105.0</td>\n",
       "      <td>3</td>\n",
       "      <td>SEDAN</td>\n",
       "      <td>1.5290</td>\n",
       "      <td>1</td>\n",
       "      <td>1120.833360</td>\n",
       "      <td>716.53</td>\n",
       "      <td>0</td>\n",
       "      <td>7</td>\n",
       "    </tr>\n",
       "    <tr>\n",
       "      <th>1</th>\n",
       "      <td>1</td>\n",
       "      <td>18</td>\n",
       "      <td>31510</td>\n",
       "      <td>3.0</td>\n",
       "      <td>396.0</td>\n",
       "      <td>E</td>\n",
       "      <td>25.5</td>\n",
       "      <td>4</td>\n",
       "      <td>UTE</td>\n",
       "      <td>1.6500</td>\n",
       "      <td>2</td>\n",
       "      <td>4548.075015</td>\n",
       "      <td>716.53</td>\n",
       "      <td>0</td>\n",
       "      <td>9</td>\n",
       "    </tr>\n",
       "    <tr>\n",
       "      <th>2</th>\n",
       "      <td>2</td>\n",
       "      <td>28</td>\n",
       "      <td>6039</td>\n",
       "      <td>4.0</td>\n",
       "      <td>347.0</td>\n",
       "      <td>B</td>\n",
       "      <td>136.3</td>\n",
       "      <td>3</td>\n",
       "      <td>SEDAN</td>\n",
       "      <td>1.6170</td>\n",
       "      <td>1</td>\n",
       "      <td>2265.262185</td>\n",
       "      <td>716.53</td>\n",
       "      <td>1</td>\n",
       "      <td>6</td>\n",
       "    </tr>\n",
       "    <tr>\n",
       "      <th>3</th>\n",
       "      <td>3</td>\n",
       "      <td>30</td>\n",
       "      <td>54349</td>\n",
       "      <td>2.0</td>\n",
       "      <td>431.0</td>\n",
       "      <td>C</td>\n",
       "      <td>111.0</td>\n",
       "      <td>1</td>\n",
       "      <td>HBACK</td>\n",
       "      <td>2.4178</td>\n",
       "      <td>3</td>\n",
       "      <td>6616.971570</td>\n",
       "      <td>716.53</td>\n",
       "      <td>1</td>\n",
       "      <td>7</td>\n",
       "    </tr>\n",
       "    <tr>\n",
       "      <th>4</th>\n",
       "      <td>4</td>\n",
       "      <td>39</td>\n",
       "      <td>57294</td>\n",
       "      <td>4.0</td>\n",
       "      <td>798.0</td>\n",
       "      <td>B</td>\n",
       "      <td>129.6</td>\n",
       "      <td>4</td>\n",
       "      <td>SEDAN</td>\n",
       "      <td>1.1880</td>\n",
       "      <td>2</td>\n",
       "      <td>225.489518</td>\n",
       "      <td>716.53</td>\n",
       "      <td>1</td>\n",
       "      <td>6</td>\n",
       "    </tr>\n",
       "    <tr>\n",
       "      <th>...</th>\n",
       "      <td>...</td>\n",
       "      <td>...</td>\n",
       "      <td>...</td>\n",
       "      <td>...</td>\n",
       "      <td>...</td>\n",
       "      <td>...</td>\n",
       "      <td>...</td>\n",
       "      <td>...</td>\n",
       "      <td>...</td>\n",
       "      <td>...</td>\n",
       "      <td>...</td>\n",
       "      <td>...</td>\n",
       "      <td>...</td>\n",
       "      <td>...</td>\n",
       "      <td>...</td>\n",
       "    </tr>\n",
       "    <tr>\n",
       "      <th>8118</th>\n",
       "      <td>8118</td>\n",
       "      <td>60348</td>\n",
       "      <td>37277</td>\n",
       "      <td>6.0</td>\n",
       "      <td>637.0</td>\n",
       "      <td>B</td>\n",
       "      <td>109.0</td>\n",
       "      <td>2</td>\n",
       "      <td>HBACK</td>\n",
       "      <td>1.2760</td>\n",
       "      <td>1</td>\n",
       "      <td>467.640398</td>\n",
       "      <td>716.53</td>\n",
       "      <td>0</td>\n",
       "      <td>6</td>\n",
       "    </tr>\n",
       "    <tr>\n",
       "      <th>8119</th>\n",
       "      <td>8119</td>\n",
       "      <td>60349</td>\n",
       "      <td>16831</td>\n",
       "      <td>4.0</td>\n",
       "      <td>443.0</td>\n",
       "      <td>C</td>\n",
       "      <td>106.5</td>\n",
       "      <td>4</td>\n",
       "      <td>HBACK</td>\n",
       "      <td>0.9350</td>\n",
       "      <td>1</td>\n",
       "      <td>804.425046</td>\n",
       "      <td>716.53</td>\n",
       "      <td>0</td>\n",
       "      <td>7</td>\n",
       "    </tr>\n",
       "    <tr>\n",
       "      <th>8120</th>\n",
       "      <td>8120</td>\n",
       "      <td>60372</td>\n",
       "      <td>51199</td>\n",
       "      <td>4.0</td>\n",
       "      <td>582.0</td>\n",
       "      <td>C</td>\n",
       "      <td>132.0</td>\n",
       "      <td>4</td>\n",
       "      <td>SEDAN</td>\n",
       "      <td>0.3850</td>\n",
       "      <td>1</td>\n",
       "      <td>490.897473</td>\n",
       "      <td>716.53</td>\n",
       "      <td>0</td>\n",
       "      <td>7</td>\n",
       "    </tr>\n",
       "    <tr>\n",
       "      <th>8121</th>\n",
       "      <td>8121</td>\n",
       "      <td>60373</td>\n",
       "      <td>53558</td>\n",
       "      <td>1.0</td>\n",
       "      <td>610.0</td>\n",
       "      <td>A</td>\n",
       "      <td>76.4</td>\n",
       "      <td>3</td>\n",
       "      <td>HBACK</td>\n",
       "      <td>1.1220</td>\n",
       "      <td>1</td>\n",
       "      <td>402.791766</td>\n",
       "      <td>716.53</td>\n",
       "      <td>0</td>\n",
       "      <td>5</td>\n",
       "    </tr>\n",
       "    <tr>\n",
       "      <th>8122</th>\n",
       "      <td>8122</td>\n",
       "      <td>60375</td>\n",
       "      <td>34494</td>\n",
       "      <td>4.0</td>\n",
       "      <td>602.0</td>\n",
       "      <td>A</td>\n",
       "      <td>63.0</td>\n",
       "      <td>2</td>\n",
       "      <td>UTE</td>\n",
       "      <td>2.7170</td>\n",
       "      <td>1</td>\n",
       "      <td>1162.558306</td>\n",
       "      <td>716.53</td>\n",
       "      <td>0</td>\n",
       "      <td>5</td>\n",
       "    </tr>\n",
       "  </tbody>\n",
       "</table>\n",
       "<p>8123 rows × 15 columns</p>\n",
       "</div>"
      ],
      "text/plain": [
       "      level_0  index  pol_number  agecat  credit_score area  traffic_index  \\\n",
       "0           0     15       52173     5.0         584.0    C          105.0   \n",
       "1           1     18       31510     3.0         396.0    E           25.5   \n",
       "2           2     28        6039     4.0         347.0    B          136.3   \n",
       "3           3     30       54349     2.0         431.0    C          111.0   \n",
       "4           4     39       57294     4.0         798.0    B          129.6   \n",
       "...       ...    ...         ...     ...           ...  ...            ...   \n",
       "8118     8118  60348       37277     6.0         637.0    B          109.0   \n",
       "8119     8119  60349       16831     4.0         443.0    C          106.5   \n",
       "8120     8120  60372       51199     4.0         582.0    C          132.0   \n",
       "8121     8121  60373       53558     1.0         610.0    A           76.4   \n",
       "8122     8122  60375       34494     4.0         602.0    A           63.0   \n",
       "\n",
       "      veh_age veh_body  veh_value  numclaims    claimcst0  annual_premium  \\\n",
       "0           3    SEDAN     1.5290          1  1120.833360          716.53   \n",
       "1           4      UTE     1.6500          2  4548.075015          716.53   \n",
       "2           3    SEDAN     1.6170          1  2265.262185          716.53   \n",
       "3           1    HBACK     2.4178          3  6616.971570          716.53   \n",
       "4           4    SEDAN     1.1880          2   225.489518          716.53   \n",
       "...       ...      ...        ...        ...          ...             ...   \n",
       "8118        2    HBACK     1.2760          1   467.640398          716.53   \n",
       "8119        4    HBACK     0.9350          1   804.425046          716.53   \n",
       "8120        4    SEDAN     0.3850          1   490.897473          716.53   \n",
       "8121        3    HBACK     1.1220          1   402.791766          716.53   \n",
       "8122        2      UTE     2.7170          1  1162.558306          716.53   \n",
       "\n",
       "      Gender  tran_area  \n",
       "0          0          7  \n",
       "1          0          9  \n",
       "2          1          6  \n",
       "3          1          7  \n",
       "4          1          6  \n",
       "...      ...        ...  \n",
       "8118       0          6  \n",
       "8119       0          7  \n",
       "8120       0          7  \n",
       "8121       0          5  \n",
       "8122       0          5  \n",
       "\n",
       "[8123 rows x 15 columns]"
      ]
     },
     "execution_count": 841,
     "metadata": {},
     "output_type": "execute_result"
    }
   ],
   "source": [
    "df"
   ]
  },
  {
   "cell_type": "code",
   "execution_count": 842,
   "id": "7600e874",
   "metadata": {},
   "outputs": [
    {
     "data": {
      "text/html": [
       "<div>\n",
       "<style scoped>\n",
       "    .dataframe tbody tr th:only-of-type {\n",
       "        vertical-align: middle;\n",
       "    }\n",
       "\n",
       "    .dataframe tbody tr th {\n",
       "        vertical-align: top;\n",
       "    }\n",
       "\n",
       "    .dataframe thead th {\n",
       "        text-align: right;\n",
       "    }\n",
       "</style>\n",
       "<table border=\"1\" class=\"dataframe\">\n",
       "  <thead>\n",
       "    <tr style=\"text-align: right;\">\n",
       "      <th></th>\n",
       "      <th>level_0</th>\n",
       "      <th>index</th>\n",
       "      <th>pol_number</th>\n",
       "      <th>agecat</th>\n",
       "      <th>credit_score</th>\n",
       "      <th>traffic_index</th>\n",
       "      <th>veh_age</th>\n",
       "      <th>veh_body</th>\n",
       "      <th>veh_value</th>\n",
       "      <th>numclaims</th>\n",
       "      <th>claimcst0</th>\n",
       "      <th>annual_premium</th>\n",
       "      <th>Gender</th>\n",
       "      <th>tran_area</th>\n",
       "    </tr>\n",
       "  </thead>\n",
       "  <tbody>\n",
       "    <tr>\n",
       "      <th>0</th>\n",
       "      <td>0</td>\n",
       "      <td>15</td>\n",
       "      <td>52173</td>\n",
       "      <td>5.0</td>\n",
       "      <td>584.0</td>\n",
       "      <td>105.0</td>\n",
       "      <td>3</td>\n",
       "      <td>SEDAN</td>\n",
       "      <td>1.5290</td>\n",
       "      <td>1</td>\n",
       "      <td>1120.833360</td>\n",
       "      <td>716.53</td>\n",
       "      <td>0</td>\n",
       "      <td>7</td>\n",
       "    </tr>\n",
       "    <tr>\n",
       "      <th>1</th>\n",
       "      <td>1</td>\n",
       "      <td>18</td>\n",
       "      <td>31510</td>\n",
       "      <td>3.0</td>\n",
       "      <td>396.0</td>\n",
       "      <td>25.5</td>\n",
       "      <td>4</td>\n",
       "      <td>UTE</td>\n",
       "      <td>1.6500</td>\n",
       "      <td>2</td>\n",
       "      <td>4548.075015</td>\n",
       "      <td>716.53</td>\n",
       "      <td>0</td>\n",
       "      <td>9</td>\n",
       "    </tr>\n",
       "    <tr>\n",
       "      <th>2</th>\n",
       "      <td>2</td>\n",
       "      <td>28</td>\n",
       "      <td>6039</td>\n",
       "      <td>4.0</td>\n",
       "      <td>347.0</td>\n",
       "      <td>136.3</td>\n",
       "      <td>3</td>\n",
       "      <td>SEDAN</td>\n",
       "      <td>1.6170</td>\n",
       "      <td>1</td>\n",
       "      <td>2265.262185</td>\n",
       "      <td>716.53</td>\n",
       "      <td>1</td>\n",
       "      <td>6</td>\n",
       "    </tr>\n",
       "    <tr>\n",
       "      <th>3</th>\n",
       "      <td>3</td>\n",
       "      <td>30</td>\n",
       "      <td>54349</td>\n",
       "      <td>2.0</td>\n",
       "      <td>431.0</td>\n",
       "      <td>111.0</td>\n",
       "      <td>1</td>\n",
       "      <td>HBACK</td>\n",
       "      <td>2.4178</td>\n",
       "      <td>3</td>\n",
       "      <td>6616.971570</td>\n",
       "      <td>716.53</td>\n",
       "      <td>1</td>\n",
       "      <td>7</td>\n",
       "    </tr>\n",
       "    <tr>\n",
       "      <th>4</th>\n",
       "      <td>4</td>\n",
       "      <td>39</td>\n",
       "      <td>57294</td>\n",
       "      <td>4.0</td>\n",
       "      <td>798.0</td>\n",
       "      <td>129.6</td>\n",
       "      <td>4</td>\n",
       "      <td>SEDAN</td>\n",
       "      <td>1.1880</td>\n",
       "      <td>2</td>\n",
       "      <td>225.489518</td>\n",
       "      <td>716.53</td>\n",
       "      <td>1</td>\n",
       "      <td>6</td>\n",
       "    </tr>\n",
       "  </tbody>\n",
       "</table>\n",
       "</div>"
      ],
      "text/plain": [
       "   level_0  index  pol_number  agecat  credit_score  traffic_index  veh_age  \\\n",
       "0        0     15       52173     5.0         584.0          105.0        3   \n",
       "1        1     18       31510     3.0         396.0           25.5        4   \n",
       "2        2     28        6039     4.0         347.0          136.3        3   \n",
       "3        3     30       54349     2.0         431.0          111.0        1   \n",
       "4        4     39       57294     4.0         798.0          129.6        4   \n",
       "\n",
       "  veh_body  veh_value  numclaims    claimcst0  annual_premium  Gender  \\\n",
       "0    SEDAN     1.5290          1  1120.833360          716.53       0   \n",
       "1      UTE     1.6500          2  4548.075015          716.53       0   \n",
       "2    SEDAN     1.6170          1  2265.262185          716.53       1   \n",
       "3    HBACK     2.4178          3  6616.971570          716.53       1   \n",
       "4    SEDAN     1.1880          2   225.489518          716.53       1   \n",
       "\n",
       "   tran_area  \n",
       "0          7  \n",
       "1          9  \n",
       "2          6  \n",
       "3          7  \n",
       "4          6  "
      ]
     },
     "execution_count": 842,
     "metadata": {},
     "output_type": "execute_result"
    }
   ],
   "source": [
    "\n",
    "df.drop('area', inplace=True, axis=1)\n",
    "df.head()"
   ]
  },
  {
   "cell_type": "code",
   "execution_count": 843,
   "id": "4aea9df6",
   "metadata": {},
   "outputs": [],
   "source": [
    "def tran_body(x):\n",
    "    if x=='SEDAN':\n",
    "        return 1\n",
    "    if x=='UTE':\n",
    "        return 2\n",
    "    if x=='HBACK':\n",
    "        return 3\n",
    "    if x=='COUPE':\n",
    "        return 4\n",
    "    if x=='HDTOP':\n",
    "        return 5\n",
    "    if x=='STNWG':\n",
    "        return 6\n",
    "    if x=='TRUCK':\n",
    "        return 7\n",
    "    if x=='MIBUS':\n",
    "        return 8\n",
    "    if x=='PANVN':\n",
    "        return 9\n",
    "    if x=='BUS':\n",
    "        return 10\n",
    "    if x=='MCARA':\n",
    "        return 11\n",
    "    if x=='CONVT':\n",
    "        return 12\n",
    "    if x=='RDSTR':\n",
    "        return 13\n",
    "   "
   ]
  },
  {
   "cell_type": "code",
   "execution_count": 844,
   "id": "2dbbadef",
   "metadata": {},
   "outputs": [],
   "source": [
    "df['tran_body']=df['veh_body'].apply(tran_body)"
   ]
  },
  {
   "cell_type": "code",
   "execution_count": 845,
   "id": "4dfd4181",
   "metadata": {},
   "outputs": [
    {
     "data": {
      "text/html": [
       "<div>\n",
       "<style scoped>\n",
       "    .dataframe tbody tr th:only-of-type {\n",
       "        vertical-align: middle;\n",
       "    }\n",
       "\n",
       "    .dataframe tbody tr th {\n",
       "        vertical-align: top;\n",
       "    }\n",
       "\n",
       "    .dataframe thead th {\n",
       "        text-align: right;\n",
       "    }\n",
       "</style>\n",
       "<table border=\"1\" class=\"dataframe\">\n",
       "  <thead>\n",
       "    <tr style=\"text-align: right;\">\n",
       "      <th></th>\n",
       "      <th>level_0</th>\n",
       "      <th>index</th>\n",
       "      <th>pol_number</th>\n",
       "      <th>agecat</th>\n",
       "      <th>credit_score</th>\n",
       "      <th>traffic_index</th>\n",
       "      <th>veh_age</th>\n",
       "      <th>veh_value</th>\n",
       "      <th>numclaims</th>\n",
       "      <th>claimcst0</th>\n",
       "      <th>annual_premium</th>\n",
       "      <th>Gender</th>\n",
       "      <th>tran_area</th>\n",
       "      <th>tran_body</th>\n",
       "    </tr>\n",
       "  </thead>\n",
       "  <tbody>\n",
       "    <tr>\n",
       "      <th>0</th>\n",
       "      <td>0</td>\n",
       "      <td>15</td>\n",
       "      <td>52173</td>\n",
       "      <td>5.0</td>\n",
       "      <td>584.0</td>\n",
       "      <td>105.0</td>\n",
       "      <td>3</td>\n",
       "      <td>1.5290</td>\n",
       "      <td>1</td>\n",
       "      <td>1120.833360</td>\n",
       "      <td>716.53</td>\n",
       "      <td>0</td>\n",
       "      <td>7</td>\n",
       "      <td>1</td>\n",
       "    </tr>\n",
       "    <tr>\n",
       "      <th>1</th>\n",
       "      <td>1</td>\n",
       "      <td>18</td>\n",
       "      <td>31510</td>\n",
       "      <td>3.0</td>\n",
       "      <td>396.0</td>\n",
       "      <td>25.5</td>\n",
       "      <td>4</td>\n",
       "      <td>1.6500</td>\n",
       "      <td>2</td>\n",
       "      <td>4548.075015</td>\n",
       "      <td>716.53</td>\n",
       "      <td>0</td>\n",
       "      <td>9</td>\n",
       "      <td>2</td>\n",
       "    </tr>\n",
       "    <tr>\n",
       "      <th>2</th>\n",
       "      <td>2</td>\n",
       "      <td>28</td>\n",
       "      <td>6039</td>\n",
       "      <td>4.0</td>\n",
       "      <td>347.0</td>\n",
       "      <td>136.3</td>\n",
       "      <td>3</td>\n",
       "      <td>1.6170</td>\n",
       "      <td>1</td>\n",
       "      <td>2265.262185</td>\n",
       "      <td>716.53</td>\n",
       "      <td>1</td>\n",
       "      <td>6</td>\n",
       "      <td>1</td>\n",
       "    </tr>\n",
       "    <tr>\n",
       "      <th>3</th>\n",
       "      <td>3</td>\n",
       "      <td>30</td>\n",
       "      <td>54349</td>\n",
       "      <td>2.0</td>\n",
       "      <td>431.0</td>\n",
       "      <td>111.0</td>\n",
       "      <td>1</td>\n",
       "      <td>2.4178</td>\n",
       "      <td>3</td>\n",
       "      <td>6616.971570</td>\n",
       "      <td>716.53</td>\n",
       "      <td>1</td>\n",
       "      <td>7</td>\n",
       "      <td>3</td>\n",
       "    </tr>\n",
       "    <tr>\n",
       "      <th>4</th>\n",
       "      <td>4</td>\n",
       "      <td>39</td>\n",
       "      <td>57294</td>\n",
       "      <td>4.0</td>\n",
       "      <td>798.0</td>\n",
       "      <td>129.6</td>\n",
       "      <td>4</td>\n",
       "      <td>1.1880</td>\n",
       "      <td>2</td>\n",
       "      <td>225.489518</td>\n",
       "      <td>716.53</td>\n",
       "      <td>1</td>\n",
       "      <td>6</td>\n",
       "      <td>1</td>\n",
       "    </tr>\n",
       "  </tbody>\n",
       "</table>\n",
       "</div>"
      ],
      "text/plain": [
       "   level_0  index  pol_number  agecat  credit_score  traffic_index  veh_age  \\\n",
       "0        0     15       52173     5.0         584.0          105.0        3   \n",
       "1        1     18       31510     3.0         396.0           25.5        4   \n",
       "2        2     28        6039     4.0         347.0          136.3        3   \n",
       "3        3     30       54349     2.0         431.0          111.0        1   \n",
       "4        4     39       57294     4.0         798.0          129.6        4   \n",
       "\n",
       "   veh_value  numclaims    claimcst0  annual_premium  Gender  tran_area  \\\n",
       "0     1.5290          1  1120.833360          716.53       0          7   \n",
       "1     1.6500          2  4548.075015          716.53       0          9   \n",
       "2     1.6170          1  2265.262185          716.53       1          6   \n",
       "3     2.4178          3  6616.971570          716.53       1          7   \n",
       "4     1.1880          2   225.489518          716.53       1          6   \n",
       "\n",
       "   tran_body  \n",
       "0          1  \n",
       "1          2  \n",
       "2          1  \n",
       "3          3  \n",
       "4          1  "
      ]
     },
     "execution_count": 845,
     "metadata": {},
     "output_type": "execute_result"
    }
   ],
   "source": [
    "df.drop('veh_body', inplace=True, axis=1)\n",
    "df.head()"
   ]
  },
  {
   "cell_type": "code",
   "execution_count": 846,
   "id": "27cacd70",
   "metadata": {},
   "outputs": [
    {
     "name": "stdout",
     "output_type": "stream",
     "text": [
      "<class 'pandas.core.frame.DataFrame'>\n",
      "RangeIndex: 8123 entries, 0 to 8122\n",
      "Data columns (total 14 columns):\n",
      " #   Column          Non-Null Count  Dtype  \n",
      "---  ------          --------------  -----  \n",
      " 0   level_0         8123 non-null   int64  \n",
      " 1   index           8123 non-null   int64  \n",
      " 2   pol_number      8123 non-null   int32  \n",
      " 3   agecat          8123 non-null   float64\n",
      " 4   credit_score    8123 non-null   float64\n",
      " 5   traffic_index   8123 non-null   float64\n",
      " 6   veh_age         8123 non-null   int64  \n",
      " 7   veh_value       8123 non-null   float64\n",
      " 8   numclaims       8123 non-null   int64  \n",
      " 9   claimcst0       8123 non-null   float64\n",
      " 10  annual_premium  8123 non-null   float64\n",
      " 11  Gender          8123 non-null   int64  \n",
      " 12  tran_area       8123 non-null   int64  \n",
      " 13  tran_body       8123 non-null   int64  \n",
      "dtypes: float64(6), int32(1), int64(7)\n",
      "memory usage: 856.8 KB\n"
     ]
    }
   ],
   "source": [
    "df.info()"
   ]
  },
  {
   "cell_type": "code",
   "execution_count": 847,
   "id": "5d876ace",
   "metadata": {},
   "outputs": [],
   "source": [
    "scaler = StandardScaler()"
   ]
  },
  {
   "cell_type": "code",
   "execution_count": 848,
   "id": "dafd2851",
   "metadata": {},
   "outputs": [
    {
     "data": {
      "text/plain": [
       "level_0             int64\n",
       "index               int64\n",
       "pol_number          int32\n",
       "agecat            float64\n",
       "credit_score      float64\n",
       "traffic_index     float64\n",
       "veh_age             int64\n",
       "veh_value         float64\n",
       "numclaims           int64\n",
       "claimcst0         float64\n",
       "annual_premium    float64\n",
       "Gender              int64\n",
       "tran_area           int64\n",
       "tran_body           int64\n",
       "dtype: object"
      ]
     },
     "execution_count": 848,
     "metadata": {},
     "output_type": "execute_result"
    }
   ],
   "source": [
    "df.dtypes"
   ]
  },
  {
   "cell_type": "code",
   "execution_count": 883,
   "id": "59c7626e",
   "metadata": {},
   "outputs": [
    {
     "data": {
      "image/png": "[encoded data removed]",
      "text/plain": [
       "<Figure size 864x864 with 2 Axes>"
      ]
     },
     "metadata": {
      "needs_background": "light"
     },
     "output_type": "display_data"
    }
   ],
   "source": [
    "import seaborn as sns\n",
    "plt.figure(figsize=(12,12))\n",
    "sns.heatmap(df.corr(), center=0, annot=True)\n",
    "plt.title(\"Correlation Map\")\n",
    "plt.show()"
   ]
  },
  {
   "cell_type": "code",
   "execution_count": 884,
   "id": "f540780f",
   "metadata": {},
   "outputs": [],
   "source": [
    "df1 = scaler.fit_transform(df)"
   ]
  },
  {
   "cell_type": "code",
   "execution_count": 885,
   "id": "d2f26954",
   "metadata": {},
   "outputs": [
    {
     "data": {
      "text/plain": [
       "level_0             int64\n",
       "index               int64\n",
       "pol_number          int32\n",
       "agecat            float64\n",
       "credit_score      float64\n",
       "traffic_index     float64\n",
       "veh_age             int64\n",
       "veh_value         float64\n",
       "numclaims           int64\n",
       "claimcst0         float64\n",
       "annual_premium    float64\n",
       "Gender              int64\n",
       "tran_area           int64\n",
       "tran_body           int64\n",
       "dtype: object"
      ]
     },
     "execution_count": 885,
     "metadata": {},
     "output_type": "execute_result"
    }
   ],
   "source": [
    "df.dtypes"
   ]
  },
  {
   "cell_type": "code",
   "execution_count": 886,
   "id": "a4abc45a",
   "metadata": {},
   "outputs": [
    {
     "data": {
      "text/plain": [
       "array([[-1.73183759, -1.74025057,  1.26708463, ..., -0.69545163,\n",
       "         0.05676878, -1.08579924],\n",
       "       [-1.73141114, -1.74007772,  0.08262247, ..., -0.69545163,\n",
       "         1.54189843, -0.64502227],\n",
       "       [-1.73098468, -1.73950158, -1.37744797, ...,  1.43791453,\n",
       "        -0.68579605, -1.08579924],\n",
       "       ...,\n",
       "       [ 1.73098468,  1.73719373,  1.21125217, ..., -0.69545163,\n",
       "         0.05676878, -1.08579924],\n",
       "       [ 1.73141114,  1.73725135,  1.34647679, ..., -0.69545163,\n",
       "        -1.42836088, -0.2042453 ],\n",
       "       [ 1.73183759,  1.73736657,  0.25367387, ..., -0.69545163,\n",
       "        -1.42836088, -0.64502227]])"
      ]
     },
     "execution_count": 886,
     "metadata": {},
     "output_type": "execute_result"
    }
   ],
   "source": [
    "df1"
   ]
  },
  {
   "cell_type": "code",
   "execution_count": 926,
   "id": "5f63f5ff",
   "metadata": {},
   "outputs": [
    {
     "data": {
      "text/html": [
       "<div>\n",
       "<style scoped>\n",
       "    .dataframe tbody tr th:only-of-type {\n",
       "        vertical-align: middle;\n",
       "    }\n",
       "\n",
       "    .dataframe tbody tr th {\n",
       "        vertical-align: top;\n",
       "    }\n",
       "\n",
       "    .dataframe thead th {\n",
       "        text-align: right;\n",
       "    }\n",
       "</style>\n",
       "<table border=\"1\" class=\"dataframe\">\n",
       "  <thead>\n",
       "    <tr style=\"text-align: right;\">\n",
       "      <th></th>\n",
       "      <th>veh_value</th>\n",
       "      <th>claimcst0</th>\n",
       "    </tr>\n",
       "  </thead>\n",
       "  <tbody>\n",
       "    <tr>\n",
       "      <th>0</th>\n",
       "      <td>1.5290</td>\n",
       "      <td>1120.833360</td>\n",
       "    </tr>\n",
       "    <tr>\n",
       "      <th>1</th>\n",
       "      <td>1.6500</td>\n",
       "      <td>4548.075015</td>\n",
       "    </tr>\n",
       "    <tr>\n",
       "      <th>2</th>\n",
       "      <td>1.6170</td>\n",
       "      <td>2265.262185</td>\n",
       "    </tr>\n",
       "    <tr>\n",
       "      <th>3</th>\n",
       "      <td>2.4178</td>\n",
       "      <td>6616.971570</td>\n",
       "    </tr>\n",
       "    <tr>\n",
       "      <th>4</th>\n",
       "      <td>1.1880</td>\n",
       "      <td>225.489518</td>\n",
       "    </tr>\n",
       "  </tbody>\n",
       "</table>\n",
       "</div>"
      ],
      "text/plain": [
       "   veh_value    claimcst0\n",
       "0     1.5290  1120.833360\n",
       "1     1.6500  4548.075015\n",
       "2     1.6170  2265.262185\n",
       "3     2.4178  6616.971570\n",
       "4     1.1880   225.489518"
      ]
     },
     "execution_count": 926,
     "metadata": {},
     "output_type": "execute_result"
    }
   ],
   "source": [
    "df1=df[['veh_value','claimcst0']]\n",
    "df1.head()"
   ]
  },
  {
   "cell_type": "code",
   "execution_count": 927,
   "id": "ba380394",
   "metadata": {},
   "outputs": [
    {
     "data": {
      "text/html": [
       "<div>\n",
       "<style scoped>\n",
       "    .dataframe tbody tr th:only-of-type {\n",
       "        vertical-align: middle;\n",
       "    }\n",
       "\n",
       "    .dataframe tbody tr th {\n",
       "        vertical-align: top;\n",
       "    }\n",
       "\n",
       "    .dataframe thead th {\n",
       "        text-align: right;\n",
       "    }\n",
       "</style>\n",
       "<table border=\"1\" class=\"dataframe\">\n",
       "  <thead>\n",
       "    <tr style=\"text-align: right;\">\n",
       "      <th></th>\n",
       "      <th>veh_value</th>\n",
       "      <th>claimcst0</th>\n",
       "    </tr>\n",
       "  </thead>\n",
       "  <tbody>\n",
       "    <tr>\n",
       "      <th>6782</th>\n",
       "      <td>0.290136</td>\n",
       "      <td>-0.456401</td>\n",
       "    </tr>\n",
       "    <tr>\n",
       "      <th>4926</th>\n",
       "      <td>-0.943915</td>\n",
       "      <td>-0.492702</td>\n",
       "    </tr>\n",
       "    <tr>\n",
       "      <th>7740</th>\n",
       "      <td>3.107178</td>\n",
       "      <td>6.782559</td>\n",
       "    </tr>\n",
       "    <tr>\n",
       "      <th>8031</th>\n",
       "      <td>0.034815</td>\n",
       "      <td>-0.145091</td>\n",
       "    </tr>\n",
       "    <tr>\n",
       "      <th>4919</th>\n",
       "      <td>-0.177952</td>\n",
       "      <td>-0.037620</td>\n",
       "    </tr>\n",
       "  </tbody>\n",
       "</table>\n",
       "</div>"
      ],
      "text/plain": [
       "      veh_value  claimcst0\n",
       "6782   0.290136  -0.456401\n",
       "4926  -0.943915  -0.492702\n",
       "7740   3.107178   6.782559\n",
       "8031   0.034815  -0.145091\n",
       "4919  -0.177952  -0.037620"
      ]
     },
     "execution_count": 927,
     "metadata": {},
     "output_type": "execute_result"
    }
   ],
   "source": [
    "from sklearn import preprocessing\n",
    "scaler = preprocessing.StandardScaler()\n",
    "scaler.fit(df1)\n",
    "XE_scaled_array = scaler.transform(df1)\n",
    "XE_scaled = pd.DataFrame(XE_scaled_array, columns = df1.columns)\n",
    "XE_scaled.sample(5)"
   ]
  },
  {
   "cell_type": "code",
   "execution_count": 928,
   "id": "0a893ce0",
   "metadata": {},
   "outputs": [
    {
     "name": "stdout",
     "output_type": "stream",
     "text": [
      "<class 'pandas.core.frame.DataFrame'>\n",
      "RangeIndex: 8123 entries, 0 to 8122\n",
      "Data columns (total 2 columns):\n",
      " #   Column     Non-Null Count  Dtype  \n",
      "---  ------     --------------  -----  \n",
      " 0   veh_value  8123 non-null   float64\n",
      " 1   claimcst0  8123 non-null   float64\n",
      "dtypes: float64(2)\n",
      "memory usage: 127.0 KB\n"
     ]
    }
   ],
   "source": [
    "df1.info()"
   ]
  },
  {
   "cell_type": "code",
   "execution_count": 929,
   "id": "cc363bb5",
   "metadata": {},
   "outputs": [
    {
     "data": {
      "text/plain": [
       "array([0, 0, 0, ..., 0, 0, 2], dtype=int32)"
      ]
     },
     "execution_count": 929,
     "metadata": {},
     "output_type": "execute_result"
    }
   ],
   "source": [
    "# K-Means Clustering\n",
    "from sklearn.cluster import KMeans\n",
    "nclusters = 3 # this is the k in kmeans\n",
    "seed = 0\n",
    "km = KMeans(n_clusters=nclusters, random_state=seed)\n",
    "km.fit(XE_scaled)\n",
    "# predict the cluster for each data point\n",
    "yE_cluster_kmeans = km.predict(XE_scaled)\n",
    "yE_cluster_kmeans"
   ]
  },
  {
   "cell_type": "code",
   "execution_count": 930,
   "id": "23b804cb",
   "metadata": {},
   "outputs": [
    {
     "data": {
      "image/png": "[encoded data removed]",
      "text/plain": [
       "<Figure size 720x720 with 1 Axes>"
      ]
     },
     "metadata": {
      "needs_background": "light"
     },
     "output_type": "display_data"
    }
   ],
   "source": [
    "from sklearn.cluster import KMeans\n",
    "wcss1 = [] # within cluster sum of squares\n",
    "\n",
    "for k in range(1, 15):\n",
    "    kmeansForLoop = KMeans(n_clusters = k)\n",
    "    kmeansForLoop.fit(XE_scaled)\n",
    "    wcss1.append(kmeansForLoop.inertia_)\n",
    "\n",
    "plt.figure(figsize = (10, 10))\n",
    "plt.plot(range(1, 15), wcss1)\n",
    "plt.xlabel(\"K value\")\n",
    "plt.ylabel(\"WCSS\")\n",
    "plt.show()"
   ]
  },
  {
   "cell_type": "code",
   "execution_count": 931,
   "id": "f44fb8c4",
   "metadata": {},
   "outputs": [
    {
     "data": {
      "image/png": "[encoded data removed]",
      "text/plain": [
       "<Figure size 432x288 with 1 Axes>"
      ]
     },
     "metadata": {
      "needs_background": "light"
     },
     "output_type": "display_data"
    }
   ],
   "source": [
    "from sklearn.metrics import silhouette_score\n",
    "silhouette_scores1 = [] \n",
    "\n",
    "for n_cluster in range(2,15):\n",
    "    silhouette_scores1.append( \n",
    "        silhouette_score(XE_scaled, KMeans(n_clusters = n_cluster).fit_predict(XE_scaled))) \n",
    "    \n",
    "# Plotting a bar graph to compare the results \n",
    "k = [2, 3, 4, 5, 6,7,8,9,10,11,12,13,14] \n",
    "plt.bar(k, silhouette_scores1) \n",
    "plt.xlabel('Number of clusters', fontsize = 10) \n",
    "plt.ylabel('Silhouette Score', fontsize = 10) \n",
    "plt.grid()\n",
    "plt.show()"
   ]
  },
  {
   "cell_type": "code",
   "execution_count": 932,
   "id": "e220b604",
   "metadata": {},
   "outputs": [
    {
     "name": "stderr",
     "output_type": "stream",
     "text": [
      "/var/folders/kt/8xcy1pxx0r96g44wzcxt36700000gn/T/ipykernel_14139/2561415605.py:4: SettingWithCopyWarning: \n",
      "A value is trying to be set on a copy of a slice from a DataFrame.\n",
      "Try using .loc[row_indexer,col_indexer] = value instead\n",
      "\n",
      "See the caveats in the documentation: https://pandas.pydata.org/pandas-docs/stable/user_guide/indexing.html#returning-a-view-versus-a-copy\n",
      "  df1[\"type\"] = clusters\n"
     ]
    },
    {
     "data": {
      "text/plain": [
       "array([1, 0], dtype=int32)"
      ]
     },
     "execution_count": 932,
     "metadata": {},
     "output_type": "execute_result"
    }
   ],
   "source": [
    "#dataWithoutLabels = data.loc[:,['radius_mean','texture_mean']]\n",
    "kmeans = KMeans(n_clusters = 2)\n",
    "clusters = kmeans.fit_predict(df1)\n",
    "df1[\"type\"] = clusters\n",
    "df1[\"type\"].unique()"
   ]
  },
  {
   "cell_type": "code",
   "execution_count": 933,
   "id": "de20cb94",
   "metadata": {},
   "outputs": [
    {
     "data": {
      "image/png": "[encoded data removed]",
      "text/plain": [
       "<Figure size 1080x720 with 1 Axes>"
      ]
     },
     "metadata": {
      "needs_background": "light"
     },
     "output_type": "display_data"
    }
   ],
   "source": [
    "plt.figure(figsize = (15, 10))\n",
    "plt.scatter(df1[\"veh_value\"][df1[\"type\"] == 0], df1[\"claimcst0\"][df1[\"type\"] == 0], color = \"red\")\n",
    "plt.scatter(df1[\"veh_value\"][df1[\"type\"] == 1], df1[\"claimcst0\"][df1[\"type\"] == 1], color = \"green\")\n",
    "plt.xlabel('veh_value')\n",
    "plt.ylabel('claimcst0')\n",
    "plt.show()"
   ]
  },
  {
   "cell_type": "code",
   "execution_count": 934,
   "id": "bf99ef4b",
   "metadata": {},
   "outputs": [
    {
     "name": "stdout",
     "output_type": "stream",
     "text": [
      "[0 0 0 ... 0 0 0]\n"
     ]
    }
   ],
   "source": [
    "labelE = km1.fit_predict(XE_scaled)\n",
    "print(labelE)"
   ]
  },
  {
   "cell_type": "code",
   "execution_count": 935,
   "id": "b8236305",
   "metadata": {},
   "outputs": [
    {
     "data": {
      "text/plain": [
       "0.5573159538616995"
      ]
     },
     "execution_count": 935,
     "metadata": {},
     "output_type": "execute_result"
    }
   ],
   "source": [
    "from sklearn import metrics\n",
    "score1 = metrics.silhouette_score(XE_scaled, yE_cluster_kmeans)\n",
    "score1"
   ]
  },
  {
   "cell_type": "code",
   "execution_count": 936,
   "id": "3515800b",
   "metadata": {},
   "outputs": [
    {
     "data": {
      "text/plain": [
       "<matplotlib.collections.PathCollection at 0x7fe818c66880>"
      ]
     },
     "execution_count": 936,
     "metadata": {},
     "output_type": "execute_result"
    },
    {
     "data": {
      "image/png": "[encoded data removed]",
      "text/plain": [
       "<Figure size 432x288 with 1 Axes>"
      ]
     },
     "metadata": {
      "needs_background": "light"
     },
     "output_type": "display_data"
    }
   ],
   "source": [
    "labelE_0 = XE_scaled[labelE == 0]\n",
    "labelE_1 = XE_scaled[labelE == 1]\n",
    "\n",
    "plt.scatter(labelE_0.iloc[:,0], labelE_0.iloc[:,1], color='red')\n",
    "plt.scatter(labelE_1.iloc[:,0], labelE_1.iloc[:,1], color='blue')"
   ]
  },
  {
   "cell_type": "code",
   "execution_count": 937,
   "id": "bcce22ed",
   "metadata": {},
   "outputs": [
    {
     "data": {
      "text/plain": [
       "0.6100505393496362"
      ]
     },
     "execution_count": 937,
     "metadata": {},
     "output_type": "execute_result"
    }
   ],
   "source": [
    "score1 = metrics.silhouette_score(XE_scaled, ye_cluster_kmeans)\n",
    "score1"
   ]
  },
  {
   "cell_type": "code",
   "execution_count": 938,
   "id": "ea18bb9e",
   "metadata": {},
   "outputs": [
    {
     "data": {
      "text/plain": [
       "array([[6176,    0,    0],\n",
       "       [   0,  274,    0],\n",
       "       [   0,    0, 1673]])"
      ]
     },
     "execution_count": 938,
     "metadata": {},
     "output_type": "execute_result"
    }
   ],
   "source": [
    "contingency_matrix2 = metrics.cluster.contingency_matrix(yE_cluster_kmeans,yE_cluster_kmeans)\n",
    "contingency_matrix2"
   ]
  },
  {
   "cell_type": "code",
   "execution_count": 939,
   "id": "0e458499",
   "metadata": {},
   "outputs": [
    {
     "data": {
      "text/plain": [
       "array([6176,  274, 1673])"
      ]
     },
     "execution_count": 939,
     "metadata": {},
     "output_type": "execute_result"
    }
   ],
   "source": [
    "np.amax(contingency_matrix2, axis=0)"
   ]
  },
  {
   "cell_type": "code",
   "execution_count": 940,
   "id": "02b12753",
   "metadata": {},
   "outputs": [
    {
     "data": {
      "text/plain": [
       "8123"
      ]
     },
     "execution_count": 940,
     "metadata": {},
     "output_type": "execute_result"
    }
   ],
   "source": [
    "xe = np.sum(np.amax(contingency_matrix2, axis=0)) #Sum of max. elements from each row\n",
    "xe"
   ]
  },
  {
   "cell_type": "code",
   "execution_count": 941,
   "id": "e38639a7",
   "metadata": {},
   "outputs": [
    {
     "data": {
      "text/plain": [
       "8123"
      ]
     },
     "execution_count": 941,
     "metadata": {},
     "output_type": "execute_result"
    }
   ],
   "source": [
    "ye = np.sum(contingency_matrix2)  #total sum of all elements in contingency matrix\n",
    "ye"
   ]
  },
  {
   "cell_type": "code",
   "execution_count": 942,
   "id": "603ee9d5",
   "metadata": {},
   "outputs": [
    {
     "data": {
      "text/plain": [
       "1.0"
      ]
     },
     "execution_count": 942,
     "metadata": {},
     "output_type": "execute_result"
    }
   ],
   "source": [
    "purity = float(xe)/float(ye) \n",
    "purity"
   ]
  },
  {
   "cell_type": "code",
   "execution_count": 943,
   "id": "55cdca84",
   "metadata": {},
   "outputs": [
    {
     "data": {
      "image/png": "[encoded data removed]",
      "text/plain": [
       "<Figure size 720x720 with 1 Axes>"
      ]
     },
     "metadata": {
      "needs_background": "light"
     },
     "output_type": "display_data"
    }
   ],
   "source": [
    "from sklearn.cluster import KMeans\n",
    "wcss1 = [] # within cluster sum of squares\n",
    "\n",
    "for k in range(1, 15):\n",
    "    kmeansForLoop = KMeans(n_clusters = k)\n",
    "    kmeansForLoop.fit(XE_scaled)\n",
    "    wcss1.append(kmeansForLoop.inertia_)\n",
    "\n",
    "plt.figure(figsize = (10, 10))\n",
    "plt.plot(range(1, 15), wcss1)\n",
    "plt.xlabel(\"K value\")\n",
    "plt.ylabel(\"WCSS\")\n",
    "plt.show()"
   ]
  },
  {
   "cell_type": "code",
   "execution_count": 944,
   "id": "3b34a7f4",
   "metadata": {},
   "outputs": [
    {
     "data": {
      "image/png": "[encoded data removed]",
      "text/plain": [
       "<Figure size 432x288 with 1 Axes>"
      ]
     },
     "metadata": {
      "needs_background": "light"
     },
     "output_type": "display_data"
    }
   ],
   "source": [
    "from sklearn.metrics import silhouette_score\n",
    "silhouette_scores1 = [] \n",
    "\n",
    "for n_cluster in range(2,15):\n",
    "    silhouette_scores1.append( \n",
    "        silhouette_score(XE_scaled, KMeans(n_clusters = n_cluster).fit_predict(XE_scaled))) \n",
    "    \n",
    "# Plotting a bar graph to compare the results \n",
    "k = [2, 3, 4, 5, 6,7,8,9,10,11,12,13,14] \n",
    "plt.bar(k, silhouette_scores1) \n",
    "plt.xlabel('Number of clusters', fontsize = 10) \n",
    "plt.ylabel('Silhouette Score', fontsize = 10) \n",
    "plt.grid()\n",
    "plt.show() "
   ]
  },
  {
   "cell_type": "code",
   "execution_count": 945,
   "id": "f833dd0f",
   "metadata": {},
   "outputs": [
    {
     "data": {
      "text/plain": [
       "array([0, 0, 0, ..., 0, 0, 0], dtype=int32)"
      ]
     },
     "execution_count": 945,
     "metadata": {},
     "output_type": "execute_result"
    }
   ],
   "source": [
    "nclusters1 = 2 # this is the k in kmeans\n",
    "seed1 = 0\n",
    "\n",
    "km1 = KMeans(n_clusters=nclusters1, random_state=seed1)\n",
    "km1.fit(XE_scaled)\n",
    "\n",
    "# predict the cluster for each data point\n",
    "ye_cluster_kmeans = km1.predict(XE_scaled)\n",
    "ye_cluster_kmeans"
   ]
  },
  {
   "cell_type": "code",
   "execution_count": 946,
   "id": "04233129",
   "metadata": {},
   "outputs": [
    {
     "name": "stdout",
     "output_type": "stream",
     "text": [
      "[0 0 0 ... 0 0 0]\n"
     ]
    }
   ],
   "source": [
    "labelE = km1.fit_predict(XE_scaled)\n",
    "print(labelE)"
   ]
  },
  {
   "cell_type": "code",
   "execution_count": 947,
   "id": "6d308260",
   "metadata": {},
   "outputs": [
    {
     "data": {
      "text/plain": [
       "<matplotlib.collections.PathCollection at 0x7fe81b8bec40>"
      ]
     },
     "execution_count": 947,
     "metadata": {},
     "output_type": "execute_result"
    },
    {
     "data": {
      "image/png": "[encoded data removed]",
      "text/plain": [
       "<Figure size 432x288 with 1 Axes>"
      ]
     },
     "metadata": {
      "needs_background": "light"
     },
     "output_type": "display_data"
    }
   ],
   "source": [
    "labelE_0 = XE_scaled[labelE == 0]\n",
    "labelE_1 = XE_scaled[labelE == 1]\n",
    "\n",
    "plt.scatter(labelE_0.iloc[:,0], labelE_0.iloc[:,1], color='green')\n",
    "plt.scatter(labelE_1.iloc[:,0], labelE_1.iloc[:,1], color='yellow')"
   ]
  },
  {
   "cell_type": "code",
   "execution_count": 948,
   "id": "40639dcf",
   "metadata": {},
   "outputs": [
    {
     "data": {
      "text/plain": [
       "0.6100505393496362"
      ]
     },
     "execution_count": 948,
     "metadata": {},
     "output_type": "execute_result"
    }
   ],
   "source": [
    "score1 = metrics.silhouette_score(XE_scaled, ye_cluster_kmeans)\n",
    "score1"
   ]
  },
  {
   "cell_type": "code",
   "execution_count": 949,
   "id": "f34674b7",
   "metadata": {},
   "outputs": [
    {
     "data": {
      "text/plain": [
       "9802.429099876272"
      ]
     },
     "execution_count": 949,
     "metadata": {},
     "output_type": "execute_result"
    }
   ],
   "source": [
    "km1.inertia_"
   ]
  },
  {
   "cell_type": "code",
   "execution_count": 950,
   "id": "dda424af",
   "metadata": {},
   "outputs": [
    {
     "data": {
      "text/plain": [
       "array([[-0.30912147, -0.24186375],\n",
       "       [ 1.59170644,  1.24538777]])"
      ]
     },
     "execution_count": 950,
     "metadata": {},
     "output_type": "execute_result"
    }
   ],
   "source": [
    "km1.cluster_centers_"
   ]
  },
  {
   "cell_type": "code",
   "execution_count": 951,
   "id": "fec5f0c1",
   "metadata": {},
   "outputs": [
    {
     "data": {
      "text/plain": [
       "0       0\n",
       "1       1\n",
       "2       0\n",
       "3       2\n",
       "4       1\n",
       "       ..\n",
       "8118    0\n",
       "8119    0\n",
       "8120    0\n",
       "8121    0\n",
       "8122    0\n",
       "Name: numclaims, Length: 8123, dtype: int64"
      ]
     },
     "execution_count": 951,
     "metadata": {},
     "output_type": "execute_result"
    }
   ],
   "source": [
    "df['numclaims']"
   ]
  },
  {
   "cell_type": "code",
   "execution_count": 952,
   "id": "380c74fd",
   "metadata": {},
   "outputs": [],
   "source": [
    "#Convert categorical variable into integers\n",
    "from sklearn.preprocessing import LabelEncoder\n",
    "le = LabelEncoder()\n",
    "\n",
    "df['numclaims'] = le.fit_transform(df['numclaims'])\n",
    "k=df['numclaims']\n",
    "L = le.transform(y)"
   ]
  },
  {
   "cell_type": "code",
   "execution_count": 953,
   "id": "2e0df3a2",
   "metadata": {},
   "outputs": [
    {
     "name": "stdout",
     "output_type": "stream",
     "text": [
      "Result: 5804 out of 8123 samples were correctly labeled.\n"
     ]
    }
   ],
   "source": [
    "correct_labels = sum(L == labelE)\n",
    "\n",
    "print(\"Result: %d out of %d samples were correctly labeled.\" % (correct_labels, L.size))"
   ]
  },
  {
   "cell_type": "code",
   "execution_count": 954,
   "id": "06b6b859",
   "metadata": {},
   "outputs": [
    {
     "name": "stdout",
     "output_type": "stream",
     "text": [
      "Accuracy score: 0.71\n"
     ]
    }
   ],
   "source": [
    "print('Accuracy score: {0:0.2f}'. format(correct_labels/float(y.size)))"
   ]
  },
  {
   "cell_type": "code",
   "execution_count": 960,
   "id": "ba7f35c8",
   "metadata": {},
   "outputs": [
    {
     "data": {
      "image/png": "[encoded data removed]",
      "text/plain": [
       "<Figure size 720x720 with 1 Axes>"
      ]
     },
     "metadata": {
      "needs_background": "light"
     },
     "output_type": "display_data"
    }
   ],
   "source": [
    "\n",
    "plt.figure(figsize = (10, 10))\n",
    "plt.scatter(df1[\"veh_value\"], df1[\"claimcst0\"])\n",
    "plt.xlabel('veh_value')\n",
    "plt.ylabel('claimcst0')\n",
    "plt.show()"
   ]
  },
  {
   "cell_type": "code",
   "execution_count": 962,
   "id": "7e4bdc07",
   "metadata": {},
   "outputs": [
    {
     "data": {
      "image/png": "[encoded data removed]",
      "text/plain": [
       "<Figure size 432x288 with 1 Axes>"
      ]
     },
     "metadata": {
      "needs_background": "light"
     },
     "output_type": "display_data"
    }
   ],
   "source": [
    "from scipy.cluster.hierarchy import linkage,dendrogram\n",
    "merg = linkage(df1, method = \"ward\")\n",
    "dendrogram(merg, leaf_rotation = 90)\n",
    "plt.xlabel(\"data points\")\n",
    "plt.ylabel(\"euclidean distance\")\n",
    "plt.show()"
   ]
  },
  {
   "cell_type": "code",
   "execution_count": 964,
   "id": "ab8ebe2e",
   "metadata": {},
   "outputs": [
    {
     "name": "stderr",
     "output_type": "stream",
     "text": [
      "/var/folders/kt/8xcy1pxx0r96g44wzcxt36700000gn/T/ipykernel_14139/1299873797.py:4: SettingWithCopyWarning: \n",
      "A value is trying to be set on a copy of a slice from a DataFrame.\n",
      "Try using .loc[row_indexer,col_indexer] = value instead\n",
      "\n",
      "See the caveats in the documentation: https://pandas.pydata.org/pandas-docs/stable/user_guide/indexing.html#returning-a-view-versus-a-copy\n",
      "  df1[\"label\"] = cluster\n"
     ]
    }
   ],
   "source": [
    "from sklearn.cluster import AgglomerativeClustering\n",
    "hc = AgglomerativeClustering(n_clusters = 2, affinity = \"euclidean\", linkage = \"ward\")\n",
    "cluster = hc.fit_predict(df1)\n",
    "df1[\"label\"] = cluster"
   ]
  },
  {
   "cell_type": "code",
   "execution_count": 966,
   "id": "0a4a81c1",
   "metadata": {},
   "outputs": [
    {
     "data": {
      "text/plain": [
       "0    7861\n",
       "1     262\n",
       "Name: label, dtype: int64"
      ]
     },
     "execution_count": 966,
     "metadata": {},
     "output_type": "execute_result"
    }
   ],
   "source": [
    "df1.label.value_counts()"
   ]
  },
  {
   "cell_type": "code",
   "execution_count": 968,
   "id": "f7924cc4",
   "metadata": {},
   "outputs": [],
   "source": [
    "df2= df1[['veh_value','claimcst0']]"
   ]
  },
  {
   "cell_type": "code",
   "execution_count": 970,
   "id": "195684dc",
   "metadata": {},
   "outputs": [
    {
     "data": {
      "text/html": [
       "<div>\n",
       "<style scoped>\n",
       "    .dataframe tbody tr th:only-of-type {\n",
       "        vertical-align: middle;\n",
       "    }\n",
       "\n",
       "    .dataframe tbody tr th {\n",
       "        vertical-align: top;\n",
       "    }\n",
       "\n",
       "    .dataframe thead th {\n",
       "        text-align: right;\n",
       "    }\n",
       "</style>\n",
       "<table border=\"1\" class=\"dataframe\">\n",
       "  <thead>\n",
       "    <tr style=\"text-align: right;\">\n",
       "      <th></th>\n",
       "      <th>veh_value</th>\n",
       "      <th>claimcst0</th>\n",
       "    </tr>\n",
       "  </thead>\n",
       "  <tbody>\n",
       "    <tr>\n",
       "      <th>0</th>\n",
       "      <td>1.5290</td>\n",
       "      <td>1120.833360</td>\n",
       "    </tr>\n",
       "    <tr>\n",
       "      <th>1</th>\n",
       "      <td>1.6500</td>\n",
       "      <td>4548.075015</td>\n",
       "    </tr>\n",
       "    <tr>\n",
       "      <th>2</th>\n",
       "      <td>1.6170</td>\n",
       "      <td>2265.262185</td>\n",
       "    </tr>\n",
       "    <tr>\n",
       "      <th>3</th>\n",
       "      <td>2.4178</td>\n",
       "      <td>6616.971570</td>\n",
       "    </tr>\n",
       "    <tr>\n",
       "      <th>4</th>\n",
       "      <td>1.1880</td>\n",
       "      <td>225.489518</td>\n",
       "    </tr>\n",
       "  </tbody>\n",
       "</table>\n",
       "</div>"
      ],
      "text/plain": [
       "   veh_value    claimcst0\n",
       "0     1.5290  1120.833360\n",
       "1     1.6500  4548.075015\n",
       "2     1.6170  2265.262185\n",
       "3     2.4178  6616.971570\n",
       "4     1.1880   225.489518"
      ]
     },
     "execution_count": 970,
     "metadata": {},
     "output_type": "execute_result"
    }
   ],
   "source": [
    "df2.head()"
   ]
  },
  {
   "cell_type": "code",
   "execution_count": 971,
   "id": "fde50672",
   "metadata": {},
   "outputs": [
    {
     "data": {
      "image/png": "[encoded data removed]",
      "text/plain": [
       "<Figure size 432x288 with 1 Axes>"
      ]
     },
     "metadata": {
      "needs_background": "light"
     },
     "output_type": "display_data"
    }
   ],
   "source": [
    "from scipy.cluster.hierarchy import linkage,dendrogram\n",
    "merg = linkage(df2, method = \"ward\")\n",
    "dendrogram(merg, leaf_rotation = 90)\n",
    "plt.xlabel(\"data points\")\n",
    "plt.ylabel(\"euclidean distance\")\n",
    "plt.show()"
   ]
  },
  {
   "cell_type": "code",
   "execution_count": 972,
   "id": "1f4f51bd",
   "metadata": {},
   "outputs": [
    {
     "name": "stderr",
     "output_type": "stream",
     "text": [
      "/var/folders/kt/8xcy1pxx0r96g44wzcxt36700000gn/T/ipykernel_14139/611740974.py:4: SettingWithCopyWarning: \n",
      "A value is trying to be set on a copy of a slice from a DataFrame.\n",
      "Try using .loc[row_indexer,col_indexer] = value instead\n",
      "\n",
      "See the caveats in the documentation: https://pandas.pydata.org/pandas-docs/stable/user_guide/indexing.html#returning-a-view-versus-a-copy\n",
      "  df2[\"label\"] = cluster\n"
     ]
    }
   ],
   "source": [
    "from sklearn.cluster import AgglomerativeClustering\n",
    "hc = AgglomerativeClustering(n_clusters = 2, affinity = \"euclidean\", linkage = \"ward\")\n",
    "cluster = hc.fit_predict(df2)\n",
    "df2[\"label\"] = cluster"
   ]
  },
  {
   "cell_type": "code",
   "execution_count": 973,
   "id": "3f3a39d7",
   "metadata": {},
   "outputs": [
    {
     "data": {
      "text/plain": [
       "0    7861\n",
       "1     262\n",
       "Name: label, dtype: int64"
      ]
     },
     "execution_count": 973,
     "metadata": {},
     "output_type": "execute_result"
    }
   ],
   "source": [
    "df2.label.value_counts()"
   ]
  },
  {
   "cell_type": "code",
   "execution_count": 975,
   "id": "f177e1a5",
   "metadata": {},
   "outputs": [
    {
     "data": {
      "image/png": "[encoded data removed]",
      "text/plain": [
       "<Figure size 1080x720 with 1 Axes>"
      ]
     },
     "metadata": {
      "needs_background": "light"
     },
     "output_type": "display_data"
    }
   ],
   "source": [
    "# Data after hierarchical clustering\n",
    "\n",
    "plt.figure(figsize = (15, 10))\n",
    "plt.scatter(df2[\"veh_value\"][df2.label == 0], df2[\"claimcst0\"][df2.label == 0], color = \"red\")\n",
    "plt.scatter(df2[\"veh_value\"][df2.label == 1], df2[\"claimcst0\"][df2.label == 1], color = \"blue\")\n",
    "plt.xlabel(\"veh_value\")\n",
    "plt.ylabel(\"claimcst0\")\n",
    "plt.show()"
   ]
  },
  {
   "cell_type": "code",
   "execution_count": null,
   "id": "e9c322ab",
   "metadata": {},
   "outputs": [],
   "source": []
  },
  {
   "cell_type": "code",
   "execution_count": null,
   "id": "447d7418",
   "metadata": {},
   "outputs": [],
   "source": []
  }
 ],
 "metadata": {
  "kernelspec": {
   "display_name": "Python 3 (ipykernel)",
   "language": "python",
   "name": "python3"
  },
  "language_info": {
   "codemirror_mode": {
    "name": "ipython",
    "version": 3
   },
   "file_extension": ".py",
   "mimetype": "text/x-python",
   "name": "python",
   "nbconvert_exporter": "python",
   "pygments_lexer": "ipython3",
   "version": "3.9.7"
  }
 },
 "nbformat": 4,
 "nbformat_minor": 5
}
