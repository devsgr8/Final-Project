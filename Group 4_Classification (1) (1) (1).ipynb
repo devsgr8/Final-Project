{
 "cells": [
  {
   "cell_type": "code",
   "execution_count": 2,
   "id": "bb4c0707",
   "metadata": {},
   "outputs": [],
   "source": [
    "#Reference: https://www.kaggle.com/datasets/slashtea/kdd-cyberattack?resource=download"
   ]
  },
  {
   "cell_type": "code",
   "execution_count": 37,
   "id": "bd5ee630",
   "metadata": {},
   "outputs": [],
   "source": [
    "import numpy as np\n",
    "import pandas as pd\n",
    "from matplotlib import pyplot as plt\n",
    "from sklearn.datasets import load_breast_cancer\n",
    "from sklearn.metrics import confusion_matrix\n",
    "from sklearn.neighbors import KNeighborsClassifier\n",
    "from sklearn.model_selection import train_test_split\n",
    "import seaborn as sns\n",
    "sns.set()"
   ]
  },
  {
   "cell_type": "code",
   "execution_count": 38,
   "id": "ed7a8dfc",
   "metadata": {},
   "outputs": [],
   "source": [
    "df  = pd.read_csv(\"C://Users//user//OneDrive//Desktop//dataset1.csv\")"
   ]
  },
  {
   "cell_type": "code",
   "execution_count": 39,
   "id": "e93d646f",
   "metadata": {},
   "outputs": [
    {
     "data": {
      "text/html": [
       "<div>\n",
       "<style scoped>\n",
       "    .dataframe tbody tr th:only-of-type {\n",
       "        vertical-align: middle;\n",
       "    }\n",
       "\n",
       "    .dataframe tbody tr th {\n",
       "        vertical-align: top;\n",
       "    }\n",
       "\n",
       "    .dataframe thead th {\n",
       "        text-align: right;\n",
       "    }\n",
       "</style>\n",
       "<table border=\"1\" class=\"dataframe\">\n",
       "  <thead>\n",
       "    <tr style=\"text-align: right;\">\n",
       "      <th></th>\n",
       "      <th>duration</th>\n",
       "      <th>protocoltype</th>\n",
       "      <th>service</th>\n",
       "      <th>flag</th>\n",
       "      <th>srcbytes</th>\n",
       "      <th>dstbytes</th>\n",
       "      <th>land</th>\n",
       "      <th>wrongfragment</th>\n",
       "      <th>urgent</th>\n",
       "      <th>hot</th>\n",
       "      <th>...</th>\n",
       "      <th>dsthostsrvcount</th>\n",
       "      <th>dsthostsamesrvrate</th>\n",
       "      <th>dsthostdiffsrvrate</th>\n",
       "      <th>dsthostsamesrcportrate</th>\n",
       "      <th>dsthostsrvdiffhostrate</th>\n",
       "      <th>dsthostserrorrate</th>\n",
       "      <th>dsthostsrvserrorrate</th>\n",
       "      <th>dsthostrerrorrate</th>\n",
       "      <th>dsthostsrvrerror_rate</th>\n",
       "      <th>labels</th>\n",
       "    </tr>\n",
       "  </thead>\n",
       "  <tbody>\n",
       "    <tr>\n",
       "      <th>0</th>\n",
       "      <td>0</td>\n",
       "      <td>tcp</td>\n",
       "      <td>http</td>\n",
       "      <td>SF</td>\n",
       "      <td>181</td>\n",
       "      <td>5450</td>\n",
       "      <td>0</td>\n",
       "      <td>0</td>\n",
       "      <td>0</td>\n",
       "      <td>0</td>\n",
       "      <td>...</td>\n",
       "      <td>9</td>\n",
       "      <td>1.0</td>\n",
       "      <td>0.0</td>\n",
       "      <td>0.11</td>\n",
       "      <td>0.0</td>\n",
       "      <td>0.0</td>\n",
       "      <td>0.0</td>\n",
       "      <td>0.0</td>\n",
       "      <td>0.0</td>\n",
       "      <td>normal.</td>\n",
       "    </tr>\n",
       "    <tr>\n",
       "      <th>1</th>\n",
       "      <td>0</td>\n",
       "      <td>tcp</td>\n",
       "      <td>http</td>\n",
       "      <td>SF</td>\n",
       "      <td>239</td>\n",
       "      <td>486</td>\n",
       "      <td>0</td>\n",
       "      <td>0</td>\n",
       "      <td>0</td>\n",
       "      <td>0</td>\n",
       "      <td>...</td>\n",
       "      <td>19</td>\n",
       "      <td>1.0</td>\n",
       "      <td>0.0</td>\n",
       "      <td>0.05</td>\n",
       "      <td>0.0</td>\n",
       "      <td>0.0</td>\n",
       "      <td>0.0</td>\n",
       "      <td>0.0</td>\n",
       "      <td>0.0</td>\n",
       "      <td>normal.</td>\n",
       "    </tr>\n",
       "    <tr>\n",
       "      <th>2</th>\n",
       "      <td>0</td>\n",
       "      <td>tcp</td>\n",
       "      <td>http</td>\n",
       "      <td>SF</td>\n",
       "      <td>235</td>\n",
       "      <td>1337</td>\n",
       "      <td>0</td>\n",
       "      <td>0</td>\n",
       "      <td>0</td>\n",
       "      <td>0</td>\n",
       "      <td>...</td>\n",
       "      <td>29</td>\n",
       "      <td>1.0</td>\n",
       "      <td>0.0</td>\n",
       "      <td>0.03</td>\n",
       "      <td>0.0</td>\n",
       "      <td>0.0</td>\n",
       "      <td>0.0</td>\n",
       "      <td>0.0</td>\n",
       "      <td>0.0</td>\n",
       "      <td>normal.</td>\n",
       "    </tr>\n",
       "  </tbody>\n",
       "</table>\n",
       "<p>3 rows × 42 columns</p>\n",
       "</div>"
      ],
      "text/plain": [
       "   duration protocoltype service flag  srcbytes  dstbytes  land  \\\n",
       "0         0          tcp    http   SF       181      5450     0   \n",
       "1         0          tcp    http   SF       239       486     0   \n",
       "2         0          tcp    http   SF       235      1337     0   \n",
       "\n",
       "   wrongfragment  urgent  hot  ...  dsthostsrvcount  dsthostsamesrvrate  \\\n",
       "0              0       0    0  ...                9                 1.0   \n",
       "1              0       0    0  ...               19                 1.0   \n",
       "2              0       0    0  ...               29                 1.0   \n",
       "\n",
       "   dsthostdiffsrvrate  dsthostsamesrcportrate  dsthostsrvdiffhostrate  \\\n",
       "0                 0.0                    0.11                     0.0   \n",
       "1                 0.0                    0.05                     0.0   \n",
       "2                 0.0                    0.03                     0.0   \n",
       "\n",
       "   dsthostserrorrate  dsthostsrvserrorrate  dsthostrerrorrate  \\\n",
       "0                0.0                   0.0                0.0   \n",
       "1                0.0                   0.0                0.0   \n",
       "2                0.0                   0.0                0.0   \n",
       "\n",
       "   dsthostsrvrerror_rate   labels  \n",
       "0                    0.0  normal.  \n",
       "1                    0.0  normal.  \n",
       "2                    0.0  normal.  \n",
       "\n",
       "[3 rows x 42 columns]"
      ]
     },
     "execution_count": 39,
     "metadata": {},
     "output_type": "execute_result"
    }
   ],
   "source": [
    "df.head(3)"
   ]
  },
  {
   "cell_type": "code",
   "execution_count": 40,
   "id": "f7b016a9",
   "metadata": {},
   "outputs": [
    {
     "data": {
      "text/plain": [
       "(494021, 42)"
      ]
     },
     "execution_count": 40,
     "metadata": {},
     "output_type": "execute_result"
    }
   ],
   "source": [
    "df.shape"
   ]
  },
  {
   "cell_type": "code",
   "execution_count": 41,
   "id": "923412a8",
   "metadata": {},
   "outputs": [
    {
     "name": "stdout",
     "output_type": "stream",
     "text": [
      "duration                  0\n",
      "protocoltype              0\n",
      "service                   0\n",
      "flag                      0\n",
      "srcbytes                  0\n",
      "dstbytes                  0\n",
      "land                      0\n",
      "wrongfragment             0\n",
      "urgent                    0\n",
      "hot                       0\n",
      "numfailedlogins           0\n",
      "loggedin                  0\n",
      "numcompromised            0\n",
      "rootshell                 0\n",
      "suattempted               0\n",
      "numroot                   0\n",
      "numfilecreations          0\n",
      "numshells                 0\n",
      "numaccessfiles            0\n",
      "numoutboundcmds           0\n",
      "ishostlogin               0\n",
      "isguestlogin              0\n",
      "count                     0\n",
      "srvcount                  0\n",
      "serrorrate                0\n",
      "srvserrorrate             0\n",
      "rerrorrate                0\n",
      "srvrerrorrate             0\n",
      "samesrvrate               0\n",
      "diffsrvrate               0\n",
      "srvdiffhostrate           0\n",
      "dsthostcount              0\n",
      "dsthostsrvcount           0\n",
      "dsthostsamesrvrate        0\n",
      "dsthostdiffsrvrate        0\n",
      "dsthostsamesrcportrate    0\n",
      "dsthostsrvdiffhostrate    0\n",
      "dsthostserrorrate         0\n",
      "dsthostsrvserrorrate      0\n",
      "dsthostrerrorrate         0\n",
      "dsthostsrvrerror_rate     0\n",
      "labels                    0\n",
      "dtype: int64\n"
     ]
    }
   ],
   "source": [
    "#Finding out missing values in each column\n",
    "print(df.isna().sum())\n",
    "missing_status=df.isna().sum()\n",
    "##print(df.isnull().sum())"
   ]
  },
  {
   "cell_type": "code",
   "execution_count": 42,
   "id": "cb4a4575",
   "metadata": {},
   "outputs": [],
   "source": [
    "df.drop_duplicates(keep=False,inplace=True)"
   ]
  },
  {
   "cell_type": "code",
   "execution_count": 43,
   "id": "9ccfa266",
   "metadata": {},
   "outputs": [
    {
     "data": {
      "text/plain": [
       "(126209, 42)"
      ]
     },
     "execution_count": 43,
     "metadata": {},
     "output_type": "execute_result"
    }
   ],
   "source": [
    "df.shape"
   ]
  },
  {
   "cell_type": "code",
   "execution_count": 44,
   "id": "37212193",
   "metadata": {},
   "outputs": [
    {
     "data": {
      "text/html": [
       "<div>\n",
       "<style scoped>\n",
       "    .dataframe tbody tr th:only-of-type {\n",
       "        vertical-align: middle;\n",
       "    }\n",
       "\n",
       "    .dataframe tbody tr th {\n",
       "        vertical-align: top;\n",
       "    }\n",
       "\n",
       "    .dataframe thead th {\n",
       "        text-align: right;\n",
       "    }\n",
       "</style>\n",
       "<table border=\"1\" class=\"dataframe\">\n",
       "  <thead>\n",
       "    <tr style=\"text-align: right;\">\n",
       "      <th></th>\n",
       "      <th>duration</th>\n",
       "      <th>srcbytes</th>\n",
       "      <th>dstbytes</th>\n",
       "      <th>land</th>\n",
       "      <th>wrongfragment</th>\n",
       "      <th>urgent</th>\n",
       "      <th>hot</th>\n",
       "      <th>numfailedlogins</th>\n",
       "      <th>loggedin</th>\n",
       "      <th>numcompromised</th>\n",
       "      <th>...</th>\n",
       "      <th>dsthostcount</th>\n",
       "      <th>dsthostsrvcount</th>\n",
       "      <th>dsthostsamesrvrate</th>\n",
       "      <th>dsthostdiffsrvrate</th>\n",
       "      <th>dsthostsamesrcportrate</th>\n",
       "      <th>dsthostsrvdiffhostrate</th>\n",
       "      <th>dsthostserrorrate</th>\n",
       "      <th>dsthostsrvserrorrate</th>\n",
       "      <th>dsthostrerrorrate</th>\n",
       "      <th>dsthostsrvrerror_rate</th>\n",
       "    </tr>\n",
       "  </thead>\n",
       "  <tbody>\n",
       "    <tr>\n",
       "      <th>count</th>\n",
       "      <td>126209.000000</td>\n",
       "      <td>1.262090e+05</td>\n",
       "      <td>1.262090e+05</td>\n",
       "      <td>126209.000000</td>\n",
       "      <td>126209.000000</td>\n",
       "      <td>126209.000000</td>\n",
       "      <td>126209.000000</td>\n",
       "      <td>126209.000000</td>\n",
       "      <td>126209.000000</td>\n",
       "      <td>126209.000000</td>\n",
       "      <td>...</td>\n",
       "      <td>126209.000000</td>\n",
       "      <td>126209.000000</td>\n",
       "      <td>126209.000000</td>\n",
       "      <td>126209.000000</td>\n",
       "      <td>126209.000000</td>\n",
       "      <td>126209.000000</td>\n",
       "      <td>126209.000000</td>\n",
       "      <td>126209.000000</td>\n",
       "      <td>126209.000000</td>\n",
       "      <td>126209.000000</td>\n",
       "    </tr>\n",
       "    <tr>\n",
       "      <th>mean</th>\n",
       "      <td>139.222401</td>\n",
       "      <td>9.163128e+03</td>\n",
       "      <td>3.277630e+03</td>\n",
       "      <td>0.000143</td>\n",
       "      <td>0.021456</td>\n",
       "      <td>0.000055</td>\n",
       "      <td>0.113502</td>\n",
       "      <td>0.000594</td>\n",
       "      <td>0.563003</td>\n",
       "      <td>0.029174</td>\n",
       "      <td>...</td>\n",
       "      <td>171.625233</td>\n",
       "      <td>144.768519</td>\n",
       "      <td>0.615675</td>\n",
       "      <td>0.057297</td>\n",
       "      <td>0.097112</td>\n",
       "      <td>0.020529</td>\n",
       "      <td>0.235537</td>\n",
       "      <td>0.234966</td>\n",
       "      <td>0.094591</td>\n",
       "      <td>0.091285</td>\n",
       "    </tr>\n",
       "    <tr>\n",
       "      <th>std</th>\n",
       "      <td>1273.960047</td>\n",
       "      <td>1.955136e+06</td>\n",
       "      <td>6.529856e+04</td>\n",
       "      <td>0.011942</td>\n",
       "      <td>0.247802</td>\n",
       "      <td>0.010902</td>\n",
       "      <td>1.530654</td>\n",
       "      <td>0.030701</td>\n",
       "      <td>0.496017</td>\n",
       "      <td>3.556349</td>\n",
       "      <td>...</td>\n",
       "      <td>101.302335</td>\n",
       "      <td>113.076125</td>\n",
       "      <td>0.444179</td>\n",
       "      <td>0.144909</td>\n",
       "      <td>0.241186</td>\n",
       "      <td>0.058364</td>\n",
       "      <td>0.422034</td>\n",
       "      <td>0.423035</td>\n",
       "      <td>0.283884</td>\n",
       "      <td>0.281010</td>\n",
       "    </tr>\n",
       "    <tr>\n",
       "      <th>min</th>\n",
       "      <td>0.000000</td>\n",
       "      <td>0.000000e+00</td>\n",
       "      <td>0.000000e+00</td>\n",
       "      <td>0.000000</td>\n",
       "      <td>0.000000</td>\n",
       "      <td>0.000000</td>\n",
       "      <td>0.000000</td>\n",
       "      <td>0.000000</td>\n",
       "      <td>0.000000</td>\n",
       "      <td>0.000000</td>\n",
       "      <td>...</td>\n",
       "      <td>0.000000</td>\n",
       "      <td>0.000000</td>\n",
       "      <td>0.000000</td>\n",
       "      <td>0.000000</td>\n",
       "      <td>0.000000</td>\n",
       "      <td>0.000000</td>\n",
       "      <td>0.000000</td>\n",
       "      <td>0.000000</td>\n",
       "      <td>0.000000</td>\n",
       "      <td>0.000000</td>\n",
       "    </tr>\n",
       "    <tr>\n",
       "      <th>25%</th>\n",
       "      <td>0.000000</td>\n",
       "      <td>0.000000e+00</td>\n",
       "      <td>0.000000e+00</td>\n",
       "      <td>0.000000</td>\n",
       "      <td>0.000000</td>\n",
       "      <td>0.000000</td>\n",
       "      <td>0.000000</td>\n",
       "      <td>0.000000</td>\n",
       "      <td>0.000000</td>\n",
       "      <td>0.000000</td>\n",
       "      <td>...</td>\n",
       "      <td>61.000000</td>\n",
       "      <td>14.000000</td>\n",
       "      <td>0.060000</td>\n",
       "      <td>0.000000</td>\n",
       "      <td>0.000000</td>\n",
       "      <td>0.000000</td>\n",
       "      <td>0.000000</td>\n",
       "      <td>0.000000</td>\n",
       "      <td>0.000000</td>\n",
       "      <td>0.000000</td>\n",
       "    </tr>\n",
       "    <tr>\n",
       "      <th>50%</th>\n",
       "      <td>0.000000</td>\n",
       "      <td>2.070000e+02</td>\n",
       "      <td>2.970000e+02</td>\n",
       "      <td>0.000000</td>\n",
       "      <td>0.000000</td>\n",
       "      <td>0.000000</td>\n",
       "      <td>0.000000</td>\n",
       "      <td>0.000000</td>\n",
       "      <td>1.000000</td>\n",
       "      <td>0.000000</td>\n",
       "      <td>...</td>\n",
       "      <td>255.000000</td>\n",
       "      <td>189.000000</td>\n",
       "      <td>0.990000</td>\n",
       "      <td>0.010000</td>\n",
       "      <td>0.000000</td>\n",
       "      <td>0.000000</td>\n",
       "      <td>0.000000</td>\n",
       "      <td>0.000000</td>\n",
       "      <td>0.000000</td>\n",
       "      <td>0.000000</td>\n",
       "    </tr>\n",
       "    <tr>\n",
       "      <th>75%</th>\n",
       "      <td>0.000000</td>\n",
       "      <td>3.000000e+02</td>\n",
       "      <td>1.483000e+03</td>\n",
       "      <td>0.000000</td>\n",
       "      <td>0.000000</td>\n",
       "      <td>0.000000</td>\n",
       "      <td>0.000000</td>\n",
       "      <td>0.000000</td>\n",
       "      <td>1.000000</td>\n",
       "      <td>0.000000</td>\n",
       "      <td>...</td>\n",
       "      <td>255.000000</td>\n",
       "      <td>255.000000</td>\n",
       "      <td>1.000000</td>\n",
       "      <td>0.070000</td>\n",
       "      <td>0.040000</td>\n",
       "      <td>0.020000</td>\n",
       "      <td>0.020000</td>\n",
       "      <td>0.010000</td>\n",
       "      <td>0.000000</td>\n",
       "      <td>0.000000</td>\n",
       "    </tr>\n",
       "    <tr>\n",
       "      <th>max</th>\n",
       "      <td>58329.000000</td>\n",
       "      <td>6.933756e+08</td>\n",
       "      <td>5.155468e+06</td>\n",
       "      <td>1.000000</td>\n",
       "      <td>3.000000</td>\n",
       "      <td>3.000000</td>\n",
       "      <td>30.000000</td>\n",
       "      <td>5.000000</td>\n",
       "      <td>1.000000</td>\n",
       "      <td>884.000000</td>\n",
       "      <td>...</td>\n",
       "      <td>255.000000</td>\n",
       "      <td>255.000000</td>\n",
       "      <td>1.000000</td>\n",
       "      <td>1.000000</td>\n",
       "      <td>1.000000</td>\n",
       "      <td>1.000000</td>\n",
       "      <td>1.000000</td>\n",
       "      <td>1.000000</td>\n",
       "      <td>1.000000</td>\n",
       "      <td>1.000000</td>\n",
       "    </tr>\n",
       "  </tbody>\n",
       "</table>\n",
       "<p>8 rows × 38 columns</p>\n",
       "</div>"
      ],
      "text/plain": [
       "            duration      srcbytes      dstbytes           land  \\\n",
       "count  126209.000000  1.262090e+05  1.262090e+05  126209.000000   \n",
       "mean      139.222401  9.163128e+03  3.277630e+03       0.000143   \n",
       "std      1273.960047  1.955136e+06  6.529856e+04       0.011942   \n",
       "min         0.000000  0.000000e+00  0.000000e+00       0.000000   \n",
       "25%         0.000000  0.000000e+00  0.000000e+00       0.000000   \n",
       "50%         0.000000  2.070000e+02  2.970000e+02       0.000000   \n",
       "75%         0.000000  3.000000e+02  1.483000e+03       0.000000   \n",
       "max     58329.000000  6.933756e+08  5.155468e+06       1.000000   \n",
       "\n",
       "       wrongfragment         urgent            hot  numfailedlogins  \\\n",
       "count  126209.000000  126209.000000  126209.000000    126209.000000   \n",
       "mean        0.021456       0.000055       0.113502         0.000594   \n",
       "std         0.247802       0.010902       1.530654         0.030701   \n",
       "min         0.000000       0.000000       0.000000         0.000000   \n",
       "25%         0.000000       0.000000       0.000000         0.000000   \n",
       "50%         0.000000       0.000000       0.000000         0.000000   \n",
       "75%         0.000000       0.000000       0.000000         0.000000   \n",
       "max         3.000000       3.000000      30.000000         5.000000   \n",
       "\n",
       "            loggedin  numcompromised  ...   dsthostcount  dsthostsrvcount  \\\n",
       "count  126209.000000   126209.000000  ...  126209.000000    126209.000000   \n",
       "mean        0.563003        0.029174  ...     171.625233       144.768519   \n",
       "std         0.496017        3.556349  ...     101.302335       113.076125   \n",
       "min         0.000000        0.000000  ...       0.000000         0.000000   \n",
       "25%         0.000000        0.000000  ...      61.000000        14.000000   \n",
       "50%         1.000000        0.000000  ...     255.000000       189.000000   \n",
       "75%         1.000000        0.000000  ...     255.000000       255.000000   \n",
       "max         1.000000      884.000000  ...     255.000000       255.000000   \n",
       "\n",
       "       dsthostsamesrvrate  dsthostdiffsrvrate  dsthostsamesrcportrate  \\\n",
       "count       126209.000000       126209.000000           126209.000000   \n",
       "mean             0.615675            0.057297                0.097112   \n",
       "std              0.444179            0.144909                0.241186   \n",
       "min              0.000000            0.000000                0.000000   \n",
       "25%              0.060000            0.000000                0.000000   \n",
       "50%              0.990000            0.010000                0.000000   \n",
       "75%              1.000000            0.070000                0.040000   \n",
       "max              1.000000            1.000000                1.000000   \n",
       "\n",
       "       dsthostsrvdiffhostrate  dsthostserrorrate  dsthostsrvserrorrate  \\\n",
       "count           126209.000000      126209.000000         126209.000000   \n",
       "mean                 0.020529           0.235537              0.234966   \n",
       "std                  0.058364           0.422034              0.423035   \n",
       "min                  0.000000           0.000000              0.000000   \n",
       "25%                  0.000000           0.000000              0.000000   \n",
       "50%                  0.000000           0.000000              0.000000   \n",
       "75%                  0.020000           0.020000              0.010000   \n",
       "max                  1.000000           1.000000              1.000000   \n",
       "\n",
       "       dsthostrerrorrate  dsthostsrvrerror_rate  \n",
       "count      126209.000000          126209.000000  \n",
       "mean            0.094591               0.091285  \n",
       "std             0.283884               0.281010  \n",
       "min             0.000000               0.000000  \n",
       "25%             0.000000               0.000000  \n",
       "50%             0.000000               0.000000  \n",
       "75%             0.000000               0.000000  \n",
       "max             1.000000               1.000000  \n",
       "\n",
       "[8 rows x 38 columns]"
      ]
     },
     "execution_count": 44,
     "metadata": {},
     "output_type": "execute_result"
    }
   ],
   "source": [
    "df.describe()"
   ]
  },
  {
   "cell_type": "code",
   "execution_count": 45,
   "id": "8ba7bf80",
   "metadata": {},
   "outputs": [],
   "source": [
    "from sklearn.preprocessing import LabelEncoder\n",
    "le = LabelEncoder()\n",
    "df.labels = le.fit_transform(df.labels)\n",
    "df.protocoltype = le.fit_transform(df.protocoltype)\n",
    "df.service = le.fit_transform(df.service)\n",
    "df.flag = le.fit_transform(df.flag)"
   ]
  },
  {
   "cell_type": "code",
   "execution_count": 46,
   "id": "603adddd",
   "metadata": {},
   "outputs": [
    {
     "data": {
      "text/html": [
       "<div>\n",
       "<style scoped>\n",
       "    .dataframe tbody tr th:only-of-type {\n",
       "        vertical-align: middle;\n",
       "    }\n",
       "\n",
       "    .dataframe tbody tr th {\n",
       "        vertical-align: top;\n",
       "    }\n",
       "\n",
       "    .dataframe thead th {\n",
       "        text-align: right;\n",
       "    }\n",
       "</style>\n",
       "<table border=\"1\" class=\"dataframe\">\n",
       "  <thead>\n",
       "    <tr style=\"text-align: right;\">\n",
       "      <th></th>\n",
       "      <th>duration</th>\n",
       "      <th>protocoltype</th>\n",
       "      <th>service</th>\n",
       "      <th>flag</th>\n",
       "      <th>srcbytes</th>\n",
       "      <th>dstbytes</th>\n",
       "      <th>land</th>\n",
       "      <th>wrongfragment</th>\n",
       "      <th>urgent</th>\n",
       "      <th>hot</th>\n",
       "      <th>...</th>\n",
       "      <th>dsthostsrvcount</th>\n",
       "      <th>dsthostsamesrvrate</th>\n",
       "      <th>dsthostdiffsrvrate</th>\n",
       "      <th>dsthostsamesrcportrate</th>\n",
       "      <th>dsthostsrvdiffhostrate</th>\n",
       "      <th>dsthostserrorrate</th>\n",
       "      <th>dsthostsrvserrorrate</th>\n",
       "      <th>dsthostrerrorrate</th>\n",
       "      <th>dsthostsrvrerror_rate</th>\n",
       "      <th>labels</th>\n",
       "    </tr>\n",
       "  </thead>\n",
       "  <tbody>\n",
       "    <tr>\n",
       "      <th>0</th>\n",
       "      <td>0</td>\n",
       "      <td>1</td>\n",
       "      <td>22</td>\n",
       "      <td>9</td>\n",
       "      <td>181</td>\n",
       "      <td>5450</td>\n",
       "      <td>0</td>\n",
       "      <td>0</td>\n",
       "      <td>0</td>\n",
       "      <td>0</td>\n",
       "      <td>...</td>\n",
       "      <td>9</td>\n",
       "      <td>1.0</td>\n",
       "      <td>0.0</td>\n",
       "      <td>0.11</td>\n",
       "      <td>0.0</td>\n",
       "      <td>0.0</td>\n",
       "      <td>0.0</td>\n",
       "      <td>0.0</td>\n",
       "      <td>0.0</td>\n",
       "      <td>11</td>\n",
       "    </tr>\n",
       "    <tr>\n",
       "      <th>1</th>\n",
       "      <td>0</td>\n",
       "      <td>1</td>\n",
       "      <td>22</td>\n",
       "      <td>9</td>\n",
       "      <td>239</td>\n",
       "      <td>486</td>\n",
       "      <td>0</td>\n",
       "      <td>0</td>\n",
       "      <td>0</td>\n",
       "      <td>0</td>\n",
       "      <td>...</td>\n",
       "      <td>19</td>\n",
       "      <td>1.0</td>\n",
       "      <td>0.0</td>\n",
       "      <td>0.05</td>\n",
       "      <td>0.0</td>\n",
       "      <td>0.0</td>\n",
       "      <td>0.0</td>\n",
       "      <td>0.0</td>\n",
       "      <td>0.0</td>\n",
       "      <td>11</td>\n",
       "    </tr>\n",
       "    <tr>\n",
       "      <th>2</th>\n",
       "      <td>0</td>\n",
       "      <td>1</td>\n",
       "      <td>22</td>\n",
       "      <td>9</td>\n",
       "      <td>235</td>\n",
       "      <td>1337</td>\n",
       "      <td>0</td>\n",
       "      <td>0</td>\n",
       "      <td>0</td>\n",
       "      <td>0</td>\n",
       "      <td>...</td>\n",
       "      <td>29</td>\n",
       "      <td>1.0</td>\n",
       "      <td>0.0</td>\n",
       "      <td>0.03</td>\n",
       "      <td>0.0</td>\n",
       "      <td>0.0</td>\n",
       "      <td>0.0</td>\n",
       "      <td>0.0</td>\n",
       "      <td>0.0</td>\n",
       "      <td>11</td>\n",
       "    </tr>\n",
       "  </tbody>\n",
       "</table>\n",
       "<p>3 rows × 42 columns</p>\n",
       "</div>"
      ],
      "text/plain": [
       "   duration  protocoltype  service  flag  srcbytes  dstbytes  land  \\\n",
       "0         0             1       22     9       181      5450     0   \n",
       "1         0             1       22     9       239       486     0   \n",
       "2         0             1       22     9       235      1337     0   \n",
       "\n",
       "   wrongfragment  urgent  hot  ...  dsthostsrvcount  dsthostsamesrvrate  \\\n",
       "0              0       0    0  ...                9                 1.0   \n",
       "1              0       0    0  ...               19                 1.0   \n",
       "2              0       0    0  ...               29                 1.0   \n",
       "\n",
       "   dsthostdiffsrvrate  dsthostsamesrcportrate  dsthostsrvdiffhostrate  \\\n",
       "0                 0.0                    0.11                     0.0   \n",
       "1                 0.0                    0.05                     0.0   \n",
       "2                 0.0                    0.03                     0.0   \n",
       "\n",
       "   dsthostserrorrate  dsthostsrvserrorrate  dsthostrerrorrate  \\\n",
       "0                0.0                   0.0                0.0   \n",
       "1                0.0                   0.0                0.0   \n",
       "2                0.0                   0.0                0.0   \n",
       "\n",
       "   dsthostsrvrerror_rate  labels  \n",
       "0                    0.0      11  \n",
       "1                    0.0      11  \n",
       "2                    0.0      11  \n",
       "\n",
       "[3 rows x 42 columns]"
      ]
     },
     "execution_count": 46,
     "metadata": {},
     "output_type": "execute_result"
    }
   ],
   "source": [
    "df.head(3)"
   ]
  },
  {
   "cell_type": "code",
   "execution_count": 47,
   "id": "e0f02d26",
   "metadata": {},
   "outputs": [],
   "source": [
    "from sklearn.preprocessing import StandardScaler\n",
    "scaler = StandardScaler()\n",
    "df[['dstbytes','srcbytes','count','srvcount','srvdiffhostrate','dsthostcount','dsthostsrvcount','dsthostsamesrcportrate','dsthostsrvdiffhostrate']] = StandardScaler().fit_transform(df[['dstbytes','srcbytes','count','srvcount','srvdiffhostrate','dsthostcount','dsthostsrvcount','dsthostsamesrcportrate','dsthostsrvdiffhostrate']])"
   ]
  },
  {
   "cell_type": "code",
   "execution_count": 48,
   "id": "0c6aa7a6",
   "metadata": {},
   "outputs": [
    {
     "data": {
      "text/html": [
       "<div>\n",
       "<style scoped>\n",
       "    .dataframe tbody tr th:only-of-type {\n",
       "        vertical-align: middle;\n",
       "    }\n",
       "\n",
       "    .dataframe tbody tr th {\n",
       "        vertical-align: top;\n",
       "    }\n",
       "\n",
       "    .dataframe thead th {\n",
       "        text-align: right;\n",
       "    }\n",
       "</style>\n",
       "<table border=\"1\" class=\"dataframe\">\n",
       "  <thead>\n",
       "    <tr style=\"text-align: right;\">\n",
       "      <th></th>\n",
       "      <th>duration</th>\n",
       "      <th>protocoltype</th>\n",
       "      <th>service</th>\n",
       "      <th>flag</th>\n",
       "      <th>srcbytes</th>\n",
       "      <th>dstbytes</th>\n",
       "      <th>land</th>\n",
       "      <th>wrongfragment</th>\n",
       "      <th>urgent</th>\n",
       "      <th>hot</th>\n",
       "      <th>...</th>\n",
       "      <th>dsthostsrvcount</th>\n",
       "      <th>dsthostsamesrvrate</th>\n",
       "      <th>dsthostdiffsrvrate</th>\n",
       "      <th>dsthostsamesrcportrate</th>\n",
       "      <th>dsthostsrvdiffhostrate</th>\n",
       "      <th>dsthostserrorrate</th>\n",
       "      <th>dsthostsrvserrorrate</th>\n",
       "      <th>dsthostrerrorrate</th>\n",
       "      <th>dsthostsrvrerror_rate</th>\n",
       "      <th>labels</th>\n",
       "    </tr>\n",
       "  </thead>\n",
       "  <tbody>\n",
       "    <tr>\n",
       "      <th>0</th>\n",
       "      <td>0</td>\n",
       "      <td>1</td>\n",
       "      <td>22</td>\n",
       "      <td>9</td>\n",
       "      <td>-0.004594</td>\n",
       "      <td>0.033268</td>\n",
       "      <td>0</td>\n",
       "      <td>0</td>\n",
       "      <td>0</td>\n",
       "      <td>0</td>\n",
       "      <td>...</td>\n",
       "      <td>-1.200687</td>\n",
       "      <td>1.0</td>\n",
       "      <td>0.0</td>\n",
       "      <td>0.053437</td>\n",
       "      <td>-0.351739</td>\n",
       "      <td>0.0</td>\n",
       "      <td>0.0</td>\n",
       "      <td>0.0</td>\n",
       "      <td>0.0</td>\n",
       "      <td>11</td>\n",
       "    </tr>\n",
       "    <tr>\n",
       "      <th>1</th>\n",
       "      <td>0</td>\n",
       "      <td>1</td>\n",
       "      <td>22</td>\n",
       "      <td>9</td>\n",
       "      <td>-0.004564</td>\n",
       "      <td>-0.042752</td>\n",
       "      <td>0</td>\n",
       "      <td>0</td>\n",
       "      <td>0</td>\n",
       "      <td>0</td>\n",
       "      <td>...</td>\n",
       "      <td>-1.112251</td>\n",
       "      <td>1.0</td>\n",
       "      <td>0.0</td>\n",
       "      <td>-0.195334</td>\n",
       "      <td>-0.351739</td>\n",
       "      <td>0.0</td>\n",
       "      <td>0.0</td>\n",
       "      <td>0.0</td>\n",
       "      <td>0.0</td>\n",
       "      <td>11</td>\n",
       "    </tr>\n",
       "    <tr>\n",
       "      <th>2</th>\n",
       "      <td>0</td>\n",
       "      <td>1</td>\n",
       "      <td>22</td>\n",
       "      <td>9</td>\n",
       "      <td>-0.004567</td>\n",
       "      <td>-0.029719</td>\n",
       "      <td>0</td>\n",
       "      <td>0</td>\n",
       "      <td>0</td>\n",
       "      <td>0</td>\n",
       "      <td>...</td>\n",
       "      <td>-1.023815</td>\n",
       "      <td>1.0</td>\n",
       "      <td>0.0</td>\n",
       "      <td>-0.278258</td>\n",
       "      <td>-0.351739</td>\n",
       "      <td>0.0</td>\n",
       "      <td>0.0</td>\n",
       "      <td>0.0</td>\n",
       "      <td>0.0</td>\n",
       "      <td>11</td>\n",
       "    </tr>\n",
       "  </tbody>\n",
       "</table>\n",
       "<p>3 rows × 42 columns</p>\n",
       "</div>"
      ],
      "text/plain": [
       "   duration  protocoltype  service  flag  srcbytes  dstbytes  land  \\\n",
       "0         0             1       22     9 -0.004594  0.033268     0   \n",
       "1         0             1       22     9 -0.004564 -0.042752     0   \n",
       "2         0             1       22     9 -0.004567 -0.029719     0   \n",
       "\n",
       "   wrongfragment  urgent  hot  ...  dsthostsrvcount  dsthostsamesrvrate  \\\n",
       "0              0       0    0  ...        -1.200687                 1.0   \n",
       "1              0       0    0  ...        -1.112251                 1.0   \n",
       "2              0       0    0  ...        -1.023815                 1.0   \n",
       "\n",
       "   dsthostdiffsrvrate  dsthostsamesrcportrate  dsthostsrvdiffhostrate  \\\n",
       "0                 0.0                0.053437               -0.351739   \n",
       "1                 0.0               -0.195334               -0.351739   \n",
       "2                 0.0               -0.278258               -0.351739   \n",
       "\n",
       "   dsthostserrorrate  dsthostsrvserrorrate  dsthostrerrorrate  \\\n",
       "0                0.0                   0.0                0.0   \n",
       "1                0.0                   0.0                0.0   \n",
       "2                0.0                   0.0                0.0   \n",
       "\n",
       "   dsthostsrvrerror_rate  labels  \n",
       "0                    0.0      11  \n",
       "1                    0.0      11  \n",
       "2                    0.0      11  \n",
       "\n",
       "[3 rows x 42 columns]"
      ]
     },
     "execution_count": 48,
     "metadata": {},
     "output_type": "execute_result"
    }
   ],
   "source": [
    "df.head(3)"
   ]
  },
  {
   "cell_type": "code",
   "execution_count": 49,
   "id": "561404d0",
   "metadata": {},
   "outputs": [],
   "source": [
    "from sklearn.model_selection import train_test_split\n",
    "from sklearn.metrics import confusion_matrix\n",
    "from sklearn.neighbors import KNeighborsClassifier\n",
    "from sklearn.preprocessing import StandardScaler\n",
    "\n",
    "X = df[['srcbytes','dstbytes']]\n",
    "y = df[['labels']]\n",
    "X_train, X_test, y_train, y_test = train_test_split(X, y, random_state=1)"
   ]
  },
  {
   "cell_type": "code",
   "execution_count": 50,
   "id": "db372996",
   "metadata": {},
   "outputs": [
    {
     "data": {
      "text/html": [
       "<div>\n",
       "<style scoped>\n",
       "    .dataframe tbody tr th:only-of-type {\n",
       "        vertical-align: middle;\n",
       "    }\n",
       "\n",
       "    .dataframe tbody tr th {\n",
       "        vertical-align: top;\n",
       "    }\n",
       "\n",
       "    .dataframe thead th {\n",
       "        text-align: right;\n",
       "    }\n",
       "</style>\n",
       "<table border=\"1\" class=\"dataframe\">\n",
       "  <thead>\n",
       "    <tr style=\"text-align: right;\">\n",
       "      <th></th>\n",
       "      <th>labels</th>\n",
       "    </tr>\n",
       "  </thead>\n",
       "  <tbody>\n",
       "    <tr>\n",
       "      <th>89662</th>\n",
       "      <td>11</td>\n",
       "    </tr>\n",
       "    <tr>\n",
       "      <th>26520</th>\n",
       "      <td>11</td>\n",
       "    </tr>\n",
       "    <tr>\n",
       "      <th>357823</th>\n",
       "      <td>9</td>\n",
       "    </tr>\n",
       "    <tr>\n",
       "      <th>108079</th>\n",
       "      <td>11</td>\n",
       "    </tr>\n",
       "    <tr>\n",
       "      <th>371900</th>\n",
       "      <td>11</td>\n",
       "    </tr>\n",
       "  </tbody>\n",
       "</table>\n",
       "</div>"
      ],
      "text/plain": [
       "        labels\n",
       "89662       11\n",
       "26520       11\n",
       "357823       9\n",
       "108079      11\n",
       "371900      11"
      ]
     },
     "execution_count": 50,
     "metadata": {},
     "output_type": "execute_result"
    }
   ],
   "source": [
    "st_x= StandardScaler()    \n",
    "X_train= st_x.fit_transform(X_train)    \n",
    "X_test= st_x.transform(X_test)  \n",
    "y_test.head(5)"
   ]
  },
  {
   "cell_type": "code",
   "execution_count": 51,
   "id": "0adca96b",
   "metadata": {},
   "outputs": [
    {
     "name": "stderr",
     "output_type": "stream",
     "text": [
      "C:\\Users\\user\\anaconda3\\lib\\site-packages\\sklearn\\neighbors\\_classification.py:179: DataConversionWarning: A column-vector y was passed when a 1d array was expected. Please change the shape of y to (n_samples,), for example using ravel().\n",
      "  return self._fit(X, y)\n"
     ]
    },
    {
     "data": {
      "text/plain": [
       "KNeighborsClassifier(metric='euclidean')"
      ]
     },
     "execution_count": 51,
     "metadata": {},
     "output_type": "execute_result"
    }
   ],
   "source": [
    "knn = KNeighborsClassifier(n_neighbors=5, metric='euclidean')\n",
    "knn.fit(X_train, y_train)"
   ]
  },
  {
   "cell_type": "code",
   "execution_count": 52,
   "id": "418f7db4",
   "metadata": {},
   "outputs": [],
   "source": [
    "y_pred = knn.predict(X_test)"
   ]
  },
  {
   "cell_type": "code",
   "execution_count": 54,
   "id": "2fcc1219",
   "metadata": {},
   "outputs": [],
   "source": [
    "from sklearn.metrics import accuracy_score"
   ]
  },
  {
   "cell_type": "code",
   "execution_count": 55,
   "id": "41546920",
   "metadata": {},
   "outputs": [
    {
     "data": {
      "text/plain": [
       "0.9532849491332045"
      ]
     },
     "execution_count": 55,
     "metadata": {},
     "output_type": "execute_result"
    }
   ],
   "source": [
    "accuracy_score(y_test, y_pred)"
   ]
  },
  {
   "cell_type": "code",
   "execution_count": 56,
   "id": "cc4d1f4c",
   "metadata": {},
   "outputs": [],
   "source": [
    "from sklearn.metrics import precision_recall_fscore_support"
   ]
  },
  {
   "cell_type": "code",
   "execution_count": null,
   "id": "b4bc9d78",
   "metadata": {},
   "outputs": [],
   "source": [
    "precision_score(y_test, y_pred, pos_label='positive', average='micro')"
   ]
  },
  {
   "cell_type": "code",
   "execution_count": 100,
   "id": "1d3da56a",
   "metadata": {},
   "outputs": [],
   "source": [
    "from sklearn.metrics import precision_score"
   ]
  },
  {
   "cell_type": "code",
   "execution_count": 62,
   "id": "1f50871b",
   "metadata": {},
   "outputs": [],
   "source": [
    "from sklearn.metrics import recall_score"
   ]
  },
  {
   "cell_type": "code",
   "execution_count": 66,
   "id": "c06769cf",
   "metadata": {},
   "outputs": [
    {
     "name": "stderr",
     "output_type": "stream",
     "text": [
      "C:\\Users\\user\\anaconda3\\lib\\site-packages\\sklearn\\metrics\\_classification.py:1298: UserWarning: Note that pos_label (set to 'positive') is ignored when average != 'binary' (got 'micro'). You may use labels=[pos_label] to specify a single positive class.\n",
      "  warnings.warn(\"Note that pos_label (set to %r) is ignored when \"\n"
     ]
    },
    {
     "data": {
      "text/plain": [
       "0.9532849491332045"
      ]
     },
     "execution_count": 66,
     "metadata": {},
     "output_type": "execute_result"
    }
   ],
   "source": [
    "recall_score(y_test, y_pred, pos_label='positive', average='micro')"
   ]
  },
  {
   "cell_type": "code",
   "execution_count": 67,
   "id": "1096d1d8",
   "metadata": {},
   "outputs": [],
   "source": [
    "from sklearn.metrics import f1_score"
   ]
  },
  {
   "cell_type": "code",
   "execution_count": 68,
   "id": "f04185ff",
   "metadata": {},
   "outputs": [
    {
     "name": "stderr",
     "output_type": "stream",
     "text": [
      "C:\\Users\\user\\anaconda3\\lib\\site-packages\\sklearn\\metrics\\_classification.py:1298: UserWarning: Note that pos_label (set to 'positive') is ignored when average != 'binary' (got 'micro'). You may use labels=[pos_label] to specify a single positive class.\n",
      "  warnings.warn(\"Note that pos_label (set to %r) is ignored when \"\n"
     ]
    },
    {
     "data": {
      "text/plain": [
       "0.9532849491332045"
      ]
     },
     "execution_count": 68,
     "metadata": {},
     "output_type": "execute_result"
    }
   ],
   "source": [
    "f1_score(y_test, y_pred, pos_label='positive', average='micro')"
   ]
  },
  {
   "cell_type": "code",
   "execution_count": 69,
   "id": "a6fff1c3",
   "metadata": {},
   "outputs": [
    {
     "name": "stderr",
     "output_type": "stream",
     "text": [
      "C:\\Users\\user\\anaconda3\\lib\\site-packages\\sklearn\\neighbors\\_classification.py:179: DataConversionWarning: A column-vector y was passed when a 1d array was expected. Please change the shape of y to (n_samples,), for example using ravel().\n",
      "  return self._fit(X, y)\n",
      "C:\\Users\\user\\anaconda3\\lib\\site-packages\\sklearn\\neighbors\\_classification.py:179: DataConversionWarning: A column-vector y was passed when a 1d array was expected. Please change the shape of y to (n_samples,), for example using ravel().\n",
      "  return self._fit(X, y)\n",
      "C:\\Users\\user\\anaconda3\\lib\\site-packages\\sklearn\\neighbors\\_classification.py:179: DataConversionWarning: A column-vector y was passed when a 1d array was expected. Please change the shape of y to (n_samples,), for example using ravel().\n",
      "  return self._fit(X, y)\n",
      "C:\\Users\\user\\anaconda3\\lib\\site-packages\\sklearn\\neighbors\\_classification.py:179: DataConversionWarning: A column-vector y was passed when a 1d array was expected. Please change the shape of y to (n_samples,), for example using ravel().\n",
      "  return self._fit(X, y)\n",
      "C:\\Users\\user\\anaconda3\\lib\\site-packages\\sklearn\\neighbors\\_classification.py:179: DataConversionWarning: A column-vector y was passed when a 1d array was expected. Please change the shape of y to (n_samples,), for example using ravel().\n",
      "  return self._fit(X, y)\n",
      "C:\\Users\\user\\anaconda3\\lib\\site-packages\\sklearn\\neighbors\\_classification.py:179: DataConversionWarning: A column-vector y was passed when a 1d array was expected. Please change the shape of y to (n_samples,), for example using ravel().\n",
      "  return self._fit(X, y)\n",
      "C:\\Users\\user\\anaconda3\\lib\\site-packages\\sklearn\\neighbors\\_classification.py:179: DataConversionWarning: A column-vector y was passed when a 1d array was expected. Please change the shape of y to (n_samples,), for example using ravel().\n",
      "  return self._fit(X, y)\n",
      "C:\\Users\\user\\anaconda3\\lib\\site-packages\\sklearn\\neighbors\\_classification.py:179: DataConversionWarning: A column-vector y was passed when a 1d array was expected. Please change the shape of y to (n_samples,), for example using ravel().\n",
      "  return self._fit(X, y)\n",
      "C:\\Users\\user\\anaconda3\\lib\\site-packages\\sklearn\\neighbors\\_classification.py:179: DataConversionWarning: A column-vector y was passed when a 1d array was expected. Please change the shape of y to (n_samples,), for example using ravel().\n",
      "  return self._fit(X, y)\n",
      "C:\\Users\\user\\anaconda3\\lib\\site-packages\\sklearn\\neighbors\\_classification.py:179: DataConversionWarning: A column-vector y was passed when a 1d array was expected. Please change the shape of y to (n_samples,), for example using ravel().\n",
      "  return self._fit(X, y)\n",
      "C:\\Users\\user\\anaconda3\\lib\\site-packages\\sklearn\\neighbors\\_classification.py:179: DataConversionWarning: A column-vector y was passed when a 1d array was expected. Please change the shape of y to (n_samples,), for example using ravel().\n",
      "  return self._fit(X, y)\n",
      "C:\\Users\\user\\anaconda3\\lib\\site-packages\\sklearn\\neighbors\\_classification.py:179: DataConversionWarning: A column-vector y was passed when a 1d array was expected. Please change the shape of y to (n_samples,), for example using ravel().\n",
      "  return self._fit(X, y)\n",
      "C:\\Users\\user\\anaconda3\\lib\\site-packages\\sklearn\\neighbors\\_classification.py:179: DataConversionWarning: A column-vector y was passed when a 1d array was expected. Please change the shape of y to (n_samples,), for example using ravel().\n",
      "  return self._fit(X, y)\n",
      "C:\\Users\\user\\anaconda3\\lib\\site-packages\\sklearn\\neighbors\\_classification.py:179: DataConversionWarning: A column-vector y was passed when a 1d array was expected. Please change the shape of y to (n_samples,), for example using ravel().\n",
      "  return self._fit(X, y)\n",
      "C:\\Users\\user\\anaconda3\\lib\\site-packages\\sklearn\\neighbors\\_classification.py:179: DataConversionWarning: A column-vector y was passed when a 1d array was expected. Please change the shape of y to (n_samples,), for example using ravel().\n",
      "  return self._fit(X, y)\n",
      "C:\\Users\\user\\anaconda3\\lib\\site-packages\\sklearn\\neighbors\\_classification.py:179: DataConversionWarning: A column-vector y was passed when a 1d array was expected. Please change the shape of y to (n_samples,), for example using ravel().\n",
      "  return self._fit(X, y)\n",
      "C:\\Users\\user\\anaconda3\\lib\\site-packages\\sklearn\\neighbors\\_classification.py:179: DataConversionWarning: A column-vector y was passed when a 1d array was expected. Please change the shape of y to (n_samples,), for example using ravel().\n",
      "  return self._fit(X, y)\n",
      "C:\\Users\\user\\anaconda3\\lib\\site-packages\\sklearn\\neighbors\\_classification.py:179: DataConversionWarning: A column-vector y was passed when a 1d array was expected. Please change the shape of y to (n_samples,), for example using ravel().\n",
      "  return self._fit(X, y)\n",
      "C:\\Users\\user\\anaconda3\\lib\\site-packages\\sklearn\\neighbors\\_classification.py:179: DataConversionWarning: A column-vector y was passed when a 1d array was expected. Please change the shape of y to (n_samples,), for example using ravel().\n",
      "  return self._fit(X, y)\n",
      "C:\\Users\\user\\anaconda3\\lib\\site-packages\\sklearn\\neighbors\\_classification.py:179: DataConversionWarning: A column-vector y was passed when a 1d array was expected. Please change the shape of y to (n_samples,), for example using ravel().\n",
      "  return self._fit(X, y)\n",
      "C:\\Users\\user\\anaconda3\\lib\\site-packages\\sklearn\\neighbors\\_classification.py:179: DataConversionWarning: A column-vector y was passed when a 1d array was expected. Please change the shape of y to (n_samples,), for example using ravel().\n",
      "  return self._fit(X, y)\n",
      "C:\\Users\\user\\anaconda3\\lib\\site-packages\\sklearn\\neighbors\\_classification.py:179: DataConversionWarning: A column-vector y was passed when a 1d array was expected. Please change the shape of y to (n_samples,), for example using ravel().\n",
      "  return self._fit(X, y)\n",
      "C:\\Users\\user\\anaconda3\\lib\\site-packages\\sklearn\\neighbors\\_classification.py:179: DataConversionWarning: A column-vector y was passed when a 1d array was expected. Please change the shape of y to (n_samples,), for example using ravel().\n",
      "  return self._fit(X, y)\n",
      "C:\\Users\\user\\anaconda3\\lib\\site-packages\\sklearn\\neighbors\\_classification.py:179: DataConversionWarning: A column-vector y was passed when a 1d array was expected. Please change the shape of y to (n_samples,), for example using ravel().\n",
      "  return self._fit(X, y)\n",
      "C:\\Users\\user\\anaconda3\\lib\\site-packages\\sklearn\\neighbors\\_classification.py:179: DataConversionWarning: A column-vector y was passed when a 1d array was expected. Please change the shape of y to (n_samples,), for example using ravel().\n",
      "  return self._fit(X, y)\n",
      "C:\\Users\\user\\anaconda3\\lib\\site-packages\\sklearn\\neighbors\\_classification.py:179: DataConversionWarning: A column-vector y was passed when a 1d array was expected. Please change the shape of y to (n_samples,), for example using ravel().\n",
      "  return self._fit(X, y)\n",
      "C:\\Users\\user\\anaconda3\\lib\\site-packages\\sklearn\\neighbors\\_classification.py:179: DataConversionWarning: A column-vector y was passed when a 1d array was expected. Please change the shape of y to (n_samples,), for example using ravel().\n",
      "  return self._fit(X, y)\n",
      "C:\\Users\\user\\anaconda3\\lib\\site-packages\\sklearn\\neighbors\\_classification.py:179: DataConversionWarning: A column-vector y was passed when a 1d array was expected. Please change the shape of y to (n_samples,), for example using ravel().\n",
      "  return self._fit(X, y)\n",
      "C:\\Users\\user\\anaconda3\\lib\\site-packages\\sklearn\\neighbors\\_classification.py:179: DataConversionWarning: A column-vector y was passed when a 1d array was expected. Please change the shape of y to (n_samples,), for example using ravel().\n",
      "  return self._fit(X, y)\n",
      "C:\\Users\\user\\anaconda3\\lib\\site-packages\\sklearn\\neighbors\\_classification.py:179: DataConversionWarning: A column-vector y was passed when a 1d array was expected. Please change the shape of y to (n_samples,), for example using ravel().\n",
      "  return self._fit(X, y)\n",
      "C:\\Users\\user\\anaconda3\\lib\\site-packages\\sklearn\\neighbors\\_classification.py:179: DataConversionWarning: A column-vector y was passed when a 1d array was expected. Please change the shape of y to (n_samples,), for example using ravel().\n",
      "  return self._fit(X, y)\n",
      "C:\\Users\\user\\anaconda3\\lib\\site-packages\\sklearn\\neighbors\\_classification.py:179: DataConversionWarning: A column-vector y was passed when a 1d array was expected. Please change the shape of y to (n_samples,), for example using ravel().\n",
      "  return self._fit(X, y)\n",
      "C:\\Users\\user\\anaconda3\\lib\\site-packages\\sklearn\\neighbors\\_classification.py:179: DataConversionWarning: A column-vector y was passed when a 1d array was expected. Please change the shape of y to (n_samples,), for example using ravel().\n",
      "  return self._fit(X, y)\n",
      "C:\\Users\\user\\anaconda3\\lib\\site-packages\\sklearn\\neighbors\\_classification.py:179: DataConversionWarning: A column-vector y was passed when a 1d array was expected. Please change the shape of y to (n_samples,), for example using ravel().\n",
      "  return self._fit(X, y)\n",
      "C:\\Users\\user\\anaconda3\\lib\\site-packages\\sklearn\\neighbors\\_classification.py:179: DataConversionWarning: A column-vector y was passed when a 1d array was expected. Please change the shape of y to (n_samples,), for example using ravel().\n",
      "  return self._fit(X, y)\n",
      "C:\\Users\\user\\anaconda3\\lib\\site-packages\\sklearn\\neighbors\\_classification.py:179: DataConversionWarning: A column-vector y was passed when a 1d array was expected. Please change the shape of y to (n_samples,), for example using ravel().\n",
      "  return self._fit(X, y)\n",
      "C:\\Users\\user\\anaconda3\\lib\\site-packages\\sklearn\\neighbors\\_classification.py:179: DataConversionWarning: A column-vector y was passed when a 1d array was expected. Please change the shape of y to (n_samples,), for example using ravel().\n",
      "  return self._fit(X, y)\n",
      "C:\\Users\\user\\anaconda3\\lib\\site-packages\\sklearn\\neighbors\\_classification.py:179: DataConversionWarning: A column-vector y was passed when a 1d array was expected. Please change the shape of y to (n_samples,), for example using ravel().\n",
      "  return self._fit(X, y)\n",
      "C:\\Users\\user\\anaconda3\\lib\\site-packages\\sklearn\\neighbors\\_classification.py:179: DataConversionWarning: A column-vector y was passed when a 1d array was expected. Please change the shape of y to (n_samples,), for example using ravel().\n",
      "  return self._fit(X, y)\n"
     ]
    },
    {
     "data": {
      "image/png": "[encoded data removed]",
      "text/plain": [
       "<Figure size 720x432 with 1 Axes>"
      ]
     },
     "metadata": {},
     "output_type": "display_data"
    },
    {
     "name": "stdout",
     "output_type": "stream",
     "text": [
      "Minimum error:- 0.04494025924634737 at K = 10\n"
     ]
    }
   ],
   "source": [
    "error_rate = []\n",
    "for i in range(1,40):\n",
    " knn = KNeighborsClassifier(n_neighbors=i)\n",
    " knn.fit(X_train,y_train)\n",
    " pred_i = knn.predict(X_test)\n",
    " #print (pred_i)\n",
    " #print (1-accuracy_score(y_test, pred_i))\n",
    " error_rate.append(1-accuracy_score(y_test, pred_i))\n",
    "\n",
    "plt.figure(figsize=(10,6))\n",
    "plt.plot(range(1,40),error_rate,color='blue', linestyle='dashed', \n",
    "         marker='o',markerfacecolor='red', markersize=10)\n",
    "plt.title('Error Rate vs. K Value')\n",
    "plt.xlabel('K')\n",
    "plt.ylabel('Error Rate')\n",
    "plt.show()\n",
    "print(\"Minimum error:-\",min(error_rate),\"at K =\",error_rate.index(min(error_rate))+1)"
   ]
  },
  {
   "cell_type": "code",
   "execution_count": 70,
   "id": "5f30ab37",
   "metadata": {},
   "outputs": [
    {
     "name": "stderr",
     "output_type": "stream",
     "text": [
      "C:\\Users\\user\\anaconda3\\lib\\site-packages\\sklearn\\neighbors\\_classification.py:179: DataConversionWarning: A column-vector y was passed when a 1d array was expected. Please change the shape of y to (n_samples,), for example using ravel().\n",
      "  return self._fit(X, y)\n"
     ]
    },
    {
     "data": {
      "text/plain": [
       "KNeighborsClassifier(metric='euclidean', n_neighbors=10)"
      ]
     },
     "execution_count": 70,
     "metadata": {},
     "output_type": "execute_result"
    }
   ],
   "source": [
    "knn = KNeighborsClassifier(n_neighbors=10, metric='euclidean')\n",
    "knn.fit(X_train, y_train)"
   ]
  },
  {
   "cell_type": "code",
   "execution_count": 71,
   "id": "34476ee9",
   "metadata": {},
   "outputs": [],
   "source": [
    "y_pred = knn.predict(X_test)"
   ]
  },
  {
   "cell_type": "code",
   "execution_count": 72,
   "id": "741c738b",
   "metadata": {},
   "outputs": [
    {
     "data": {
      "text/plain": [
       "0.9550597407536526"
      ]
     },
     "execution_count": 72,
     "metadata": {},
     "output_type": "execute_result"
    }
   ],
   "source": [
    "accuracy_score(y_test, y_pred)"
   ]
  },
  {
   "cell_type": "code",
   "execution_count": 73,
   "id": "f1af0eb2",
   "metadata": {},
   "outputs": [],
   "source": [
    "from sklearn.preprocessing import StandardScaler\n",
    "from sklearn.tree import DecisionTreeClassifier as dtree\n",
    "from sklearn.tree import export_graphviz\n",
    "import graphviz"
   ]
  },
  {
   "cell_type": "code",
   "execution_count": 74,
   "id": "4300c854",
   "metadata": {},
   "outputs": [],
   "source": [
    "from IPython.core.interactiveshell import InteractiveShell\n",
    "InteractiveShell.ast_node_interactivity = \"all\""
   ]
  },
  {
   "cell_type": "code",
   "execution_count": 75,
   "id": "372eb11d",
   "metadata": {},
   "outputs": [],
   "source": [
    "X = df[['srcbytes','dstbytes']]\n",
    "Y = df[['labels']]"
   ]
  },
  {
   "cell_type": "code",
   "execution_count": 76,
   "id": "f7c5f20a",
   "metadata": {},
   "outputs": [
    {
     "data": {
      "text/plain": [
       "StandardScaler()"
      ]
     },
     "execution_count": 76,
     "metadata": {},
     "output_type": "execute_result"
    }
   ],
   "source": [
    "ss = StandardScaler()\n",
    "ss.fit(X)\n",
    "X = ss.transform(X)"
   ]
  },
  {
   "cell_type": "code",
   "execution_count": 77,
   "id": "86277296",
   "metadata": {},
   "outputs": [],
   "source": [
    "X_train, X_test, Y_train, Y_test = train_test_split(\n",
    "                                                     X,\n",
    "                                                     Y,\n",
    "                                                     test_size = 0.3,\n",
    "                                                     shuffle = True,\n",
    "                                                     stratify = Y\n",
    "                                                    )"
   ]
  },
  {
   "cell_type": "code",
   "execution_count": 78,
   "id": "6222d27a",
   "metadata": {},
   "outputs": [
    {
     "data": {
      "text/plain": [
       "(88346, 2)"
      ]
     },
     "execution_count": 78,
     "metadata": {},
     "output_type": "execute_result"
    },
    {
     "name": "stdout",
     "output_type": "stream",
     "text": [
      "\n"
     ]
    },
    {
     "data": {
      "text/plain": [
       "(37863, 2)"
      ]
     },
     "execution_count": 78,
     "metadata": {},
     "output_type": "execute_result"
    },
    {
     "name": "stdout",
     "output_type": "stream",
     "text": [
      "\n"
     ]
    }
   ],
   "source": [
    "X_train.shape \n",
    "print()\n",
    "\n",
    "X_test.shape  \n",
    "print()"
   ]
  },
  {
   "cell_type": "code",
   "execution_count": 79,
   "id": "ab52063e",
   "metadata": {},
   "outputs": [],
   "source": [
    "ct = dtree(\n",
    "           criterion=\"gini\",    \n",
    "           max_depth=None      \n",
    "           )"
   ]
  },
  {
   "cell_type": "code",
   "execution_count": 80,
   "id": "7574e761",
   "metadata": {},
   "outputs": [
    {
     "data": {
      "text/plain": [
       "DecisionTreeClassifier()"
      ]
     },
     "execution_count": 80,
     "metadata": {},
     "output_type": "execute_result"
    }
   ],
   "source": [
    "ct.fit(X_train,Y_train)"
   ]
  },
  {
   "cell_type": "code",
   "execution_count": 81,
   "id": "833adaef",
   "metadata": {},
   "outputs": [],
   "source": [
    "Y_pred = ct.predict(X_test)"
   ]
  },
  {
   "cell_type": "code",
   "execution_count": 82,
   "id": "5485eb48",
   "metadata": {},
   "outputs": [
    {
     "name": "stdout",
     "output_type": "stream",
     "text": [
      "Accuracy: 0.9549164091593376\n"
     ]
    }
   ],
   "source": [
    "print(\"Accuracy:\",accuracy_score(Y_test, Y_pred))"
   ]
  },
  {
   "cell_type": "code",
   "execution_count": 83,
   "id": "148e4fc4",
   "metadata": {},
   "outputs": [
    {
     "data": {
      "text/plain": [
       "<Figure size 864x504 with 0 Axes>"
      ]
     },
     "execution_count": 83,
     "metadata": {},
     "output_type": "execute_result"
    },
    {
     "data": {
      "text/plain": [
       "[Text(249.11942811077392, 369.32823529411763, 'X[0] <= -0.005\\ngini = 0.46\\nsamples = 88346\\nvalue = [587, 21, 6, 37, 8, 358, 12, 6, 5, 24884, 110\\n59917, 2, 3, 106, 263, 7, 498, 319, 2, 600, 581\\n14]'),\n",
       " Text(42.675569044006075, 346.94470588235293, 'X[0] <= -0.005\\ngini = 0.246\\nsamples = 28885\\nvalue = [0, 6, 2, 0, 5, 62, 12, 2, 2, 24884, 16, 3132\\n0, 0, 0, 261, 1, 487, 0, 0, 0, 0, 13]'),\n",
       " Text(34.546889226100156, 324.56117647058824, 'X[1] <= -0.05\\ngini = 0.236\\nsamples = 28704\\nvalue = [0, 6, 2, 0, 5, 62, 12, 2, 2, 24884, 16, 3130\\n0, 0, 0, 203, 1, 366, 0, 0, 0, 0, 13]'),\n",
       " Text(30.482549317147196, 302.1776470588235, 'gini = 0.233\\nsamples = 28639\\nvalue = [0, 0, 0, 0, 5, 57, 12, 0, 0, 24884, 16, 3096\\n0, 0, 0, 203, 0, 366, 0, 0, 0, 0, 0]'),\n",
       " Text(38.611229135053115, 302.1776470588235, 'X[1] <= 78.694\\ngini = 0.669\\nsamples = 65\\nvalue = [0, 6, 2, 0, 0, 5, 0, 2, 2, 0, 0, 34, 0, 0\\n0, 0, 1, 0, 0, 0, 0, 0, 13]'),\n",
       " Text(34.546889226100156, 279.7941176470588, 'X[1] <= -0.022\\ngini = 0.562\\nsamples = 53\\nvalue = [0, 6, 2, 0, 0, 5, 0, 2, 2, 0, 0, 34, 0, 0\\n0, 0, 1, 0, 0, 0, 0, 0, 1]'),\n",
       " Text(8.128679817905919, 257.4105882352941, 'X[1] <= -0.05\\ngini = 0.38\\nsamples = 30\\nvalue = [0, 0, 2, 0, 0, 5, 0, 0, 0, 0, 0, 23, 0, 0\\n0, 0, 0, 0, 0, 0, 0, 0, 0]'),\n",
       " Text(4.0643399089529595, 235.0270588235294, 'gini = 0.208\\nsamples = 17\\nvalue = [0, 0, 0, 0, 0, 2, 0, 0, 0, 0, 0, 15, 0, 0\\n0, 0, 0, 0, 0, 0, 0, 0, 0]'),\n",
       " Text(12.193019726858878, 235.0270588235294, 'X[1] <= -0.05\\ngini = 0.544\\nsamples = 13\\nvalue = [0, 0, 2, 0, 0, 3, 0, 0, 0, 0, 0, 8, 0, 0\\n0, 0, 0, 0, 0, 0, 0, 0, 0]'),\n",
       " Text(8.128679817905919, 212.6435294117647, 'gini = 0.0\\nsamples = 2\\nvalue = [0, 0, 2, 0, 0, 0, 0, 0, 0, 0, 0, 0, 0, 0\\n0, 0, 0, 0, 0, 0, 0, 0, 0]'),\n",
       " Text(16.257359635811838, 212.6435294117647, 'X[1] <= -0.047\\ngini = 0.397\\nsamples = 11\\nvalue = [0, 0, 0, 0, 0, 3, 0, 0, 0, 0, 0, 8, 0, 0\\n0, 0, 0, 0, 0, 0, 0, 0, 0]'),\n",
       " Text(12.193019726858878, 190.26, 'X[1] <= -0.049\\ngini = 0.5\\nsamples = 6\\nvalue = [0, 0, 0, 0, 0, 3, 0, 0, 0, 0, 0, 3, 0, 0\\n0, 0, 0, 0, 0, 0, 0, 0, 0]'),\n",
       " Text(8.128679817905919, 167.8764705882353, 'gini = 0.375\\nsamples = 4\\nvalue = [0, 0, 0, 0, 0, 1, 0, 0, 0, 0, 0, 3, 0, 0\\n0, 0, 0, 0, 0, 0, 0, 0, 0]'),\n",
       " Text(16.257359635811838, 167.8764705882353, 'gini = 0.0\\nsamples = 2\\nvalue = [0, 0, 0, 0, 0, 2, 0, 0, 0, 0, 0, 0, 0, 0\\n0, 0, 0, 0, 0, 0, 0, 0, 0]'),\n",
       " Text(20.321699544764797, 190.26, 'gini = 0.0\\nsamples = 5\\nvalue = [0, 0, 0, 0, 0, 0, 0, 0, 0, 0, 0, 5, 0, 0\\n0, 0, 0, 0, 0, 0, 0, 0, 0]'),\n",
       " Text(60.96509863429439, 257.4105882352941, 'X[1] <= 0.041\\ngini = 0.684\\nsamples = 23\\nvalue = [0, 6, 0, 0, 0, 0, 0, 2, 2, 0, 0, 11, 0, 0\\n0, 0, 1, 0, 0, 0, 0, 0, 1]'),\n",
       " Text(40.643399089529595, 235.0270588235294, 'X[1] <= 0.027\\ngini = 0.628\\nsamples = 11\\nvalue = [0, 6, 0, 0, 0, 0, 0, 2, 0, 0, 0, 2, 0, 0\\n0, 0, 1, 0, 0, 0, 0, 0, 0]'),\n",
       " Text(32.514719271623676, 212.6435294117647, 'X[1] <= -0.009\\ngini = 0.625\\nsamples = 4\\nvalue = [0, 1, 0, 0, 0, 0, 0, 2, 0, 0, 0, 1, 0, 0\\n0, 0, 0, 0, 0, 0, 0, 0, 0]'),\n",
       " Text(28.450379362670716, 190.26, 'gini = 0.5\\nsamples = 2\\nvalue = [0, 1, 0, 0, 0, 0, 0, 1, 0, 0, 0, 0, 0, 0\\n0, 0, 0, 0, 0, 0, 0, 0, 0]'),\n",
       " Text(36.579059180576635, 190.26, 'X[1] <= 0.013\\ngini = 0.5\\nsamples = 2\\nvalue = [0, 0, 0, 0, 0, 0, 0, 1, 0, 0, 0, 1, 0, 0\\n0, 0, 0, 0, 0, 0, 0, 0, 0]'),\n",
       " Text(32.514719271623676, 167.8764705882353, 'gini = 0.0\\nsamples = 1\\nvalue = [0, 0, 0, 0, 0, 0, 0, 0, 0, 0, 0, 1, 0, 0\\n0, 0, 0, 0, 0, 0, 0, 0, 0]'),\n",
       " Text(40.643399089529595, 167.8764705882353, 'gini = 0.0\\nsamples = 1\\nvalue = [0, 0, 0, 0, 0, 0, 0, 1, 0, 0, 0, 0, 0, 0\\n0, 0, 0, 0, 0, 0, 0, 0, 0]'),\n",
       " Text(48.772078907435514, 212.6435294117647, 'X[1] <= 0.031\\ngini = 0.449\\nsamples = 7\\nvalue = [0, 5, 0, 0, 0, 0, 0, 0, 0, 0, 0, 1, 0, 0\\n0, 0, 1, 0, 0, 0, 0, 0, 0]'),\n",
       " Text(44.707738998482554, 190.26, 'gini = 0.0\\nsamples = 2\\nvalue = [0, 2, 0, 0, 0, 0, 0, 0, 0, 0, 0, 0, 0, 0\\n0, 0, 0, 0, 0, 0, 0, 0, 0]'),\n",
       " Text(52.83641881638847, 190.26, 'X[1] <= 0.037\\ngini = 0.56\\nsamples = 5\\nvalue = [0, 3, 0, 0, 0, 0, 0, 0, 0, 0, 0, 1, 0, 0\\n0, 0, 1, 0, 0, 0, 0, 0, 0]'),\n",
       " Text(48.772078907435514, 167.8764705882353, 'gini = 0.0\\nsamples = 1\\nvalue = [0, 0, 0, 0, 0, 0, 0, 0, 0, 0, 0, 0, 0, 0\\n0, 0, 1, 0, 0, 0, 0, 0, 0]'),\n",
       " Text(56.90075872534143, 167.8764705882353, 'X[1] <= 0.038\\ngini = 0.375\\nsamples = 4\\nvalue = [0, 3, 0, 0, 0, 0, 0, 0, 0, 0, 0, 1, 0, 0\\n0, 0, 0, 0, 0, 0, 0, 0, 0]'),\n",
       " Text(52.83641881638847, 145.49294117647057, 'gini = 0.5\\nsamples = 2\\nvalue = [0, 1, 0, 0, 0, 0, 0, 0, 0, 0, 0, 1, 0, 0\\n0, 0, 0, 0, 0, 0, 0, 0, 0]'),\n",
       " Text(60.96509863429439, 145.49294117647057, 'gini = 0.0\\nsamples = 2\\nvalue = [0, 2, 0, 0, 0, 0, 0, 0, 0, 0, 0, 0, 0, 0\\n0, 0, 0, 0, 0, 0, 0, 0, 0]'),\n",
       " Text(81.28679817905919, 235.0270588235294, 'X[1] <= 3.785\\ngini = 0.403\\nsamples = 12\\nvalue = [0, 0, 0, 0, 0, 0, 0, 0, 2, 0, 0, 9, 0, 0\\n0, 0, 0, 0, 0, 0, 0, 0, 1]'),\n",
       " Text(73.15811836115327, 212.6435294117647, 'X[1] <= 0.061\\ngini = 0.198\\nsamples = 9\\nvalue = [0, 0, 0, 0, 0, 0, 0, 0, 0, 0, 0, 8, 0, 0\\n0, 0, 0, 0, 0, 0, 0, 0, 1]'),\n",
       " Text(69.09377845220031, 190.26, 'X[1] <= 0.059\\ngini = 0.375\\nsamples = 4\\nvalue = [0, 0, 0, 0, 0, 0, 0, 0, 0, 0, 0, 3, 0, 0\\n0, 0, 0, 0, 0, 0, 0, 0, 1]'),\n",
       " Text(65.02943854324735, 167.8764705882353, 'gini = 0.0\\nsamples = 3\\nvalue = [0, 0, 0, 0, 0, 0, 0, 0, 0, 0, 0, 3, 0, 0\\n0, 0, 0, 0, 0, 0, 0, 0, 0]'),\n",
       " Text(73.15811836115327, 167.8764705882353, 'gini = 0.0\\nsamples = 1\\nvalue = [0, 0, 0, 0, 0, 0, 0, 0, 0, 0, 0, 0, 0, 0\\n0, 0, 0, 0, 0, 0, 0, 0, 1]'),\n",
       " Text(77.22245827010623, 190.26, 'gini = 0.0\\nsamples = 5\\nvalue = [0, 0, 0, 0, 0, 0, 0, 0, 0, 0, 0, 5, 0, 0\\n0, 0, 0, 0, 0, 0, 0, 0, 0]'),\n",
       " Text(89.41547799696511, 212.6435294117647, 'X[1] <= 46.829\\ngini = 0.444\\nsamples = 3\\nvalue = [0, 0, 0, 0, 0, 0, 0, 0, 2, 0, 0, 1, 0, 0\\n0, 0, 0, 0, 0, 0, 0, 0, 0]'),\n",
       " Text(85.35113808801215, 190.26, 'gini = 0.0\\nsamples = 2\\nvalue = [0, 0, 0, 0, 0, 0, 0, 0, 2, 0, 0, 0, 0, 0\\n0, 0, 0, 0, 0, 0, 0, 0, 0]'),\n",
       " Text(93.47981790591807, 190.26, 'gini = 0.0\\nsamples = 1\\nvalue = [0, 0, 0, 0, 0, 0, 0, 0, 0, 0, 0, 1, 0, 0\\n0, 0, 0, 0, 0, 0, 0, 0, 0]'),\n",
       " Text(42.675569044006075, 279.7941176470588, 'gini = 0.0\\nsamples = 12\\nvalue = [0, 0, 0, 0, 0, 0, 0, 0, 0, 0, 0, 0, 0, 0\\n0, 0, 0, 0, 0, 0, 0, 0, 12]'),\n",
       " Text(50.804248861911994, 324.56117647058824, 'X[1] <= -0.05\\ngini = 0.45\\nsamples = 181\\nvalue = [0, 0, 0, 0, 0, 0, 0, 0, 0, 0, 0, 2, 0, 0\\n0, 58, 0, 121, 0, 0, 0, 0, 0]'),\n",
       " Text(46.739908952959034, 302.1776470588235, 'gini = 0.447\\nsamples = 178\\nvalue = [0, 0, 0, 0, 0, 0, 0, 0, 0, 0, 0, 1, 0, 0\\n0, 58, 0, 119, 0, 0, 0, 0, 0]'),\n",
       " Text(54.86858877086495, 302.1776470588235, 'X[1] <= -0.05\\ngini = 0.444\\nsamples = 3\\nvalue = [0, 0, 0, 0, 0, 0, 0, 0, 0, 0, 0, 1, 0, 0\\n0, 0, 0, 2, 0, 0, 0, 0, 0]'),\n",
       " Text(50.804248861911994, 279.7941176470588, 'gini = 0.5\\nsamples = 2\\nvalue = [0, 0, 0, 0, 0, 0, 0, 0, 0, 0, 0, 1, 0, 0\\n0, 0, 0, 1, 0, 0, 0, 0, 0]'),\n",
       " Text(58.93292867981791, 279.7941176470588, 'gini = 0.0\\nsamples = 1\\nvalue = [0, 0, 0, 0, 0, 0, 0, 0, 0, 0, 0, 0, 0, 0\\n0, 0, 0, 1, 0, 0, 0, 0, 0]'),\n",
       " Text(455.5632871775418, 346.94470588235293, 'X[0] <= 0.016\\ngini = 0.088\\nsamples = 59461\\nvalue = [587, 15, 4, 37, 3, 296, 0, 4, 3, 0, 94, 56785\\n2, 3, 106, 2, 6, 11, 319, 2, 600, 581, 1]'),\n",
       " Text(271.3740705614568, 324.56117647058824, 'X[0] <= -0.005\\ngini = 0.069\\nsamples = 58771\\nvalue = [18, 15, 4, 37, 3, 296, 0, 4, 3, 0, 94, 56708\\n2, 3, 106, 1, 6, 11, 319, 2, 600, 538, 1]'),\n",
       " Text(162.06555386949927, 302.1776470588235, 'X[0] <= -0.005\\ngini = 0.672\\nsamples = 1600\\nvalue = [0, 0, 0, 0, 0, 296, 0, 0, 0, 0, 73, 622, 0\\n0, 0, 1, 1, 7, 0, 0, 600, 0, 0]'),\n",
       " Text(145.3001517450683, 279.7941176470588, 'X[1] <= -0.05\\ngini = 0.52\\nsamples = 999\\nvalue = [0, 0, 0, 0, 0, 296, 0, 0, 0, 0, 73, 621, 0\\n0, 0, 1, 1, 7, 0, 0, 0, 0, 0]'),\n",
       " Text(123.96236722306526, 257.4105882352941, 'X[0] <= -0.005\\ngini = 0.502\\nsamples = 443\\nvalue = [0, 0, 0, 0, 0, 296, 0, 0, 0, 0, 73, 69, 0, 0\\n0, 1, 1, 3, 0, 0, 0, 0, 0]'),\n",
       " Text(113.80151745068287, 235.0270588235294, 'X[0] <= -0.005\\ngini = 0.432\\nsamples = 407\\nvalue = [0, 0, 0, 0, 0, 296, 0, 0, 0, 0, 73, 34, 0, 0\\n0, 1, 1, 2, 0, 0, 0, 0, 0]'),\n",
       " Text(105.67283763277695, 212.6435294117647, 'X[0] <= -0.005\\ngini = 0.398\\nsamples = 295\\nvalue = [0, 0, 0, 0, 0, 217, 0, 0, 0, 0, 73, 1, 0, 0\\n0, 1, 1, 2, 0, 0, 0, 0, 0]'),\n",
       " Text(101.60849772382399, 190.26, 'X[0] <= -0.005\\ngini = 0.625\\nsamples = 4\\nvalue = [0, 0, 0, 0, 0, 0, 0, 0, 0, 0, 0, 1, 0, 0\\n0, 0, 1, 2, 0, 0, 0, 0, 0]'),\n",
       " Text(97.54415781487103, 167.8764705882353, 'gini = 0.0\\nsamples = 1\\nvalue = [0, 0, 0, 0, 0, 0, 0, 0, 0, 0, 0, 0, 0, 0\\n0, 0, 1, 0, 0, 0, 0, 0, 0]'),\n",
       " Text(105.67283763277695, 167.8764705882353, 'gini = 0.444\\nsamples = 3\\nvalue = [0, 0, 0, 0, 0, 0, 0, 0, 0, 0, 0, 1, 0, 0\\n0, 0, 0, 2, 0, 0, 0, 0, 0]'),\n",
       " Text(109.7371775417299, 190.26, 'gini = 0.381\\nsamples = 291\\nvalue = [0, 0, 0, 0, 0, 217, 0, 0, 0, 0, 73, 0, 0, 0\\n0, 1, 0, 0, 0, 0, 0, 0, 0]'),\n",
       " Text(121.93019726858878, 212.6435294117647, 'X[0] <= -0.005\\ngini = 0.416\\nsamples = 112\\nvalue = [0, 0, 0, 0, 0, 79, 0, 0, 0, 0, 0, 33, 0, 0\\n0, 0, 0, 0, 0, 0, 0, 0, 0]'),\n",
       " Text(117.86585735963583, 190.26, 'gini = 0.0\\nsamples = 32\\nvalue = [0, 0, 0, 0, 0, 0, 0, 0, 0, 0, 0, 32, 0, 0\\n0, 0, 0, 0, 0, 0, 0, 0, 0]'),\n",
       " Text(125.99453717754174, 190.26, 'gini = 0.025\\nsamples = 80\\nvalue = [0, 0, 0, 0, 0, 79, 0, 0, 0, 0, 0, 1, 0, 0\\n0, 0, 0, 0, 0, 0, 0, 0, 0]'),\n",
       " Text(134.12321699544765, 235.0270588235294, 'X[0] <= -0.005\\ngini = 0.054\\nsamples = 36\\nvalue = [0, 0, 0, 0, 0, 0, 0, 0, 0, 0, 0, 35, 0, 0\\n0, 0, 0, 1, 0, 0, 0, 0, 0]'),\n",
       " Text(130.0588770864947, 212.6435294117647, 'gini = 0.0\\nsamples = 19\\nvalue = [0, 0, 0, 0, 0, 0, 0, 0, 0, 0, 0, 19, 0, 0\\n0, 0, 0, 0, 0, 0, 0, 0, 0]'),\n",
       " Text(138.18755690440062, 212.6435294117647, 'X[0] <= -0.005\\ngini = 0.111\\nsamples = 17\\nvalue = [0, 0, 0, 0, 0, 0, 0, 0, 0, 0, 0, 16, 0, 0\\n0, 0, 0, 1, 0, 0, 0, 0, 0]'),\n",
       " Text(134.12321699544765, 190.26, 'gini = 0.32\\nsamples = 5\\nvalue = [0, 0, 0, 0, 0, 0, 0, 0, 0, 0, 0, 4, 0, 0\\n0, 0, 0, 1, 0, 0, 0, 0, 0]'),\n",
       " Text(142.2518968133536, 190.26, 'gini = 0.0\\nsamples = 12\\nvalue = [0, 0, 0, 0, 0, 0, 0, 0, 0, 0, 0, 12, 0, 0\\n0, 0, 0, 0, 0, 0, 0, 0, 0]'),\n",
       " Text(166.63793626707132, 257.4105882352941, 'X[0] <= -0.005\\ngini = 0.014\\nsamples = 556\\nvalue = [0, 0, 0, 0, 0, 0, 0, 0, 0, 0, 0, 552, 0, 0\\n0, 0, 0, 4, 0, 0, 0, 0, 0]'),\n",
       " Text(162.57359635811838, 235.0270588235294, 'X[1] <= -0.049\\ngini = 0.156\\nsamples = 47\\nvalue = [0, 0, 0, 0, 0, 0, 0, 0, 0, 0, 0, 43, 0, 0\\n0, 0, 0, 4, 0, 0, 0, 0, 0]'),\n",
       " Text(154.44491654021246, 212.6435294117647, 'X[1] <= -0.05\\ngini = 0.444\\nsamples = 3\\nvalue = [0, 0, 0, 0, 0, 0, 0, 0, 0, 0, 0, 1, 0, 0\\n0, 0, 0, 2, 0, 0, 0, 0, 0]'),\n",
       " Text(150.3805766312595, 190.26, 'gini = 0.0\\nsamples = 1\\nvalue = [0, 0, 0, 0, 0, 0, 0, 0, 0, 0, 0, 1, 0, 0\\n0, 0, 0, 0, 0, 0, 0, 0, 0]'),\n",
       " Text(158.50925644916543, 190.26, 'gini = 0.0\\nsamples = 2\\nvalue = [0, 0, 0, 0, 0, 0, 0, 0, 0, 0, 0, 0, 0, 0\\n0, 0, 0, 2, 0, 0, 0, 0, 0]'),\n",
       " Text(170.7022761760243, 212.6435294117647, 'X[1] <= -0.048\\ngini = 0.087\\nsamples = 44\\nvalue = [0, 0, 0, 0, 0, 0, 0, 0, 0, 0, 0, 42, 0, 0\\n0, 0, 0, 2, 0, 0, 0, 0, 0]'),\n",
       " Text(166.63793626707132, 190.26, 'gini = 0.0\\nsamples = 20\\nvalue = [0, 0, 0, 0, 0, 0, 0, 0, 0, 0, 0, 20, 0, 0\\n0, 0, 0, 0, 0, 0, 0, 0, 0]'),\n",
       " Text(174.76661608497727, 190.26, 'X[1] <= -0.048\\ngini = 0.153\\nsamples = 24\\nvalue = [0, 0, 0, 0, 0, 0, 0, 0, 0, 0, 0, 22, 0, 0\\n0, 0, 0, 2, 0, 0, 0, 0, 0]'),\n",
       " Text(170.7022761760243, 167.8764705882353, 'gini = 0.0\\nsamples = 1\\nvalue = [0, 0, 0, 0, 0, 0, 0, 0, 0, 0, 0, 0, 0, 0\\n0, 0, 0, 1, 0, 0, 0, 0, 0]'),\n",
       " Text(178.83095599393022, 167.8764705882353, 'X[1] <= -0.048\\ngini = 0.083\\nsamples = 23\\nvalue = [0, 0, 0, 0, 0, 0, 0, 0, 0, 0, 0, 22, 0, 0\\n0, 0, 0, 1, 0, 0, 0, 0, 0]'),\n",
       " Text(174.76661608497727, 145.49294117647057, 'X[1] <= -0.048\\ngini = 0.375\\nsamples = 4\\nvalue = [0, 0, 0, 0, 0, 0, 0, 0, 0, 0, 0, 3, 0, 0\\n0, 0, 0, 1, 0, 0, 0, 0, 0]'),\n",
       " Text(170.7022761760243, 123.1094117647059, 'gini = 0.0\\nsamples = 3\\nvalue = [0, 0, 0, 0, 0, 0, 0, 0, 0, 0, 0, 3, 0, 0\\n0, 0, 0, 0, 0, 0, 0, 0, 0]'),\n",
       " Text(178.83095599393022, 123.1094117647059, 'gini = 0.0\\nsamples = 1\\nvalue = [0, 0, 0, 0, 0, 0, 0, 0, 0, 0, 0, 0, 0, 0\\n0, 0, 0, 1, 0, 0, 0, 0, 0]'),\n",
       " Text(182.89529590288316, 145.49294117647057, 'gini = 0.0\\nsamples = 19\\nvalue = [0, 0, 0, 0, 0, 0, 0, 0, 0, 0, 0, 19, 0, 0\\n0, 0, 0, 0, 0, 0, 0, 0, 0]'),\n",
       " Text(170.7022761760243, 235.0270588235294, 'gini = 0.0\\nsamples = 509\\nvalue = [0, 0, 0, 0, 0, 0, 0, 0, 0, 0, 0, 509, 0, 0\\n0, 0, 0, 0, 0, 0, 0, 0, 0]'),\n",
       " Text(178.83095599393022, 279.7941176470588, 'X[1] <= -0.05\\ngini = 0.003\\nsamples = 601\\nvalue = [0, 0, 0, 0, 0, 0, 0, 0, 0, 0, 0, 1, 0, 0\\n0, 0, 0, 0, 0, 0, 600, 0, 0]'),\n",
       " Text(174.76661608497727, 257.4105882352941, 'gini = 0.0\\nsamples = 600\\nvalue = [0, 0, 0, 0, 0, 0, 0, 0, 0, 0, 0, 0, 0, 0\\n0, 0, 0, 0, 0, 0, 600, 0, 0]'),\n",
       " Text(182.89529590288316, 257.4105882352941, 'gini = 0.0\\nsamples = 1\\nvalue = [0, 0, 0, 0, 0, 0, 0, 0, 0, 0, 0, 1, 0, 0\\n0, 0, 0, 0, 0, 0, 0, 0, 0]'),\n",
       " Text(380.6825872534143, 302.1776470588235, 'X[1] <= -0.05\\ngini = 0.037\\nsamples = 57171\\nvalue = [18, 15, 4, 37, 3, 0, 0, 4, 3, 0, 21, 56086, 2\\n3, 106, 0, 5, 4, 319, 2, 0, 538, 1]'),\n",
       " Text(232.61995447647953, 279.7941176470588, 'X[0] <= -0.005\\ngini = 0.282\\nsamples = 4870\\nvalue = [0, 0, 1, 0, 0, 0, 0, 0, 1, 0, 21, 4100, 0, 0\\n106, 0, 1, 1, 319, 0, 0, 320, 0]'),\n",
       " Text(209.31350531107742, 257.4105882352941, 'X[0] <= -0.005\\ngini = 0.03\\nsamples = 2030\\nvalue = [0, 0, 0, 0, 0, 0, 0, 0, 0, 0, 21, 1999, 0, 0\\n0, 0, 1, 1, 0, 0, 0, 8, 0]'),\n",
       " Text(199.152655538695, 235.0270588235294, 'X[0] <= -0.005\\ngini = 0.014\\nsamples = 1914\\nvalue = [0, 0, 0, 0, 0, 0, 0, 0, 0, 0, 3, 1901, 0, 0\\n0, 0, 1, 1, 0, 0, 0, 8, 0]'),\n",
       " Text(191.0239757207891, 212.6435294117647, 'X[0] <= -0.005\\ngini = 0.048\\nsamples = 323\\nvalue = [0, 0, 0, 0, 0, 0, 0, 0, 0, 0, 0, 315, 0, 0\\n0, 0, 0, 0, 0, 0, 0, 8, 0]'),\n",
       " Text(186.95963581183614, 190.26, 'gini = 0.0\\nsamples = 63\\nvalue = [0, 0, 0, 0, 0, 0, 0, 0, 0, 0, 0, 63, 0, 0\\n0, 0, 0, 0, 0, 0, 0, 0, 0]'),\n",
       " Text(195.08831562974206, 190.26, 'gini = 0.06\\nsamples = 260\\nvalue = [0, 0, 0, 0, 0, 0, 0, 0, 0, 0, 0, 252, 0, 0\\n0, 0, 0, 0, 0, 0, 0, 8, 0]'),\n",
       " Text(207.28133535660095, 212.6435294117647, 'X[0] <= -0.005\\ngini = 0.006\\nsamples = 1591\\nvalue = [0, 0, 0, 0, 0, 0, 0, 0, 0, 0, 3, 1586, 0, 0\\n0, 0, 1, 1, 0, 0, 0, 0, 0]'),\n",
       " Text(203.21699544764797, 190.26, 'X[0] <= -0.005\\ngini = 0.015\\nsamples = 673\\nvalue = [0, 0, 0, 0, 0, 0, 0, 0, 0, 0, 3, 668, 0, 0\\n0, 0, 1, 1, 0, 0, 0, 0, 0]'),\n",
       " Text(199.152655538695, 167.8764705882353, 'X[0] <= -0.005\\ngini = 0.006\\nsamples = 666\\nvalue = [0, 0, 0, 0, 0, 0, 0, 0, 0, 0, 0, 664, 0, 0\\n0, 0, 1, 1, 0, 0, 0, 0, 0]'),\n",
       " Text(191.0239757207891, 145.49294117647057, 'X[0] <= -0.005\\ngini = 0.022\\nsamples = 92\\nvalue = [0, 0, 0, 0, 0, 0, 0, 0, 0, 0, 0, 91, 0, 0\\n0, 0, 1, 0, 0, 0, 0, 0, 0]'),\n",
       " Text(186.95963581183614, 123.1094117647059, 'gini = 0.0\\nsamples = 45\\nvalue = [0, 0, 0, 0, 0, 0, 0, 0, 0, 0, 0, 45, 0, 0\\n0, 0, 0, 0, 0, 0, 0, 0, 0]'),\n",
       " Text(195.08831562974206, 123.1094117647059, 'gini = 0.042\\nsamples = 47\\nvalue = [0, 0, 0, 0, 0, 0, 0, 0, 0, 0, 0, 46, 0, 0\\n0, 0, 1, 0, 0, 0, 0, 0, 0]'),\n",
       " Text(207.28133535660095, 145.49294117647057, 'X[0] <= -0.005\\ngini = 0.003\\nsamples = 574\\nvalue = [0, 0, 0, 0, 0, 0, 0, 0, 0, 0, 0, 573, 0, 0\\n0, 0, 0, 1, 0, 0, 0, 0, 0]'),\n",
       " Text(203.21699544764797, 123.1094117647059, 'gini = 0.0\\nsamples = 314\\nvalue = [0, 0, 0, 0, 0, 0, 0, 0, 0, 0, 0, 314, 0, 0\\n0, 0, 0, 0, 0, 0, 0, 0, 0]'),\n",
       " Text(211.3456752655539, 123.1094117647059, 'X[0] <= -0.005\\ngini = 0.008\\nsamples = 260\\nvalue = [0, 0, 0, 0, 0, 0, 0, 0, 0, 0, 0, 259, 0, 0\\n0, 0, 0, 1, 0, 0, 0, 0, 0]'),\n",
       " Text(207.28133535660095, 100.72588235294114, 'gini = 0.18\\nsamples = 10\\nvalue = [0, 0, 0, 0, 0, 0, 0, 0, 0, 0, 0, 9, 0, 0\\n0, 0, 0, 1, 0, 0, 0, 0, 0]'),\n",
       " Text(215.41001517450684, 100.72588235294114, 'gini = 0.0\\nsamples = 250\\nvalue = [0, 0, 0, 0, 0, 0, 0, 0, 0, 0, 0, 250, 0, 0\\n0, 0, 0, 0, 0, 0, 0, 0, 0]'),\n",
       " Text(207.28133535660095, 167.8764705882353, 'gini = 0.49\\nsamples = 7\\nvalue = [0, 0, 0, 0, 0, 0, 0, 0, 0, 0, 3, 4, 0, 0\\n0, 0, 0, 0, 0, 0, 0, 0, 0]'),\n",
       " Text(211.3456752655539, 190.26, 'gini = 0.0\\nsamples = 918\\nvalue = [0, 0, 0, 0, 0, 0, 0, 0, 0, 0, 0, 918, 0, 0\\n0, 0, 0, 0, 0, 0, 0, 0, 0]'),\n",
       " Text(219.4743550834598, 235.0270588235294, 'X[0] <= -0.005\\ngini = 0.262\\nsamples = 116\\nvalue = [0, 0, 0, 0, 0, 0, 0, 0, 0, 0, 18, 98, 0, 0\\n0, 0, 0, 0, 0, 0, 0, 0, 0]'),\n",
       " Text(215.41001517450684, 212.6435294117647, 'gini = 0.0\\nsamples = 18\\nvalue = [0, 0, 0, 0, 0, 0, 0, 0, 0, 0, 18, 0, 0, 0\\n0, 0, 0, 0, 0, 0, 0, 0, 0]'),\n",
       " Text(223.5386949924128, 212.6435294117647, 'gini = 0.0\\nsamples = 98\\nvalue = [0, 0, 0, 0, 0, 0, 0, 0, 0, 0, 0, 98, 0, 0\\n0, 0, 0, 0, 0, 0, 0, 0, 0]'),\n",
       " Text(255.92640364188168, 257.4105882352941, 'X[0] <= -0.005\\ngini = 0.427\\nsamples = 2840\\nvalue = [0, 0, 1, 0, 0, 0, 0, 0, 1, 0, 0, 2101, 0, 0\\n106, 0, 0, 0, 319, 0, 0, 312, 0]'),\n",
       " Text(235.73171471927165, 235.0270588235294, 'X[0] <= -0.005\\ngini = 0.339\\nsamples = 351\\nvalue = [0, 0, 0, 0, 0, 0, 0, 0, 0, 0, 0, 76, 0, 0\\n0, 0, 0, 0, 0, 0, 0, 275, 0]'),\n",
       " Text(231.66737481031868, 212.6435294117647, 'X[0] <= -0.005\\ngini = 0.32\\nsamples = 95\\nvalue = [0, 0, 0, 0, 0, 0, 0, 0, 0, 0, 0, 76, 0, 0\\n0, 0, 0, 0, 0, 0, 0, 19, 0]'),\n",
       " Text(227.60303490136573, 190.26, 'gini = 0.0\\nsamples = 19\\nvalue = [0, 0, 0, 0, 0, 0, 0, 0, 0, 0, 0, 0, 0, 0\\n0, 0, 0, 0, 0, 0, 0, 19, 0]'),\n",
       " Text(235.73171471927165, 190.26, 'gini = 0.0\\nsamples = 76\\nvalue = [0, 0, 0, 0, 0, 0, 0, 0, 0, 0, 0, 76, 0, 0\\n0, 0, 0, 0, 0, 0, 0, 0, 0]'),\n",
       " Text(239.79605462822462, 212.6435294117647, 'gini = 0.0\\nsamples = 256\\nvalue = [0, 0, 0, 0, 0, 0, 0, 0, 0, 0, 0, 0, 0, 0\\n0, 0, 0, 0, 0, 0, 0, 256, 0]'),\n",
       " Text(276.1210925644917, 235.0270588235294, 'X[0] <= -0.004\\ngini = 0.32\\nsamples = 2489\\nvalue = [0, 0, 1, 0, 0, 0, 0, 0, 1, 0, 0, 2025, 0, 0\\n106, 0, 0, 0, 319, 0, 0, 37, 0]'),\n",
       " Text(258.59362670713205, 212.6435294117647, 'X[0] <= -0.004\\ngini = 0.491\\nsamples = 1347\\nvalue = [0, 0, 1, 0, 0, 0, 0, 0, 1, 0, 0, 900, 0, 0\\n106, 0, 0, 0, 319, 0, 0, 20, 0]'),\n",
       " Text(243.86039453717757, 190.26, 'X[0] <= -0.004\\ngini = 0.156\\nsamples = 854\\nvalue = [0, 0, 1, 0, 0, 0, 0, 0, 1, 0, 0, 783, 0, 0\\n1, 0, 0, 0, 48, 0, 0, 20, 0]'),\n",
       " Text(232.68345978755693, 167.8764705882353, 'X[0] <= -0.004\\ngini = 0.3\\nsamples = 261\\nvalue = [0, 0, 0, 0, 0, 0, 0, 0, 0, 0, 0, 213, 0, 0\\n0, 0, 0, 0, 48, 0, 0, 0, 0]'),\n",
       " Text(228.61911987860398, 145.49294117647057, 'gini = 0.0\\nsamples = 213\\nvalue = [0, 0, 0, 0, 0, 0, 0, 0, 0, 0, 0, 213, 0, 0\\n0, 0, 0, 0, 0, 0, 0, 0, 0]'),\n",
       " Text(236.7477996965099, 145.49294117647057, 'gini = 0.0\\nsamples = 48\\nvalue = [0, 0, 0, 0, 0, 0, 0, 0, 0, 0, 0, 0, 0, 0\\n0, 0, 0, 0, 48, 0, 0, 0, 0]'),\n",
       " Text(255.0373292867982, 167.8764705882353, 'X[0] <= -0.004\\ngini = 0.075\\nsamples = 593\\nvalue = [0, 0, 1, 0, 0, 0, 0, 0, 1, 0, 0, 570, 0, 0\\n1, 0, 0, 0, 0, 0, 0, 20, 0]'),\n",
       " Text(244.87647951441582, 145.49294117647057, 'X[0] <= -0.004\\ngini = 0.009\\nsamples = 422\\nvalue = [0, 0, 1, 0, 0, 0, 0, 0, 0, 0, 0, 420, 0, 0\\n1, 0, 0, 0, 0, 0, 0, 0, 0]'),\n",
       " Text(236.7477996965099, 123.1094117647059, 'X[0] <= -0.004\\ngini = 0.105\\nsamples = 18\\nvalue = [0, 0, 0, 0, 0, 0, 0, 0, 0, 0, 0, 17, 0, 0\\n1, 0, 0, 0, 0, 0, 0, 0, 0]'),\n",
       " Text(232.68345978755693, 100.72588235294114, 'gini = 0.0\\nsamples = 15\\nvalue = [0, 0, 0, 0, 0, 0, 0, 0, 0, 0, 0, 15, 0, 0\\n0, 0, 0, 0, 0, 0, 0, 0, 0]'),\n",
       " Text(240.81213960546285, 100.72588235294114, 'gini = 0.444\\nsamples = 3\\nvalue = [0, 0, 0, 0, 0, 0, 0, 0, 0, 0, 0, 2, 0, 0\\n1, 0, 0, 0, 0, 0, 0, 0, 0]'),\n",
       " Text(253.00515933232174, 123.1094117647059, 'X[0] <= -0.004\\ngini = 0.005\\nsamples = 404\\nvalue = [0, 0, 1, 0, 0, 0, 0, 0, 0, 0, 0, 403, 0, 0\\n0, 0, 0, 0, 0, 0, 0, 0, 0]'),\n",
       " Text(248.94081942336877, 100.72588235294114, 'X[0] <= -0.004\\ngini = 0.017\\nsamples = 114\\nvalue = [0, 0, 1, 0, 0, 0, 0, 0, 0, 0, 0, 113, 0, 0\\n0, 0, 0, 0, 0, 0, 0, 0, 0]'),\n",
       " Text(244.87647951441582, 78.34235294117644, 'gini = 0.0\\nsamples = 113\\nvalue = [0, 0, 0, 0, 0, 0, 0, 0, 0, 0, 0, 113, 0, 0\\n0, 0, 0, 0, 0, 0, 0, 0, 0]'),\n",
       " Text(253.00515933232174, 78.34235294117644, 'gini = 0.0\\nsamples = 1\\nvalue = [0, 0, 1, 0, 0, 0, 0, 0, 0, 0, 0, 0, 0, 0\\n0, 0, 0, 0, 0, 0, 0, 0, 0]'),\n",
       " Text(257.0694992412747, 100.72588235294114, 'gini = 0.0\\nsamples = 290\\nvalue = [0, 0, 0, 0, 0, 0, 0, 0, 0, 0, 0, 290, 0, 0\\n0, 0, 0, 0, 0, 0, 0, 0, 0]'),\n",
       " Text(265.19817905918063, 145.49294117647057, 'X[0] <= -0.004\\ngini = 0.217\\nsamples = 171\\nvalue = [0, 0, 0, 0, 0, 0, 0, 0, 1, 0, 0, 150, 0, 0\\n0, 0, 0, 0, 0, 0, 0, 20, 0]'),\n",
       " Text(261.13383915022763, 123.1094117647059, 'gini = 0.0\\nsamples = 20\\nvalue = [0, 0, 0, 0, 0, 0, 0, 0, 0, 0, 0, 0, 0, 0\\n0, 0, 0, 0, 0, 0, 0, 20, 0]'),\n",
       " Text(269.2625189681336, 123.1094117647059, 'X[0] <= -0.004\\ngini = 0.013\\nsamples = 151\\nvalue = [0, 0, 0, 0, 0, 0, 0, 0, 1, 0, 0, 150, 0, 0\\n0, 0, 0, 0, 0, 0, 0, 0, 0]'),\n",
       " Text(265.19817905918063, 100.72588235294114, 'X[0] <= -0.004\\ngini = 0.045\\nsamples = 43\\nvalue = [0, 0, 0, 0, 0, 0, 0, 0, 1, 0, 0, 42, 0, 0\\n0, 0, 0, 0, 0, 0, 0, 0, 0]'),\n",
       " Text(261.13383915022763, 78.34235294117644, 'gini = 0.0\\nsamples = 42\\nvalue = [0, 0, 0, 0, 0, 0, 0, 0, 0, 0, 0, 42, 0, 0\\n0, 0, 0, 0, 0, 0, 0, 0, 0]'),\n",
       " Text(269.2625189681336, 78.34235294117644, 'gini = 0.0\\nsamples = 1\\nvalue = [0, 0, 0, 0, 0, 0, 0, 0, 1, 0, 0, 0, 0, 0\\n0, 0, 0, 0, 0, 0, 0, 0, 0]'),\n",
       " Text(273.3268588770865, 100.72588235294114, 'gini = 0.0\\nsamples = 108\\nvalue = [0, 0, 0, 0, 0, 0, 0, 0, 0, 0, 0, 108, 0, 0\\n0, 0, 0, 0, 0, 0, 0, 0, 0]'),\n",
       " Text(273.3268588770865, 190.26, 'X[0] <= -0.004\\ngini = 0.596\\nsamples = 493\\nvalue = [0, 0, 0, 0, 0, 0, 0, 0, 0, 0, 0, 117, 0, 0\\n105, 0, 0, 0, 271, 0, 0, 0, 0]'),\n",
       " Text(269.2625189681336, 167.8764705882353, 'gini = 0.0\\nsamples = 271\\nvalue = [0, 0, 0, 0, 0, 0, 0, 0, 0, 0, 0, 0, 0, 0\\n0, 0, 0, 0, 271, 0, 0, 0, 0]'),\n",
       " Text(277.39119878603947, 167.8764705882353, 'X[0] <= -0.004\\ngini = 0.499\\nsamples = 222\\nvalue = [0, 0, 0, 0, 0, 0, 0, 0, 0, 0, 0, 117, 0, 0\\n105, 0, 0, 0, 0, 0, 0, 0, 0]'),\n",
       " Text(273.3268588770865, 145.49294117647057, 'gini = 0.0\\nsamples = 117\\nvalue = [0, 0, 0, 0, 0, 0, 0, 0, 0, 0, 0, 117, 0, 0\\n0, 0, 0, 0, 0, 0, 0, 0, 0]'),\n",
       " Text(281.45553869499247, 145.49294117647057, 'gini = 0.0\\nsamples = 105\\nvalue = [0, 0, 0, 0, 0, 0, 0, 0, 0, 0, 0, 0, 0, 0\\n105, 0, 0, 0, 0, 0, 0, 0, 0]'),\n",
       " Text(293.6485584218513, 212.6435294117647, 'X[0] <= -0.001\\ngini = 0.029\\nsamples = 1142\\nvalue = [0, 0, 0, 0, 0, 0, 0, 0, 0, 0, 0, 1125, 0, 0\\n0, 0, 0, 0, 0, 0, 0, 17, 0]'),\n",
       " Text(289.58421851289836, 190.26, 'X[0] <= -0.001\\ngini = 0.058\\nsamples = 564\\nvalue = [0, 0, 0, 0, 0, 0, 0, 0, 0, 0, 0, 547, 0, 0\\n0, 0, 0, 0, 0, 0, 0, 17, 0]'),\n",
       " Text(285.5198786039454, 167.8764705882353, 'gini = 0.0\\nsamples = 547\\nvalue = [0, 0, 0, 0, 0, 0, 0, 0, 0, 0, 0, 547, 0, 0\\n0, 0, 0, 0, 0, 0, 0, 0, 0]'),\n",
       " Text(293.6485584218513, 167.8764705882353, 'gini = 0.0\\nsamples = 17\\nvalue = [0, 0, 0, 0, 0, 0, 0, 0, 0, 0, 0, 0, 0, 0\\n0, 0, 0, 0, 0, 0, 0, 17, 0]'),\n",
       " Text(297.7128983308043, 190.26, 'gini = 0.0\\nsamples = 578\\nvalue = [0, 0, 0, 0, 0, 0, 0, 0, 0, 0, 0, 578, 0, 0\\n0, 0, 0, 0, 0, 0, 0, 0, 0]'),\n",
       " Text(528.7452200303491, 279.7941176470588, 'X[0] <= -0.004\\ngini = 0.012\\nsamples = 52301\\nvalue = [18, 15, 3, 37, 3, 0, 0, 4, 2, 0, 0, 51986, 2\\n3, 0, 0, 4, 3, 0, 2, 0, 218, 1]'),\n",
       " Text(448.2204855842186, 257.4105882352941, 'X[0] <= -0.005\\ngini = 0.003\\nsamples = 48251\\nvalue = [0, 1, 3, 37, 0, 0, 0, 4, 1, 0, 0, 48167, 2\\n3, 0, 0, 3, 2, 0, 2, 0, 25, 1]'),\n",
       " Text(383.1910470409712, 235.0270588235294, 'X[0] <= -0.005\\ngini = 0.026\\nsamples = 3911\\nvalue = [0, 0, 3, 37, 0, 0, 0, 2, 1, 0, 0, 3860, 0, 3\\n0, 0, 2, 2, 0, 1, 0, 0, 0]'),\n",
       " Text(354.8676783004553, 212.6435294117647, 'X[1] <= 0.066\\ngini = 0.007\\nsamples = 3784\\nvalue = [0, 0, 3, 1, 0, 0, 0, 0, 1, 0, 0, 3771, 0, 3\\n0, 0, 2, 2, 0, 1, 0, 0, 0]'),\n",
       " Text(326.6713201820941, 190.26, 'X[1] <= -0.047\\ngini = 0.005\\nsamples = 3772\\nvalue = [0, 0, 2, 1, 0, 0, 0, 0, 1, 0, 0, 3763, 0, 0\\n0, 0, 2, 2, 0, 1, 0, 0, 0]'),\n",
       " Text(301.77723823975725, 167.8764705882353, 'X[0] <= -0.005\\ngini = 0.001\\nsamples = 3705\\nvalue = [0, 0, 0, 0, 0, 0, 0, 0, 0, 0, 0, 3704, 0, 0\\n0, 0, 0, 1, 0, 0, 0, 0, 0]'),\n",
       " Text(297.7128983308043, 145.49294117647057, 'gini = 0.0\\nsamples = 3068\\nvalue = [0, 0, 0, 0, 0, 0, 0, 0, 0, 0, 0, 3068, 0, 0\\n0, 0, 0, 0, 0, 0, 0, 0, 0]'),\n",
       " Text(305.8415781487102, 145.49294117647057, 'X[0] <= -0.005\\ngini = 0.003\\nsamples = 637\\nvalue = [0, 0, 0, 0, 0, 0, 0, 0, 0, 0, 0, 636, 0, 0\\n0, 0, 0, 1, 0, 0, 0, 0, 0]'),\n",
       " Text(301.77723823975725, 123.1094117647059, 'gini = 0.0\\nsamples = 1\\nvalue = [0, 0, 0, 0, 0, 0, 0, 0, 0, 0, 0, 0, 0, 0\\n0, 0, 0, 1, 0, 0, 0, 0, 0]'),\n",
       " Text(309.90591805766314, 123.1094117647059, 'gini = 0.0\\nsamples = 636\\nvalue = [0, 0, 0, 0, 0, 0, 0, 0, 0, 0, 0, 636, 0, 0\\n0, 0, 0, 0, 0, 0, 0, 0, 0]'),\n",
       " Text(351.565402124431, 167.8764705882353, 'X[1] <= -0.044\\ngini = 0.222\\nsamples = 67\\nvalue = [0, 0, 2, 1, 0, 0, 0, 0, 1, 0, 0, 59, 0, 0\\n0, 0, 2, 1, 0, 1, 0, 0, 0]'),\n",
       " Text(328.1954476479515, 145.49294117647057, 'X[0] <= -0.005\\ngini = 0.68\\nsamples = 10\\nvalue = [0, 0, 0, 1, 0, 0, 0, 0, 1, 0, 0, 5, 0, 0\\n0, 0, 2, 1, 0, 0, 0, 0, 0]'),\n",
       " Text(318.0345978755691, 123.1094117647059, 'X[0] <= -0.005\\ngini = 0.32\\nsamples = 5\\nvalue = [0, 0, 0, 0, 0, 0, 0, 0, 0, 0, 0, 4, 0, 0\\n0, 0, 0, 1, 0, 0, 0, 0, 0]'),\n",
       " Text(313.97025796661615, 100.72588235294114, 'X[0] <= -0.005\\ngini = 0.5\\nsamples = 2\\nvalue = [0, 0, 0, 0, 0, 0, 0, 0, 0, 0, 0, 1, 0, 0\\n0, 0, 0, 1, 0, 0, 0, 0, 0]'),\n",
       " Text(309.90591805766314, 78.34235294117644, 'gini = 0.0\\nsamples = 1\\nvalue = [0, 0, 0, 0, 0, 0, 0, 0, 0, 0, 0, 1, 0, 0\\n0, 0, 0, 0, 0, 0, 0, 0, 0]'),\n",
       " Text(318.0345978755691, 78.34235294117644, 'gini = 0.0\\nsamples = 1\\nvalue = [0, 0, 0, 0, 0, 0, 0, 0, 0, 0, 0, 0, 0, 0\\n0, 0, 0, 1, 0, 0, 0, 0, 0]'),\n",
       " Text(322.09893778452204, 100.72588235294114, 'gini = 0.0\\nsamples = 3\\nvalue = [0, 0, 0, 0, 0, 0, 0, 0, 0, 0, 0, 3, 0, 0\\n0, 0, 0, 0, 0, 0, 0, 0, 0]'),\n",
       " Text(338.3562974203339, 123.1094117647059, 'X[0] <= -0.005\\ngini = 0.72\\nsamples = 5\\nvalue = [0, 0, 0, 1, 0, 0, 0, 0, 1, 0, 0, 1, 0, 0\\n0, 0, 2, 0, 0, 0, 0, 0, 0]'),\n",
       " Text(330.227617602428, 100.72588235294114, 'X[0] <= -0.005\\ngini = 0.444\\nsamples = 3\\nvalue = [0, 0, 0, 0, 0, 0, 0, 0, 1, 0, 0, 0, 0, 0\\n0, 0, 2, 0, 0, 0, 0, 0, 0]'),\n",
       " Text(326.163277693475, 78.34235294117644, 'gini = 0.0\\nsamples = 1\\nvalue = [0, 0, 0, 0, 0, 0, 0, 0, 0, 0, 0, 0, 0, 0\\n0, 0, 1, 0, 0, 0, 0, 0, 0]'),\n",
       " Text(334.29195751138093, 78.34235294117644, 'X[1] <= -0.045\\ngini = 0.5\\nsamples = 2\\nvalue = [0, 0, 0, 0, 0, 0, 0, 0, 1, 0, 0, 0, 0, 0\\n0, 0, 1, 0, 0, 0, 0, 0, 0]'),\n",
       " Text(330.227617602428, 55.958823529411745, 'gini = 0.0\\nsamples = 1\\nvalue = [0, 0, 0, 0, 0, 0, 0, 0, 1, 0, 0, 0, 0, 0\\n0, 0, 0, 0, 0, 0, 0, 0, 0]'),\n",
       " Text(338.3562974203339, 55.958823529411745, 'gini = 0.0\\nsamples = 1\\nvalue = [0, 0, 0, 0, 0, 0, 0, 0, 0, 0, 0, 0, 0, 0\\n0, 0, 1, 0, 0, 0, 0, 0, 0]'),\n",
       " Text(346.4849772382398, 100.72588235294114, 'X[1] <= -0.046\\ngini = 0.5\\nsamples = 2\\nvalue = [0, 0, 0, 1, 0, 0, 0, 0, 0, 0, 0, 1, 0, 0\\n0, 0, 0, 0, 0, 0, 0, 0, 0]'),\n",
       " Text(342.4206373292868, 78.34235294117644, 'gini = 0.0\\nsamples = 1\\nvalue = [0, 0, 0, 0, 0, 0, 0, 0, 0, 0, 0, 1, 0, 0\\n0, 0, 0, 0, 0, 0, 0, 0, 0]'),\n",
       " Text(350.54931714719277, 78.34235294117644, 'gini = 0.0\\nsamples = 1\\nvalue = [0, 0, 0, 1, 0, 0, 0, 0, 0, 0, 0, 0, 0, 0\\n0, 0, 0, 0, 0, 0, 0, 0, 0]'),\n",
       " Text(374.9353566009105, 145.49294117647057, 'X[0] <= -0.005\\ngini = 0.101\\nsamples = 57\\nvalue = [0, 0, 2, 0, 0, 0, 0, 0, 0, 0, 0, 54, 0, 0\\n0, 0, 0, 0, 0, 1, 0, 0, 0]'),\n",
       " Text(366.8066767830046, 123.1094117647059, 'X[1] <= -0.043\\ngini = 0.038\\nsamples = 52\\nvalue = [0, 0, 1, 0, 0, 0, 0, 0, 0, 0, 0, 51, 0, 0\\n0, 0, 0, 0, 0, 0, 0, 0, 0]'),\n",
       " Text(362.74233687405166, 100.72588235294114, 'X[1] <= -0.044\\ngini = 0.18\\nsamples = 10\\nvalue = [0, 0, 1, 0, 0, 0, 0, 0, 0, 0, 0, 9, 0, 0\\n0, 0, 0, 0, 0, 0, 0, 0, 0]'),\n",
       " Text(358.67799696509866, 78.34235294117644, 'gini = 0.0\\nsamples = 9\\nvalue = [0, 0, 0, 0, 0, 0, 0, 0, 0, 0, 0, 9, 0, 0\\n0, 0, 0, 0, 0, 0, 0, 0, 0]'),\n",
       " Text(366.8066767830046, 78.34235294117644, 'gini = 0.0\\nsamples = 1\\nvalue = [0, 0, 1, 0, 0, 0, 0, 0, 0, 0, 0, 0, 0, 0\\n0, 0, 0, 0, 0, 0, 0, 0, 0]'),\n",
       " Text(370.87101669195755, 100.72588235294114, 'gini = 0.0\\nsamples = 42\\nvalue = [0, 0, 0, 0, 0, 0, 0, 0, 0, 0, 0, 42, 0, 0\\n0, 0, 0, 0, 0, 0, 0, 0, 0]'),\n",
       " Text(383.06403641881644, 123.1094117647059, 'X[0] <= -0.005\\ngini = 0.56\\nsamples = 5\\nvalue = [0, 0, 1, 0, 0, 0, 0, 0, 0, 0, 0, 3, 0, 0\\n0, 0, 0, 0, 0, 1, 0, 0, 0]'),\n",
       " Text(378.9996965098635, 100.72588235294114, 'gini = 0.0\\nsamples = 1\\nvalue = [0, 0, 0, 0, 0, 0, 0, 0, 0, 0, 0, 0, 0, 0\\n0, 0, 0, 0, 0, 1, 0, 0, 0]'),\n",
       " Text(387.1283763277694, 100.72588235294114, 'X[1] <= -0.036\\ngini = 0.375\\nsamples = 4\\nvalue = [0, 0, 1, 0, 0, 0, 0, 0, 0, 0, 0, 3, 0, 0\\n0, 0, 0, 0, 0, 0, 0, 0, 0]'),\n",
       " Text(383.06403641881644, 78.34235294117644, 'X[1] <= -0.044\\ngini = 0.5\\nsamples = 2\\nvalue = [0, 0, 1, 0, 0, 0, 0, 0, 0, 0, 0, 1, 0, 0\\n0, 0, 0, 0, 0, 0, 0, 0, 0]'),\n",
       " Text(378.9996965098635, 55.958823529411745, 'gini = 0.0\\nsamples = 1\\nvalue = [0, 0, 0, 0, 0, 0, 0, 0, 0, 0, 0, 1, 0, 0\\n0, 0, 0, 0, 0, 0, 0, 0, 0]'),\n",
       " Text(387.1283763277694, 55.958823529411745, 'gini = 0.0\\nsamples = 1\\nvalue = [0, 0, 1, 0, 0, 0, 0, 0, 0, 0, 0, 0, 0, 0\\n0, 0, 0, 0, 0, 0, 0, 0, 0]'),\n",
       " Text(391.19271623672233, 78.34235294117644, 'gini = 0.0\\nsamples = 2\\nvalue = [0, 0, 0, 0, 0, 0, 0, 0, 0, 0, 0, 2, 0, 0\\n0, 0, 0, 0, 0, 0, 0, 0, 0]'),\n",
       " Text(383.06403641881644, 190.26, 'X[0] <= -0.005\\ngini = 0.486\\nsamples = 12\\nvalue = [0, 0, 1, 0, 0, 0, 0, 0, 0, 0, 0, 8, 0, 3\\n0, 0, 0, 0, 0, 0, 0, 0, 0]'),\n",
       " Text(378.9996965098635, 167.8764705882353, 'gini = 0.0\\nsamples = 3\\nvalue = [0, 0, 0, 0, 0, 0, 0, 0, 0, 0, 0, 0, 0, 3\\n0, 0, 0, 0, 0, 0, 0, 0, 0]'),\n",
       " Text(387.1283763277694, 167.8764705882353, 'X[1] <= 0.43\\ngini = 0.198\\nsamples = 9\\nvalue = [0, 0, 1, 0, 0, 0, 0, 0, 0, 0, 0, 8, 0, 0\\n0, 0, 0, 0, 0, 0, 0, 0, 0]'),\n",
       " Text(383.06403641881644, 145.49294117647057, 'gini = 0.0\\nsamples = 8\\nvalue = [0, 0, 0, 0, 0, 0, 0, 0, 0, 0, 0, 8, 0, 0\\n0, 0, 0, 0, 0, 0, 0, 0, 0]'),\n",
       " Text(391.19271623672233, 145.49294117647057, 'gini = 0.0\\nsamples = 1\\nvalue = [0, 0, 1, 0, 0, 0, 0, 0, 0, 0, 0, 0, 0, 0\\n0, 0, 0, 0, 0, 0, 0, 0, 0]'),\n",
       " Text(411.5144157814872, 212.6435294117647, 'X[0] <= -0.005\\ngini = 0.428\\nsamples = 127\\nvalue = [0, 0, 0, 36, 0, 0, 0, 2, 0, 0, 0, 89, 0, 0\\n0, 0, 0, 0, 0, 0, 0, 0, 0]'),\n",
       " Text(399.3213960546283, 190.26, 'X[1] <= -0.047\\ngini = 0.273\\nsamples = 43\\nvalue = [0, 0, 0, 36, 0, 0, 0, 0, 0, 0, 0, 7, 0, 0\\n0, 0, 0, 0, 0, 0, 0, 0, 0]'),\n",
       " Text(395.25705614567534, 167.8764705882353, 'gini = 0.0\\nsamples = 35\\nvalue = [0, 0, 0, 35, 0, 0, 0, 0, 0, 0, 0, 0, 0, 0\\n0, 0, 0, 0, 0, 0, 0, 0, 0]'),\n",
       " Text(403.3857359635812, 167.8764705882353, 'X[0] <= -0.005\\ngini = 0.219\\nsamples = 8\\nvalue = [0, 0, 0, 1, 0, 0, 0, 0, 0, 0, 0, 7, 0, 0\\n0, 0, 0, 0, 0, 0, 0, 0, 0]'),\n",
       " Text(399.3213960546283, 145.49294117647057, 'gini = 0.0\\nsamples = 1\\nvalue = [0, 0, 0, 1, 0, 0, 0, 0, 0, 0, 0, 0, 0, 0\\n0, 0, 0, 0, 0, 0, 0, 0, 0]'),\n",
       " Text(407.45007587253417, 145.49294117647057, 'gini = 0.0\\nsamples = 7\\nvalue = [0, 0, 0, 0, 0, 0, 0, 0, 0, 0, 0, 7, 0, 0\\n0, 0, 0, 0, 0, 0, 0, 0, 0]'),\n",
       " Text(423.707435508346, 190.26, 'X[1] <= -0.03\\ngini = 0.046\\nsamples = 84\\nvalue = [0, 0, 0, 0, 0, 0, 0, 2, 0, 0, 0, 82, 0, 0\\n0, 0, 0, 0, 0, 0, 0, 0, 0]'),\n",
       " Text(419.64309559939306, 167.8764705882353, 'X[1] <= -0.033\\ngini = 0.172\\nsamples = 21\\nvalue = [0, 0, 0, 0, 0, 0, 0, 2, 0, 0, 0, 19, 0, 0\\n0, 0, 0, 0, 0, 0, 0, 0, 0]'),\n",
       " Text(415.5787556904401, 145.49294117647057, 'gini = 0.0\\nsamples = 18\\nvalue = [0, 0, 0, 0, 0, 0, 0, 0, 0, 0, 0, 18, 0, 0\\n0, 0, 0, 0, 0, 0, 0, 0, 0]'),\n",
       " Text(423.707435508346, 145.49294117647057, 'X[0] <= -0.005\\ngini = 0.444\\nsamples = 3\\nvalue = [0, 0, 0, 0, 0, 0, 0, 2, 0, 0, 0, 1, 0, 0\\n0, 0, 0, 0, 0, 0, 0, 0, 0]'),\n",
       " Text(419.64309559939306, 123.1094117647059, 'gini = 0.0\\nsamples = 1\\nvalue = [0, 0, 0, 0, 0, 0, 0, 1, 0, 0, 0, 0, 0, 0\\n0, 0, 0, 0, 0, 0, 0, 0, 0]'),\n",
       " Text(427.771775417299, 123.1094117647059, 'X[0] <= -0.005\\ngini = 0.5\\nsamples = 2\\nvalue = [0, 0, 0, 0, 0, 0, 0, 1, 0, 0, 0, 1, 0, 0\\n0, 0, 0, 0, 0, 0, 0, 0, 0]'),\n",
       " Text(423.707435508346, 100.72588235294114, 'gini = 0.0\\nsamples = 1\\nvalue = [0, 0, 0, 0, 0, 0, 0, 0, 0, 0, 0, 1, 0, 0\\n0, 0, 0, 0, 0, 0, 0, 0, 0]'),\n",
       " Text(431.83611532625196, 100.72588235294114, 'gini = 0.0\\nsamples = 1\\nvalue = [0, 0, 0, 0, 0, 0, 0, 1, 0, 0, 0, 0, 0, 0\\n0, 0, 0, 0, 0, 0, 0, 0, 0]'),\n",
       " Text(427.771775417299, 167.8764705882353, 'gini = 0.0\\nsamples = 63\\nvalue = [0, 0, 0, 0, 0, 0, 0, 0, 0, 0, 0, 63, 0, 0\\n0, 0, 0, 0, 0, 0, 0, 0, 0]'),\n",
       " Text(513.2499241274659, 235.0270588235294, 'X[0] <= -0.004\\ngini = 0.001\\nsamples = 44340\\nvalue = [0, 1, 0, 0, 0, 0, 0, 2, 0, 0, 0, 44307, 2, 0\\n0, 0, 1, 0, 0, 1, 0, 25, 1]'),\n",
       " Text(492.03915022761765, 212.6435294117647, 'X[0] <= -0.005\\ngini = 0.001\\nsamples = 43581\\nvalue = [0, 1, 0, 0, 0, 0, 0, 2, 0, 0, 0, 43565, 2, 0\\n0, 0, 1, 0, 0, 1, 0, 8, 1]'),\n",
       " Text(461.81062215478005, 190.26, 'X[0] <= -0.005\\ngini = 0.0\\nsamples = 39692\\nvalue = [0, 0, 0, 0, 0, 0, 0, 2, 0, 0, 0, 39686, 2, 0\\n0, 0, 1, 0, 0, 1, 0, 0, 0]'),\n",
       " Text(444.02913505311085, 167.8764705882353, 'X[0] <= -0.005\\ngini = 0.0\\nsamples = 24075\\nvalue = [0, 0, 0, 0, 0, 0, 0, 0, 0, 0, 0, 24074, 0, 0\\n0, 0, 0, 0, 0, 1, 0, 0, 0]'),\n",
       " Text(439.96479514415785, 145.49294117647057, 'gini = 0.0\\nsamples = 18756\\nvalue = [0, 0, 0, 0, 0, 0, 0, 0, 0, 0, 0, 18756, 0, 0\\n0, 0, 0, 0, 0, 0, 0, 0, 0]'),\n",
       " Text(448.0934749620638, 145.49294117647057, 'X[0] <= -0.005\\ngini = 0.0\\nsamples = 5319\\nvalue = [0, 0, 0, 0, 0, 0, 0, 0, 0, 0, 0, 5318, 0, 0\\n0, 0, 0, 0, 0, 1, 0, 0, 0]'),\n",
       " Text(444.02913505311085, 123.1094117647059, 'X[1] <= -0.027\\ngini = 0.006\\nsamples = 310\\nvalue = [0, 0, 0, 0, 0, 0, 0, 0, 0, 0, 0, 309, 0, 0\\n0, 0, 0, 0, 0, 1, 0, 0, 0]'),\n",
       " Text(439.96479514415785, 100.72588235294114, 'gini = 0.0\\nsamples = 173\\nvalue = [0, 0, 0, 0, 0, 0, 0, 0, 0, 0, 0, 173, 0, 0\\n0, 0, 0, 0, 0, 0, 0, 0, 0]'),\n",
       " Text(448.0934749620638, 100.72588235294114, 'X[1] <= -0.026\\ngini = 0.014\\nsamples = 137\\nvalue = [0, 0, 0, 0, 0, 0, 0, 0, 0, 0, 0, 136, 0, 0\\n0, 0, 0, 0, 0, 1, 0, 0, 0]'),\n",
       " Text(444.02913505311085, 78.34235294117644, 'gini = 0.0\\nsamples = 1\\nvalue = [0, 0, 0, 0, 0, 0, 0, 0, 0, 0, 0, 0, 0, 0\\n0, 0, 0, 0, 0, 1, 0, 0, 0]'),\n",
       " Text(452.15781487101674, 78.34235294117644, 'gini = 0.0\\nsamples = 136\\nvalue = [0, 0, 0, 0, 0, 0, 0, 0, 0, 0, 0, 136, 0, 0\\n0, 0, 0, 0, 0, 0, 0, 0, 0]'),\n",
       " Text(452.15781487101674, 123.1094117647059, 'gini = 0.0\\nsamples = 5009\\nvalue = [0, 0, 0, 0, 0, 0, 0, 0, 0, 0, 0, 5009, 0, 0\\n0, 0, 0, 0, 0, 0, 0, 0, 0]'),\n",
       " Text(479.59210925644925, 167.8764705882353, 'X[0] <= -0.005\\ngini = 0.001\\nsamples = 15617\\nvalue = [0, 0, 0, 0, 0, 0, 0, 2, 0, 0, 0, 15612, 2, 0\\n0, 0, 1, 0, 0, 0, 0, 0, 0]'),\n",
       " Text(464.35083459787563, 145.49294117647057, 'X[1] <= -0.015\\ngini = 0.021\\nsamples = 186\\nvalue = [0, 0, 0, 0, 0, 0, 0, 0, 0, 0, 0, 184, 2, 0\\n0, 0, 0, 0, 0, 0, 0, 0, 0]'),\n",
       " Text(460.2864946889227, 123.1094117647059, 'gini = 0.0\\nsamples = 99\\nvalue = [0, 0, 0, 0, 0, 0, 0, 0, 0, 0, 0, 99, 0, 0\\n0, 0, 0, 0, 0, 0, 0, 0, 0]'),\n",
       " Text(468.4151745068286, 123.1094117647059, 'X[1] <= -0.014\\ngini = 0.045\\nsamples = 87\\nvalue = [0, 0, 0, 0, 0, 0, 0, 0, 0, 0, 0, 85, 2, 0\\n0, 0, 0, 0, 0, 0, 0, 0, 0]'),\n",
       " Text(464.35083459787563, 100.72588235294114, 'gini = 0.0\\nsamples = 2\\nvalue = [0, 0, 0, 0, 0, 0, 0, 0, 0, 0, 0, 0, 2, 0\\n0, 0, 0, 0, 0, 0, 0, 0, 0]'),\n",
       " Text(472.4795144157815, 100.72588235294114, 'gini = 0.0\\nsamples = 85\\nvalue = [0, 0, 0, 0, 0, 0, 0, 0, 0, 0, 0, 85, 0, 0\\n0, 0, 0, 0, 0, 0, 0, 0, 0]'),\n",
       " Text(494.8333839150228, 145.49294117647057, 'X[0] <= -0.005\\ngini = 0.0\\nsamples = 15431\\nvalue = [0, 0, 0, 0, 0, 0, 0, 2, 0, 0, 0, 15428, 0, 0\\n0, 0, 1, 0, 0, 0, 0, 0, 0]'),\n",
       " Text(490.76904400606986, 123.1094117647059, 'X[0] <= -0.005\\ngini = 0.001\\nsamples = 6260\\nvalue = [0, 0, 0, 0, 0, 0, 0, 2, 0, 0, 0, 6257, 0, 0\\n0, 0, 1, 0, 0, 0, 0, 0, 0]'),\n",
       " Text(480.60819423368747, 100.72588235294114, 'X[0] <= -0.005\\ngini = 0.001\\nsamples = 5996\\nvalue = [0, 0, 0, 0, 0, 0, 0, 1, 0, 0, 0, 5994, 0, 0\\n0, 0, 1, 0, 0, 0, 0, 0, 0]'),\n",
       " Text(472.4795144157815, 78.34235294117644, 'X[0] <= -0.005\\ngini = 0.001\\nsamples = 1383\\nvalue = [0, 0, 0, 0, 0, 0, 0, 1, 0, 0, 0, 1382, 0, 0\\n0, 0, 0, 0, 0, 0, 0, 0, 0]'),\n",
       " Text(468.4151745068286, 55.958823529411745, 'gini = 0.0\\nsamples = 1215\\nvalue = [0, 0, 0, 0, 0, 0, 0, 0, 0, 0, 0, 1215, 0, 0\\n0, 0, 0, 0, 0, 0, 0, 0, 0]'),\n",
       " Text(476.5438543247345, 55.958823529411745, 'X[1] <= -0.03\\ngini = 0.012\\nsamples = 168\\nvalue = [0, 0, 0, 0, 0, 0, 0, 1, 0, 0, 0, 167, 0, 0\\n0, 0, 0, 0, 0, 0, 0, 0, 0]'),\n",
       " Text(472.4795144157815, 33.57529411764705, 'X[1] <= -0.032\\ngini = 0.029\\nsamples = 69\\nvalue = [0, 0, 0, 0, 0, 0, 0, 1, 0, 0, 0, 68, 0, 0\\n0, 0, 0, 0, 0, 0, 0, 0, 0]'),\n",
       " Text(468.4151745068286, 11.191764705882349, 'gini = 0.0\\nsamples = 68\\nvalue = [0, 0, 0, 0, 0, 0, 0, 0, 0, 0, 0, 68, 0, 0\\n0, 0, 0, 0, 0, 0, 0, 0, 0]'),\n",
       " Text(476.5438543247345, 11.191764705882349, 'gini = 0.0\\nsamples = 1\\nvalue = [0, 0, 0, 0, 0, 0, 0, 1, 0, 0, 0, 0, 0, 0\\n0, 0, 0, 0, 0, 0, 0, 0, 0]'),\n",
       " Text(480.60819423368747, 33.57529411764705, 'gini = 0.0\\nsamples = 99\\nvalue = [0, 0, 0, 0, 0, 0, 0, 0, 0, 0, 0, 99, 0, 0\\n0, 0, 0, 0, 0, 0, 0, 0, 0]'),\n",
       " Text(488.73687405159336, 78.34235294117644, 'X[1] <= 0.01\\ngini = 0.0\\nsamples = 4613\\nvalue = [0, 0, 0, 0, 0, 0, 0, 0, 0, 0, 0, 4612, 0, 0\\n0, 0, 1, 0, 0, 0, 0, 0, 0]'),\n",
       " Text(484.6725341426404, 55.958823529411745, 'gini = 0.0\\nsamples = 3490\\nvalue = [0, 0, 0, 0, 0, 0, 0, 0, 0, 0, 0, 3490, 0, 0\\n0, 0, 0, 0, 0, 0, 0, 0, 0]'),\n",
       " Text(492.80121396054636, 55.958823529411745, 'X[1] <= 0.01\\ngini = 0.002\\nsamples = 1123\\nvalue = [0, 0, 0, 0, 0, 0, 0, 0, 0, 0, 0, 1122, 0, 0\\n0, 0, 1, 0, 0, 0, 0, 0, 0]'),\n",
       " Text(488.73687405159336, 33.57529411764705, 'gini = 0.0\\nsamples = 1\\nvalue = [0, 0, 0, 0, 0, 0, 0, 0, 0, 0, 0, 0, 0, 0\\n0, 0, 1, 0, 0, 0, 0, 0, 0]'),\n",
       " Text(496.8655538694993, 33.57529411764705, 'gini = 0.0\\nsamples = 1122\\nvalue = [0, 0, 0, 0, 0, 0, 0, 0, 0, 0, 0, 1122, 0, 0\\n0, 0, 0, 0, 0, 0, 0, 0, 0]'),\n",
       " Text(500.92989377845225, 100.72588235294114, 'X[1] <= 0.085\\ngini = 0.008\\nsamples = 264\\nvalue = [0, 0, 0, 0, 0, 0, 0, 1, 0, 0, 0, 263, 0, 0\\n0, 0, 0, 0, 0, 0, 0, 0, 0]'),\n",
       " Text(496.8655538694993, 78.34235294117644, 'gini = 0.0\\nsamples = 239\\nvalue = [0, 0, 0, 0, 0, 0, 0, 0, 0, 0, 0, 239, 0, 0\\n0, 0, 0, 0, 0, 0, 0, 0, 0]'),\n",
       " Text(504.9942336874052, 78.34235294117644, 'X[1] <= 0.087\\ngini = 0.077\\nsamples = 25\\nvalue = [0, 0, 0, 0, 0, 0, 0, 1, 0, 0, 0, 24, 0, 0\\n0, 0, 0, 0, 0, 0, 0, 0, 0]'),\n",
       " Text(500.92989377845225, 55.958823529411745, 'gini = 0.0\\nsamples = 1\\nvalue = [0, 0, 0, 0, 0, 0, 0, 1, 0, 0, 0, 0, 0, 0\\n0, 0, 0, 0, 0, 0, 0, 0, 0]'),\n",
       " Text(509.0585735963582, 55.958823529411745, 'gini = 0.0\\nsamples = 24\\nvalue = [0, 0, 0, 0, 0, 0, 0, 0, 0, 0, 0, 24, 0, 0\\n0, 0, 0, 0, 0, 0, 0, 0, 0]'),\n",
       " Text(498.89772382397575, 123.1094117647059, 'gini = 0.0\\nsamples = 9171\\nvalue = [0, 0, 0, 0, 0, 0, 0, 0, 0, 0, 0, 9171, 0, 0\\n0, 0, 0, 0, 0, 0, 0, 0, 0]'),\n",
       " Text(522.2676783004553, 190.26, 'X[1] <= -0.032\\ngini = 0.005\\nsamples = 3889\\nvalue = [0, 1, 0, 0, 0, 0, 0, 0, 0, 0, 0, 3879, 0, 0\\n0, 0, 0, 0, 0, 0, 0, 8, 1]'),\n",
       " Text(518.2033383915024, 167.8764705882353, 'gini = 0.0\\nsamples = 2900\\nvalue = [0, 0, 0, 0, 0, 0, 0, 0, 0, 0, 0, 2900, 0, 0\\n0, 0, 0, 0, 0, 0, 0, 0, 0]'),\n",
       " Text(526.3320182094083, 167.8764705882353, 'X[1] <= -0.032\\ngini = 0.02\\nsamples = 989\\nvalue = [0, 1, 0, 0, 0, 0, 0, 0, 0, 0, 0, 979, 0, 0\\n0, 0, 0, 0, 0, 0, 0, 8, 1]'),\n",
       " Text(511.09074355083465, 145.49294117647057, 'X[0] <= -0.004\\ngini = 0.375\\nsamples = 8\\nvalue = [0, 0, 0, 0, 0, 0, 0, 0, 0, 0, 0, 2, 0, 0\\n0, 0, 0, 0, 0, 0, 0, 6, 0]'),\n",
       " Text(507.0264036418817, 123.1094117647059, 'gini = 0.0\\nsamples = 5\\nvalue = [0, 0, 0, 0, 0, 0, 0, 0, 0, 0, 0, 0, 0, 0\\n0, 0, 0, 0, 0, 0, 0, 5, 0]'),\n",
       " Text(515.1550834597876, 123.1094117647059, 'X[1] <= -0.032\\ngini = 0.444\\nsamples = 3\\nvalue = [0, 0, 0, 0, 0, 0, 0, 0, 0, 0, 0, 2, 0, 0\\n0, 0, 0, 0, 0, 0, 0, 1, 0]'),\n",
       " Text(511.09074355083465, 100.72588235294114, 'gini = 0.0\\nsamples = 2\\nvalue = [0, 0, 0, 0, 0, 0, 0, 0, 0, 0, 0, 2, 0, 0\\n0, 0, 0, 0, 0, 0, 0, 0, 0]'),\n",
       " Text(519.2194233687405, 100.72588235294114, 'gini = 0.0\\nsamples = 1\\nvalue = [0, 0, 0, 0, 0, 0, 0, 0, 0, 0, 0, 0, 0, 0\\n0, 0, 0, 0, 0, 0, 0, 1, 0]'),\n",
       " Text(541.5732928679819, 145.49294117647057, 'X[0] <= -0.004\\ngini = 0.008\\nsamples = 981\\nvalue = [0, 1, 0, 0, 0, 0, 0, 0, 0, 0, 0, 977, 0, 0\\n0, 0, 0, 0, 0, 0, 0, 2, 1]'),\n",
       " Text(537.5089529590289, 123.1094117647059, 'X[1] <= -0.032\\ngini = 0.006\\nsamples = 980\\nvalue = [0, 1, 0, 0, 0, 0, 0, 0, 0, 0, 0, 977, 0, 0\\n0, 0, 0, 0, 0, 0, 0, 1, 1]'),\n",
       " Text(527.3481031866465, 100.72588235294114, 'X[1] <= -0.032\\ngini = 0.375\\nsamples = 4\\nvalue = [0, 0, 0, 0, 0, 0, 0, 0, 0, 0, 0, 3, 0, 0\\n0, 0, 0, 0, 0, 0, 0, 1, 0]'),\n",
       " Text(523.2837632776935, 78.34235294117644, 'gini = 0.0\\nsamples = 3\\nvalue = [0, 0, 0, 0, 0, 0, 0, 0, 0, 0, 0, 3, 0, 0\\n0, 0, 0, 0, 0, 0, 0, 0, 0]'),\n",
       " Text(531.4124430955994, 78.34235294117644, 'gini = 0.0\\nsamples = 1\\nvalue = [0, 0, 0, 0, 0, 0, 0, 0, 0, 0, 0, 0, 0, 0\\n0, 0, 0, 0, 0, 0, 0, 1, 0]'),\n",
       " Text(547.6698027314113, 100.72588235294114, 'X[0] <= -0.004\\ngini = 0.004\\nsamples = 976\\nvalue = [0, 1, 0, 0, 0, 0, 0, 0, 0, 0, 0, 974, 0, 0\\n0, 0, 0, 0, 0, 0, 0, 0, 1]'),\n",
       " Text(539.5411229135053, 78.34235294117644, 'X[1] <= 1.006\\ngini = 0.002\\nsamples = 971\\nvalue = [0, 1, 0, 0, 0, 0, 0, 0, 0, 0, 0, 970, 0, 0\\n0, 0, 0, 0, 0, 0, 0, 0, 0]'),\n",
       " Text(535.4767830045524, 55.958823529411745, 'gini = 0.0\\nsamples = 925\\nvalue = [0, 0, 0, 0, 0, 0, 0, 0, 0, 0, 0, 925, 0, 0\\n0, 0, 0, 0, 0, 0, 0, 0, 0]'),\n",
       " Text(543.6054628224583, 55.958823529411745, 'X[1] <= 1.16\\ngini = 0.043\\nsamples = 46\\nvalue = [0, 1, 0, 0, 0, 0, 0, 0, 0, 0, 0, 45, 0, 0\\n0, 0, 0, 0, 0, 0, 0, 0, 0]'),\n",
       " Text(539.5411229135053, 33.57529411764705, 'gini = 0.0\\nsamples = 1\\nvalue = [0, 1, 0, 0, 0, 0, 0, 0, 0, 0, 0, 0, 0, 0\\n0, 0, 0, 0, 0, 0, 0, 0, 0]'),\n",
       " Text(547.6698027314113, 33.57529411764705, 'gini = 0.0\\nsamples = 45\\nvalue = [0, 0, 0, 0, 0, 0, 0, 0, 0, 0, 0, 45, 0, 0\\n0, 0, 0, 0, 0, 0, 0, 0, 0]'),\n",
       " Text(555.7984825493172, 78.34235294117644, 'X[1] <= -0.01\\ngini = 0.32\\nsamples = 5\\nvalue = [0, 0, 0, 0, 0, 0, 0, 0, 0, 0, 0, 4, 0, 0\\n0, 0, 0, 0, 0, 0, 0, 0, 1]'),\n",
       " Text(551.7341426403642, 55.958823529411745, 'gini = 0.0\\nsamples = 1\\nvalue = [0, 0, 0, 0, 0, 0, 0, 0, 0, 0, 0, 0, 0, 0\\n0, 0, 0, 0, 0, 0, 0, 0, 1]'),\n",
       " Text(559.8628224582702, 55.958823529411745, 'gini = 0.0\\nsamples = 4\\nvalue = [0, 0, 0, 0, 0, 0, 0, 0, 0, 0, 0, 4, 0, 0\\n0, 0, 0, 0, 0, 0, 0, 0, 0]'),\n",
       " Text(545.6376327769348, 123.1094117647059, 'gini = 0.0\\nsamples = 1\\nvalue = [0, 0, 0, 0, 0, 0, 0, 0, 0, 0, 0, 0, 0, 0\\n0, 0, 0, 0, 0, 0, 0, 1, 0]'),\n",
       " Text(534.4606980273142, 212.6435294117647, 'X[1] <= -0.03\\ngini = 0.044\\nsamples = 759\\nvalue = [0, 0, 0, 0, 0, 0, 0, 0, 0, 0, 0, 742, 0, 0\\n0, 0, 0, 0, 0, 0, 0, 17, 0]'),\n",
       " Text(530.3963581183613, 190.26, 'gini = 0.0\\nsamples = 715\\nvalue = [0, 0, 0, 0, 0, 0, 0, 0, 0, 0, 0, 715, 0, 0\\n0, 0, 0, 0, 0, 0, 0, 0, 0]'),\n",
       " Text(538.5250379362672, 190.26, 'X[1] <= -0.008\\ngini = 0.474\\nsamples = 44\\nvalue = [0, 0, 0, 0, 0, 0, 0, 0, 0, 0, 0, 27, 0, 0\\n0, 0, 0, 0, 0, 0, 0, 17, 0]'),\n",
       " Text(534.4606980273142, 167.8764705882353, 'gini = 0.0\\nsamples = 17\\nvalue = [0, 0, 0, 0, 0, 0, 0, 0, 0, 0, 0, 0, 0, 0\\n0, 0, 0, 0, 0, 0, 0, 17, 0]'),\n",
       " Text(542.58937784522, 167.8764705882353, 'gini = 0.0\\nsamples = 27\\nvalue = [0, 0, 0, 0, 0, 0, 0, 0, 0, 0, 0, 27, 0, 0\\n0, 0, 0, 0, 0, 0, 0, 0, 0]'),\n",
       " Text(609.2699544764796, 257.4105882352941, 'X[1] <= -0.021\\ngini = 0.109\\nsamples = 4050\\nvalue = [18, 14, 0, 0, 3, 0, 0, 0, 1, 0, 0, 3819, 0\\n0, 0, 0, 1, 1, 0, 0, 0, 193, 0]'),\n",
       " Text(584.2488619119879, 235.0270588235294, 'X[0] <= 0.012\\ngini = 0.003\\nsamples = 3761\\nvalue = [4, 0, 0, 0, 1, 0, 0, 0, 0, 0, 0, 3755, 0, 0\\n0, 0, 0, 1, 0, 0, 0, 0, 0]'),\n",
       " Text(580.184522003035, 212.6435294117647, 'X[1] <= -0.047\\ngini = 0.003\\nsamples = 3760\\nvalue = [3, 0, 0, 0, 1, 0, 0, 0, 0, 0, 0, 3755, 0, 0\\n0, 0, 0, 1, 0, 0, 0, 0, 0]'),\n",
       " Text(567.9915022761761, 190.26, 'X[1] <= -0.048\\ngini = 0.5\\nsamples = 2\\nvalue = [0, 0, 0, 0, 1, 0, 0, 0, 0, 0, 0, 1, 0, 0\\n0, 0, 0, 0, 0, 0, 0, 0, 0]'),\n",
       " Text(563.9271623672231, 167.8764705882353, 'gini = 0.0\\nsamples = 1\\nvalue = [0, 0, 0, 0, 0, 0, 0, 0, 0, 0, 0, 1, 0, 0\\n0, 0, 0, 0, 0, 0, 0, 0, 0]'),\n",
       " Text(572.055842185129, 167.8764705882353, 'gini = 0.0\\nsamples = 1\\nvalue = [0, 0, 0, 0, 1, 0, 0, 0, 0, 0, 0, 0, 0, 0\\n0, 0, 0, 0, 0, 0, 0, 0, 0]'),\n",
       " Text(592.3775417298939, 190.26, 'X[0] <= 0.006\\ngini = 0.002\\nsamples = 3758\\nvalue = [3, 0, 0, 0, 0, 0, 0, 0, 0, 0, 0, 3754, 0, 0\\n0, 0, 0, 1, 0, 0, 0, 0, 0]'),\n",
       " Text(580.184522003035, 167.8764705882353, 'X[1] <= -0.028\\ngini = 0.001\\nsamples = 3750\\nvalue = [1, 0, 0, 0, 0, 0, 0, 0, 0, 0, 0, 3748, 0, 0\\n0, 0, 0, 1, 0, 0, 0, 0, 0]'),\n",
       " Text(567.9915022761761, 145.49294117647057, 'X[1] <= -0.044\\ngini = 0.001\\nsamples = 3726\\nvalue = [0, 0, 0, 0, 0, 0, 0, 0, 0, 0, 0, 3725, 0, 0\\n0, 0, 0, 1, 0, 0, 0, 0, 0]'),\n",
       " Text(563.9271623672231, 123.1094117647059, 'gini = 0.0\\nsamples = 3143\\nvalue = [0, 0, 0, 0, 0, 0, 0, 0, 0, 0, 0, 3143, 0, 0\\n0, 0, 0, 0, 0, 0, 0, 0, 0]'),\n",
       " Text(572.055842185129, 123.1094117647059, 'X[1] <= -0.044\\ngini = 0.003\\nsamples = 583\\nvalue = [0, 0, 0, 0, 0, 0, 0, 0, 0, 0, 0, 582, 0, 0\\n0, 0, 0, 1, 0, 0, 0, 0, 0]'),\n",
       " Text(567.9915022761761, 100.72588235294114, 'X[0] <= -0.004\\ngini = 0.133\\nsamples = 14\\nvalue = [0, 0, 0, 0, 0, 0, 0, 0, 0, 0, 0, 13, 0, 0\\n0, 0, 0, 1, 0, 0, 0, 0, 0]'),\n",
       " Text(563.9271623672231, 78.34235294117644, 'gini = 0.0\\nsamples = 8\\nvalue = [0, 0, 0, 0, 0, 0, 0, 0, 0, 0, 0, 8, 0, 0\\n0, 0, 0, 0, 0, 0, 0, 0, 0]'),\n",
       " Text(572.055842185129, 78.34235294117644, 'X[0] <= -0.004\\ngini = 0.278\\nsamples = 6\\nvalue = [0, 0, 0, 0, 0, 0, 0, 0, 0, 0, 0, 5, 0, 0\\n0, 0, 0, 1, 0, 0, 0, 0, 0]'),\n",
       " Text(567.9915022761761, 55.958823529411745, 'gini = 0.0\\nsamples = 1\\nvalue = [0, 0, 0, 0, 0, 0, 0, 0, 0, 0, 0, 0, 0, 0\\n0, 0, 0, 1, 0, 0, 0, 0, 0]'),\n",
       " Text(576.120182094082, 55.958823529411745, 'gini = 0.0\\nsamples = 5\\nvalue = [0, 0, 0, 0, 0, 0, 0, 0, 0, 0, 0, 5, 0, 0\\n0, 0, 0, 0, 0, 0, 0, 0, 0]'),\n",
       " Text(576.120182094082, 100.72588235294114, 'gini = 0.0\\nsamples = 569\\nvalue = [0, 0, 0, 0, 0, 0, 0, 0, 0, 0, 0, 569, 0, 0\\n0, 0, 0, 0, 0, 0, 0, 0, 0]'),\n",
       " Text(592.3775417298939, 145.49294117647057, 'X[1] <= -0.027\\ngini = 0.08\\nsamples = 24\\nvalue = [1, 0, 0, 0, 0, 0, 0, 0, 0, 0, 0, 23, 0, 0\\n0, 0, 0, 0, 0, 0, 0, 0, 0]'),\n",
       " Text(588.3132018209409, 123.1094117647059, 'X[0] <= 0.002\\ngini = 0.444\\nsamples = 3\\nvalue = [1, 0, 0, 0, 0, 0, 0, 0, 0, 0, 0, 2, 0, 0\\n0, 0, 0, 0, 0, 0, 0, 0, 0]'),\n",
       " Text(584.2488619119879, 100.72588235294114, 'gini = 0.0\\nsamples = 2\\nvalue = [0, 0, 0, 0, 0, 0, 0, 0, 0, 0, 0, 2, 0, 0\\n0, 0, 0, 0, 0, 0, 0, 0, 0]'),\n",
       " Text(592.3775417298939, 100.72588235294114, 'gini = 0.0\\nsamples = 1\\nvalue = [1, 0, 0, 0, 0, 0, 0, 0, 0, 0, 0, 0, 0, 0\\n0, 0, 0, 0, 0, 0, 0, 0, 0]'),\n",
       " Text(596.4418816388468, 123.1094117647059, 'gini = 0.0\\nsamples = 21\\nvalue = [0, 0, 0, 0, 0, 0, 0, 0, 0, 0, 0, 21, 0, 0\\n0, 0, 0, 0, 0, 0, 0, 0, 0]'),\n",
       " Text(604.5705614567527, 167.8764705882353, 'X[1] <= -0.028\\ngini = 0.375\\nsamples = 8\\nvalue = [2, 0, 0, 0, 0, 0, 0, 0, 0, 0, 0, 6, 0, 0\\n0, 0, 0, 0, 0, 0, 0, 0, 0]'),\n",
       " Text(600.5062215477998, 145.49294117647057, 'gini = 0.0\\nsamples = 6\\nvalue = [0, 0, 0, 0, 0, 0, 0, 0, 0, 0, 0, 6, 0, 0\\n0, 0, 0, 0, 0, 0, 0, 0, 0]'),\n",
       " Text(608.6349013657057, 145.49294117647057, 'gini = 0.0\\nsamples = 2\\nvalue = [2, 0, 0, 0, 0, 0, 0, 0, 0, 0, 0, 0, 0, 0\\n0, 0, 0, 0, 0, 0, 0, 0, 0]'),\n",
       " Text(588.3132018209409, 212.6435294117647, 'gini = 0.0\\nsamples = 1\\nvalue = [1, 0, 0, 0, 0, 0, 0, 0, 0, 0, 0, 0, 0, 0\\n0, 0, 0, 0, 0, 0, 0, 0, 0]'),\n",
       " Text(634.2910470409712, 235.0270588235294, 'X[1] <= -0.011\\ngini = 0.5\\nsamples = 289\\nvalue = [14, 14, 0, 0, 2, 0, 0, 0, 1, 0, 0, 64, 0, 0\\n0, 0, 1, 0, 0, 0, 0, 193, 0]'),\n",
       " Text(621.8440060698028, 212.6435294117647, 'X[1] <= -0.017\\ngini = 0.01\\nsamples = 194\\nvalue = [0, 1, 0, 0, 0, 0, 0, 0, 0, 0, 0, 0, 0, 0\\n0, 0, 0, 0, 0, 0, 0, 193, 0]'),\n",
       " Text(617.7796661608498, 190.26, 'gini = 0.0\\nsamples = 1\\nvalue = [0, 1, 0, 0, 0, 0, 0, 0, 0, 0, 0, 0, 0, 0\\n0, 0, 0, 0, 0, 0, 0, 0, 0]'),\n",
       " Text(625.9083459787557, 190.26, 'gini = 0.0\\nsamples = 193\\nvalue = [0, 0, 0, 0, 0, 0, 0, 0, 0, 0, 0, 0, 0, 0\\n0, 0, 0, 0, 0, 0, 0, 193, 0]'),\n",
       " Text(646.7380880121397, 212.6435294117647, 'X[0] <= 0.002\\ngini = 0.505\\nsamples = 95\\nvalue = [14, 13, 0, 0, 2, 0, 0, 0, 1, 0, 0, 64, 0, 0\\n0, 0, 1, 0, 0, 0, 0, 0, 0]'),\n",
       " Text(634.0370257966617, 190.26, 'X[1] <= -0.001\\ngini = 0.356\\nsamples = 79\\nvalue = [0, 13, 0, 0, 2, 0, 0, 0, 1, 0, 0, 62, 0, 0\\n0, 0, 1, 0, 0, 0, 0, 0, 0]'),\n",
       " Text(620.8279210925646, 167.8764705882353, 'X[1] <= -0.009\\ngini = 0.278\\nsamples = 6\\nvalue = [0, 5, 0, 0, 0, 0, 0, 0, 0, 0, 0, 1, 0, 0\\n0, 0, 0, 0, 0, 0, 0, 0, 0]'),\n",
       " Text(616.7635811836116, 145.49294117647057, 'gini = 0.0\\nsamples = 1\\nvalue = [0, 0, 0, 0, 0, 0, 0, 0, 0, 0, 0, 1, 0, 0\\n0, 0, 0, 0, 0, 0, 0, 0, 0]'),\n",
       " Text(624.8922610015176, 145.49294117647057, 'gini = 0.0\\nsamples = 5\\nvalue = [0, 5, 0, 0, 0, 0, 0, 0, 0, 0, 0, 0, 0, 0\\n0, 0, 0, 0, 0, 0, 0, 0, 0]'),\n",
       " Text(647.2461305007588, 167.8764705882353, 'X[0] <= -0.003\\ngini = 0.289\\nsamples = 73\\nvalue = [0, 8, 0, 0, 2, 0, 0, 0, 1, 0, 0, 61, 0, 0\\n0, 0, 1, 0, 0, 0, 0, 0, 0]'),\n",
       " Text(633.0209408194235, 145.49294117647057, 'X[1] <= 0.103\\ngini = 0.187\\nsamples = 50\\nvalue = [0, 1, 0, 0, 2, 0, 0, 0, 1, 0, 0, 45, 0, 0\\n0, 0, 1, 0, 0, 0, 0, 0, 0]'),\n",
       " Text(616.7635811836116, 123.1094117647059, 'X[0] <= -0.004\\ngini = 0.046\\nsamples = 42\\nvalue = [0, 1, 0, 0, 0, 0, 0, 0, 0, 0, 0, 41, 0, 0\\n0, 0, 0, 0, 0, 0, 0, 0, 0]'),\n",
       " Text(612.6992412746587, 100.72588235294114, 'gini = 0.0\\nsamples = 35\\nvalue = [0, 0, 0, 0, 0, 0, 0, 0, 0, 0, 0, 35, 0, 0\\n0, 0, 0, 0, 0, 0, 0, 0, 0]'),\n",
       " Text(620.8279210925646, 100.72588235294114, 'X[0] <= -0.004\\ngini = 0.245\\nsamples = 7\\nvalue = [0, 1, 0, 0, 0, 0, 0, 0, 0, 0, 0, 6, 0, 0\\n0, 0, 0, 0, 0, 0, 0, 0, 0]'),\n",
       " Text(616.7635811836116, 78.34235294117644, 'gini = 0.0\\nsamples = 1\\nvalue = [0, 1, 0, 0, 0, 0, 0, 0, 0, 0, 0, 0, 0, 0\\n0, 0, 0, 0, 0, 0, 0, 0, 0]'),\n",
       " Text(624.8922610015176, 78.34235294117644, 'gini = 0.0\\nsamples = 6\\nvalue = [0, 0, 0, 0, 0, 0, 0, 0, 0, 0, 0, 6, 0, 0\\n0, 0, 0, 0, 0, 0, 0, 0, 0]'),\n",
       " Text(649.2783004552352, 123.1094117647059, 'X[0] <= -0.004\\ngini = 0.656\\nsamples = 8\\nvalue = [0, 0, 0, 0, 2, 0, 0, 0, 1, 0, 0, 4, 0, 0\\n0, 0, 1, 0, 0, 0, 0, 0, 0]'),\n",
       " Text(637.0852807283763, 100.72588235294114, 'X[0] <= -0.004\\ngini = 0.444\\nsamples = 3\\nvalue = [0, 0, 0, 0, 2, 0, 0, 0, 1, 0, 0, 0, 0, 0\\n0, 0, 0, 0, 0, 0, 0, 0, 0]'),\n",
       " Text(633.0209408194235, 78.34235294117644, 'gini = 0.0\\nsamples = 1\\nvalue = [0, 0, 0, 0, 1, 0, 0, 0, 0, 0, 0, 0, 0, 0\\n0, 0, 0, 0, 0, 0, 0, 0, 0]'),\n",
       " Text(641.1496206373293, 78.34235294117644, 'X[0] <= -0.004\\ngini = 0.5\\nsamples = 2\\nvalue = [0, 0, 0, 0, 1, 0, 0, 0, 1, 0, 0, 0, 0, 0\\n0, 0, 0, 0, 0, 0, 0, 0, 0]'),\n",
       " Text(637.0852807283763, 55.958823529411745, 'gini = 0.0\\nsamples = 1\\nvalue = [0, 0, 0, 0, 0, 0, 0, 0, 1, 0, 0, 0, 0, 0\\n0, 0, 0, 0, 0, 0, 0, 0, 0]'),\n",
       " Text(645.2139605462824, 55.958823529411745, 'gini = 0.0\\nsamples = 1\\nvalue = [0, 0, 0, 0, 1, 0, 0, 0, 0, 0, 0, 0, 0, 0\\n0, 0, 0, 0, 0, 0, 0, 0, 0]'),\n",
       " Text(661.4713201820941, 100.72588235294114, 'X[0] <= -0.004\\ngini = 0.32\\nsamples = 5\\nvalue = [0, 0, 0, 0, 0, 0, 0, 0, 0, 0, 0, 4, 0, 0\\n0, 0, 1, 0, 0, 0, 0, 0, 0]'),\n",
       " Text(657.4069802731412, 78.34235294117644, 'X[1] <= 0.223\\ngini = 0.5\\nsamples = 2\\nvalue = [0, 0, 0, 0, 0, 0, 0, 0, 0, 0, 0, 1, 0, 0\\n0, 0, 1, 0, 0, 0, 0, 0, 0]'),\n",
       " Text(653.3426403641882, 55.958823529411745, 'gini = 0.0\\nsamples = 1\\nvalue = [0, 0, 0, 0, 0, 0, 0, 0, 0, 0, 0, 1, 0, 0\\n0, 0, 0, 0, 0, 0, 0, 0, 0]'),\n",
       " Text(661.4713201820941, 55.958823529411745, 'gini = 0.0\\nsamples = 1\\nvalue = [0, 0, 0, 0, 0, 0, 0, 0, 0, 0, 0, 0, 0, 0\\n0, 0, 1, 0, 0, 0, 0, 0, 0]'),\n",
       " Text(665.5356600910471, 78.34235294117644, 'gini = 0.0\\nsamples = 3\\nvalue = [0, 0, 0, 0, 0, 0, 0, 0, 0, 0, 0, 3, 0, 0\\n0, 0, 0, 0, 0, 0, 0, 0, 0]'),\n",
       " Text(661.4713201820941, 145.49294117647057, 'X[1] <= 0.05\\ngini = 0.423\\nsamples = 23\\nvalue = [0, 7, 0, 0, 0, 0, 0, 0, 0, 0, 0, 16, 0, 0\\n0, 0, 0, 0, 0, 0, 0, 0, 0]'),\n",
       " Text(657.4069802731412, 123.1094117647059, 'gini = 0.0\\nsamples = 7\\nvalue = [0, 7, 0, 0, 0, 0, 0, 0, 0, 0, 0, 0, 0, 0\\n0, 0, 0, 0, 0, 0, 0, 0, 0]'),\n",
       " Text(665.5356600910471, 123.1094117647059, 'gini = 0.0\\nsamples = 16\\nvalue = [0, 0, 0, 0, 0, 0, 0, 0, 0, 0, 0, 16, 0, 0\\n0, 0, 0, 0, 0, 0, 0, 0, 0]'),\n",
       " Text(659.4391502276177, 190.26, 'X[1] <= 0.167\\ngini = 0.219\\nsamples = 16\\nvalue = [14, 0, 0, 0, 0, 0, 0, 0, 0, 0, 0, 2, 0, 0\\n0, 0, 0, 0, 0, 0, 0, 0, 0]'),\n",
       " Text(655.3748103186647, 167.8764705882353, 'gini = 0.0\\nsamples = 14\\nvalue = [14, 0, 0, 0, 0, 0, 0, 0, 0, 0, 0, 0, 0, 0\\n0, 0, 0, 0, 0, 0, 0, 0, 0]'),\n",
       " Text(663.5034901365707, 167.8764705882353, 'gini = 0.0\\nsamples = 2\\nvalue = [0, 0, 0, 0, 0, 0, 0, 0, 0, 0, 0, 2, 0, 0\\n0, 0, 0, 0, 0, 0, 0, 0, 0]'),\n",
       " Text(639.7525037936268, 324.56117647058824, 'X[0] <= 0.025\\ngini = 0.304\\nsamples = 690\\nvalue = [569, 0, 0, 0, 0, 0, 0, 0, 0, 0, 0, 77, 0, 0\\n0, 1, 0, 0, 0, 0, 0, 43, 0]'),\n",
       " Text(629.5916540212444, 302.1776470588235, 'X[1] <= -0.036\\ngini = 0.014\\nsamples = 573\\nvalue = [569, 0, 0, 0, 0, 0, 0, 0, 0, 0, 0, 4, 0, 0\\n0, 0, 0, 0, 0, 0, 0, 0, 0]'),\n",
       " Text(621.4629742033385, 279.7941176470588, 'X[0] <= 0.021\\ngini = 0.375\\nsamples = 4\\nvalue = [1, 0, 0, 0, 0, 0, 0, 0, 0, 0, 0, 3, 0, 0\\n0, 0, 0, 0, 0, 0, 0, 0, 0]'),\n",
       " Text(617.3986342943855, 257.4105882352941, 'gini = 0.0\\nsamples = 1\\nvalue = [1, 0, 0, 0, 0, 0, 0, 0, 0, 0, 0, 0, 0, 0\\n0, 0, 0, 0, 0, 0, 0, 0, 0]'),\n",
       " Text(625.5273141122914, 257.4105882352941, 'gini = 0.0\\nsamples = 3\\nvalue = [0, 0, 0, 0, 0, 0, 0, 0, 0, 0, 0, 3, 0, 0\\n0, 0, 0, 0, 0, 0, 0, 0, 0]'),\n",
       " Text(637.7203338391503, 279.7941176470588, 'X[1] <= 0.359\\ngini = 0.004\\nsamples = 569\\nvalue = [568, 0, 0, 0, 0, 0, 0, 0, 0, 0, 0, 1, 0, 0\\n0, 0, 0, 0, 0, 0, 0, 0, 0]'),\n",
       " Text(633.6559939301974, 257.4105882352941, 'gini = 0.0\\nsamples = 568\\nvalue = [568, 0, 0, 0, 0, 0, 0, 0, 0, 0, 0, 0, 0, 0\\n0, 0, 0, 0, 0, 0, 0, 0, 0]'),\n",
       " Text(641.7846737481033, 257.4105882352941, 'gini = 0.0\\nsamples = 1\\nvalue = [0, 0, 0, 0, 0, 0, 0, 0, 0, 0, 0, 1, 0, 0\\n0, 0, 0, 0, 0, 0, 0, 0, 0]'),\n",
       " Text(649.9133535660092, 302.1776470588235, 'X[0] <= 1.869\\ngini = 0.476\\nsamples = 117\\nvalue = [0, 0, 0, 0, 0, 0, 0, 0, 0, 0, 0, 73, 0, 0\\n0, 1, 0, 0, 0, 0, 0, 43, 0]'),\n",
       " Text(645.8490136570563, 279.7941176470588, 'gini = 0.0\\nsamples = 73\\nvalue = [0, 0, 0, 0, 0, 0, 0, 0, 0, 0, 0, 73, 0, 0\\n0, 0, 0, 0, 0, 0, 0, 0, 0]'),\n",
       " Text(653.9776934749622, 279.7941176470588, 'X[0] <= 178.631\\ngini = 0.044\\nsamples = 44\\nvalue = [0, 0, 0, 0, 0, 0, 0, 0, 0, 0, 0, 0, 0, 0\\n0, 1, 0, 0, 0, 0, 0, 43, 0]'),\n",
       " Text(649.9133535660092, 257.4105882352941, 'gini = 0.0\\nsamples = 43\\nvalue = [0, 0, 0, 0, 0, 0, 0, 0, 0, 0, 0, 0, 0, 0\\n0, 0, 0, 0, 0, 0, 0, 43, 0]'),\n",
       " Text(658.042033383915, 257.4105882352941, 'gini = 0.0\\nsamples = 1\\nvalue = [0, 0, 0, 0, 0, 0, 0, 0, 0, 0, 0, 0, 0, 0\\n0, 1, 0, 0, 0, 0, 0, 0, 0]')]"
      ]
     },
     "execution_count": 83,
     "metadata": {},
     "output_type": "execute_result"
    },
    {
     "data": {
      "image/png": "[encoded data removed]",
      "text/plain": [
       "<Figure size 864x504 with 1 Axes>"
      ]
     },
     "metadata": {},
     "output_type": "display_data"
    }
   ],
   "source": [
    "from sklearn import tree\n",
    "plt.figure(figsize=(12,7))\n",
    "tree.plot_tree(ct, filled=True, fontsize=12)"
   ]
  },
  {
   "cell_type": "code",
   "execution_count": 84,
   "id": "02282523",
   "metadata": {},
   "outputs": [],
   "source": [
    "from sklearn.ensemble import RandomForestClassifier\n",
    "from sklearn.metrics import mean_absolute_error"
   ]
  },
  {
   "cell_type": "code",
   "execution_count": 85,
   "id": "edfb338c",
   "metadata": {},
   "outputs": [
    {
     "name": "stderr",
     "output_type": "stream",
     "text": [
      "C:\\Users\\user\\AppData\\Local\\Temp/ipykernel_11656/716668125.py:2: DataConversionWarning: A column-vector y was passed when a 1d array was expected. Please change the shape of y to (n_samples,), for example using ravel().\n",
      "  clf.fit(X_train, Y_train)\n"
     ]
    },
    {
     "data": {
      "text/plain": [
       "RandomForestClassifier()"
      ]
     },
     "execution_count": 85,
     "metadata": {},
     "output_type": "execute_result"
    }
   ],
   "source": [
    "clf=RandomForestClassifier(n_estimators=100)\n",
    "clf.fit(X_train, Y_train)"
   ]
  },
  {
   "cell_type": "code",
   "execution_count": 86,
   "id": "655ba63a",
   "metadata": {},
   "outputs": [
    {
     "name": "stdout",
     "output_type": "stream",
     "text": [
      "[ 0 11  9 ... 17 11 11]\n",
      "MAE: 0.132\n"
     ]
    }
   ],
   "source": [
    "Yhat = clf.predict(X_test)\n",
    "print (Yhat)\n",
    "# evaluate predictions\n",
    "mae = mean_absolute_error(Y_test, Yhat)\n",
    "print('MAE: %.3f' % mae)"
   ]
  },
  {
   "cell_type": "code",
   "execution_count": 87,
   "id": "d33ba5fc",
   "metadata": {},
   "outputs": [],
   "source": [
    "Y_pred=clf.predict(X_test)"
   ]
  },
  {
   "cell_type": "code",
   "execution_count": 88,
   "id": "9b79c42f",
   "metadata": {},
   "outputs": [],
   "source": [
    "from sklearn.metrics import accuracy_score"
   ]
  },
  {
   "cell_type": "code",
   "execution_count": 89,
   "id": "102f2e14",
   "metadata": {},
   "outputs": [
    {
     "data": {
      "text/plain": [
       "0.9552069302485275"
      ]
     },
     "execution_count": 89,
     "metadata": {},
     "output_type": "execute_result"
    }
   ],
   "source": [
    "accuracy_score(Y_test, Y_pred)"
   ]
  },
  {
   "cell_type": "code",
   "execution_count": 90,
   "id": "8189e4ba",
   "metadata": {},
   "outputs": [
    {
     "data": {
      "text/plain": [
       "srcbytes    0.641425\n",
       "dstbytes    0.358575\n",
       "dtype: float64"
      ]
     },
     "execution_count": 90,
     "metadata": {},
     "output_type": "execute_result"
    }
   ],
   "source": [
    "import pandas as pd\n",
    "feature_imp = pd.Series(clf.feature_importances_,index =['srcbytes','dstbytes']).sort_values(ascending=False)\n",
    "feature_imp"
   ]
  },
  {
   "cell_type": "code",
   "execution_count": 91,
   "id": "f31c762b",
   "metadata": {},
   "outputs": [
    {
     "data": {
      "text/plain": [
       "<AxesSubplot:>"
      ]
     },
     "execution_count": 91,
     "metadata": {},
     "output_type": "execute_result"
    },
    {
     "data": {
      "text/plain": [
       "Text(0.5, 0, 'Feature Importance Score')"
      ]
     },
     "execution_count": 91,
     "metadata": {},
     "output_type": "execute_result"
    },
    {
     "data": {
      "text/plain": [
       "Text(0, 0.5, 'Features')"
      ]
     },
     "execution_count": 91,
     "metadata": {},
     "output_type": "execute_result"
    },
    {
     "data": {
      "text/plain": [
       "Text(0.5, 1.0, 'Visualizing Important Features')"
      ]
     },
     "execution_count": 91,
     "metadata": {},
     "output_type": "execute_result"
    },
    {
     "name": "stderr",
     "output_type": "stream",
     "text": [
      "No handles with labels found to put in legend.\n"
     ]
    },
    {
     "data": {
      "text/plain": [
       "<matplotlib.legend.Legend at 0x1a4b0463880>"
      ]
     },
     "execution_count": 91,
     "metadata": {},
     "output_type": "execute_result"
    },
    {
     "data": {
      "image/png": "[encoded data removed]",
      "text/plain": [
       "<Figure size 432x288 with 1 Axes>"
      ]
     },
     "metadata": {
      "needs_background": "light"
     },
     "output_type": "display_data"
    }
   ],
   "source": [
    "#visualizing feature importance results\n",
    "import matplotlib.pyplot as plt\n",
    "import seaborn as sns\n",
    "%matplotlib inline\n",
    "# Creating a bar plot\n",
    "sns.barplot(x=feature_imp, y=feature_imp.index)\n",
    "# Add labels to your graph\n",
    "plt.xlabel('Feature Importance Score')\n",
    "plt.ylabel('Features')\n",
    "plt.title(\"Visualizing Important Features\")\n",
    "plt.legend()\n",
    "plt.show()"
   ]
  },
  {
   "cell_type": "code",
   "execution_count": 92,
   "id": "3d5bde9f",
   "metadata": {},
   "outputs": [],
   "source": [
    "#Random Forrest gives highest accuracy"
   ]
  }
 ],
 "metadata": {
  "kernelspec": {
   "display_name": "Python 3 (ipykernel)",
   "language": "python",
   "name": "python3"
  },
  "language_info": {
   "codemirror_mode": {
    "name": "ipython",
    "version": 3
   },
   "file_extension": ".py",
   "mimetype": "text/x-python",
   "name": "python",
   "nbconvert_exporter": "python",
   "pygments_lexer": "ipython3",
   "version": "3.9.7"
  }
 },
 "nbformat": 4,
 "nbformat_minor": 5
}
